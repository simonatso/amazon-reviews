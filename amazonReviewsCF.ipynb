{
  "nbformat": 4,
  "nbformat_minor": 0,
  "metadata": {
    "colab": {
      "name": "amazonReviewsCF.ipynb",
      "provenance": [],
      "collapsed_sections": [],
      "mount_file_id": "1nbFHFERFTYjIvuyZp2VaJWKNA_DLpt_W",
      "authorship_tag": "ABX9TyN0fTcgXOXJ0ncy2GjzujpG",
      "include_colab_link": true
    },
    "kernelspec": {
      "name": "python3",
      "display_name": "Python 3"
    },
    "language_info": {
      "name": "python"
    }
  },
  "cells": [
    {
      "cell_type": "markdown",
      "metadata": {
        "id": "view-in-github",
        "colab_type": "text"
      },
      "source": [
        "<a href=\"https://colab.research.google.com/github/simonatso/amazon-reviews/blob/main/amazonReviewsCF.ipynb\" target=\"_parent\"><img src=\"https://colab.research.google.com/assets/colab-badge.svg\" alt=\"Open In Colab\"/></a>"
      ]
    },
    {
      "cell_type": "code",
      "metadata": {
        "id": "gMZBXaqvAy9T"
      },
      "source": [
        "!apt-get install openjdk-8-jdk-headless -qq > /dev/null\n",
        "!wget -q https://www-us.apache.org/dist/spark/spark-3.1.2/spark-3.1.2-bin-hadoop3.2.tgz\n",
        "!tar xf spark-3.1.2-bin-hadoop3.2.tgz\n",
        "!pip install -q findspark"
      ],
      "execution_count": null,
      "outputs": []
    },
    {
      "cell_type": "code",
      "metadata": {
        "id": "f6rvH76JTC7y"
      },
      "source": [
        "import os\n",
        "os.environ[\"JAVA_HOME\"] = \"/usr/lib/jvm/java-8-openjdk-amd64\"\n",
        "os.environ[\"SPARK_HOME\"] = \"/content/spark-3.1.2-bin-hadoop3.2\""
      ],
      "execution_count": null,
      "outputs": []
    },
    {
      "cell_type": "code",
      "metadata": {
        "id": "Esb1QhlqTOLJ"
      },
      "source": [
        "import findspark\n",
        "findspark.init()"
      ],
      "execution_count": null,
      "outputs": []
    },
    {
      "cell_type": "code",
      "metadata": {
        "colab": {
          "base_uri": "https://localhost:8080/",
          "height": 37
        },
        "id": "v60F06p0TS6D",
        "outputId": "ac1eaf1f-d7c4-4a80-b867-6666a707e55c"
      },
      "source": [
        "findspark.find()"
      ],
      "execution_count": null,
      "outputs": [
        {
          "output_type": "execute_result",
          "data": {
            "application/vnd.google.colaboratory.intrinsic+json": {
              "type": "string"
            },
            "text/plain": [
              "'/content/spark-3.1.2-bin-hadoop3.2'"
            ]
          },
          "metadata": {
            "tags": []
          },
          "execution_count": 4
        }
      ]
    },
    {
      "cell_type": "code",
      "metadata": {
        "id": "_qbdYTfqxi6J"
      },
      "source": [
        "from pyspark.sql import SparkSession\n",
        "spark = SparkSession.builder.appName('Recommendations').getOrCreate()\n",
        "from pyspark.ml.evaluation import RegressionEvaluator\n",
        "from pyspark.ml.recommendation import ALS\n",
        "from pyspark.ml.tuning import ParamGridBuilder, CrossValidator\n",
        "from pyspark.ml.feature import StringIndexer, IndexToString\n",
        "from pyspark.ml import Pipeline\n",
        "from pyspark.sql.types import IntegerType\n",
        "from pyspark.sql.functions import explode, col"
      ],
      "execution_count": null,
      "outputs": []
    },
    {
      "cell_type": "code",
      "metadata": {
        "id": "BaFZdV3d2WLN"
      },
      "source": [
        "metaPath = '/content/drive/MyDrive/Springboard/Amazon Reviews Data/meta_Magazine_Subscriptions.json'\n",
        "reviewPath = '/content/drive/MyDrive/Springboard/Amazon Reviews Data/Magazine_Subscriptions.json'\n",
        "\n",
        "metaDF = spark.read.json(metaPath)\n",
        "reviewDF = spark.read.json(reviewPath)\n"
      ],
      "execution_count": null,
      "outputs": []
    },
    {
      "cell_type": "code",
      "metadata": {
        "colab": {
          "base_uri": "https://localhost:8080/"
        },
        "id": "5xcPttH2FgzC",
        "outputId": "df1553fc-8a29-4170-b997-3e91b0057624"
      },
      "source": [
        "metaDF.show()"
      ],
      "execution_count": null,
      "outputs": [
        {
          "output_type": "stream",
          "text": [
            "+--------------------+--------------------+----------+--------------------+--------------------+----+--------------------+--------------------+-------+---+--------------------+--------------------+--------------------+-----+--------------------+------------+-----+-----+--------------------+\n",
            "|            also_buy|           also_view|      asin|               brand|            category|date|         description|             details|feature|fit|            imageURL|     imageURLHighRes|            main_cat|price|                rank|similar_item|tech1|tech2|               title|\n",
            "+--------------------+--------------------+----------+--------------------+--------------------+----+--------------------+--------------------+-------+---+--------------------+--------------------+--------------------+-----+--------------------+------------+-----+-----+--------------------+\n",
            "|[B002PXVYLE, B01M...|[B002PXVYLE, B000...|B00005N7NQ|     Reason Magazine|[Magazine Subscri...|    |[REASON is edited...|{B00005N7NQ, Prin...|     []|   |[https://images-n...|[https://images-n...|Magazine Subscrip...|     |                  []|            |     |     |<span class=\"a-si...|\n",
            "|[B002PXVYGE, B005...|[B002PXVYGE, B005...|B00005N7OC|String Letter Pub...|[Magazine Subscri...|    |[Written by and f...|{B00005N7OC, Prin...|     []|   |[https://images-n...|[https://images-n...|Magazine Subscrip...|     |742 in Magazine S...|            |     |     |<span class=\"a-si...|\n",
            "|[B001THPA4O, B002...|[B002PXVZWW, B001...|B00005N7OD|Conde Nast Public...|[Magazine Subscri...|    |[Allure is the be...|{B00005N7OD, Prin...|     []|   |[https://images-n...|[https://images-n...|Magazine Subscrip...|     |                  []|            |     |     |<span class=\"a-si...|\n",
            "|[B07JVF7QW4, B00A...|[B002G551F6, B00A...|B00005N7O9|   AirAge Publishing|[Magazine Subscri...|    |[FLIGHT JOURNAL i...|{B00005N7O9, Prin...|     []|   |[https://images-n...|[https://images-n...|Magazine Subscrip...|     |                  []|            |     |     |<span class=\"a-si...|\n",
            "|[B002PXVYD2, B01B...|[B01BM7TOU6, B000...|B00005N7O6|EPG Media & Speci...|[Magazine Subscri...|    |[RIDER is publish...|{B00005N7O6, Prin...|     []|   |[https://images-n...|[https://images-n...|Magazine Subscrip...|     |                  []|            |     |     |<span class=\"a-si...|\n",
            "|                  []|[B078Y58XM8, B07K...|B00005N7P0|     Future US, Inc.|[Magazine Subscri...|    |[MAXIMUM PC is th...|{B00005N7P0, Prin...|     []|   |[https://images-n...|[https://images-n...|Magazine Subscrip...|     |                  []|            |     |     |<span class=\"a-si...|\n",
            "|                  []|[B0029XHGRQ, B002...|B00005N7QG|    Hearst Magazines|[Magazine Subscri...|    |[Good Housekeepin...|{B00005N7QG, Prin...|     []|   |[https://images-n...|[https://images-n...|Magazine Subscrip...|     |                  []|            |     |     |<span class=\"a-si...|\n",
            "|[B003I7HS3Y, B001...|[B001TP73TG, B003...|B00005N7PI|    Consumer Reports|[Magazine Subscri...|    |[Get expert, unbi...|{B00005N7PI, Prin...|     []|   |[https://images-n...|[https://images-n...|Magazine Subscrip...|     |                  []|            |     |     |<span class=\"a-si...|\n",
            "|[B001684M22, B000...|[B001684M22, B004...|B00005N7OP|         ARTnews LLC|[Magazine Subscri...|    |[This magazine re...|{B00005N7OP, Prin...|     []|   |[https://images-n...|[https://images-n...|Magazine Subscrip...|     |                  []|            |     |     |<span class=\"a-si...|\n",
            "|[B002CT512O, B002...|[B002PXVYGO, B003...|B00005N7Q5| Bonnier Corpiration|[Magazine Subscri...|    |[America's Number...|{B00005N7Q5, Prin...|     []|   |[https://images-n...|[https://images-n...|Magazine Subscrip...|     |                  []|            |     |     |<span class=\"a-si...|\n",
            "|[B001THPA1W, B002...|[B0029XHGRQ, B002...|B00005N7PN|    Hearst Magazines|[Magazine Subscri...|    |[Country Living i...|{B00005N7PN, Prin...|     []|   |[https://images-n...|[https://images-n...|Magazine Subscrip...|     |                  []|            |     |     |<span class=\"a-si...|\n",
            "|[B00006J9HV, B001...|[B00NF17DJC, B000...|B00005N7QD|Conde Nast Public...|[Magazine Subscri...|    |[Golf Digest is t...|{B00005N7QD, Prin...|     []|   |[https://images-n...|[https://images-n...|Magazine Subscrip...|     |                  []|            |     |     |<span class=\"a-si...|\n",
            "|[B003K195WA, B002...|                  []|B00005N7O3|Grand View Media ...|[Magazine Subscri...|    |[The Archery Equi...|{B00005N7O3, Prin...|     []|   |[https://images-n...|[https://images-n...|Magazine Subscrip...|     |                  []|            |     |     |<span class=\"a-si...|\n",
            "|[B002PXVYVE, B000...|[B00007AZWJ, B002...|B00005N7PG|Conde Nast Public...|[Magazine Subscri...|    |[Cond Nast Travel...|{B00005N7PG, Prin...|     []|   |[https://images-n...|[https://images-n...|Magazine Subscrip...|     |                  []|            |     |     |<span class=\"a-si...|\n",
            "|[B00Y05PFX8, B01F...|                  []|B00005N7QY|Grass Roots Publi...|[Magazine Subscri...|    |[Mischievous, fas...|{B00005N7QY, Prin...|     []|   |[https://images-n...|[https://images-n...|Magazine Subscrip...|     |                  []|            |     |     |<span class=\"a-si...|\n",
            "|[B002PXW0EY, B000...|[B00005N7R5, B07K...|B00005N7PH|    Consumer Reports|[Magazine Subscri...|    |[Consumer Reports...|{B00005N7PH, Prin...|     []|   |[https://images-n...|[https://images-n...|Magazine Subscrip...|     |                  []|            |     |     |<span class=\"a-si...|\n",
            "|[B000UHI2LW, B00X...|[B000UHI2LW, B06X...|B00005N7QO|   Harper's Magazine|[Magazine Subscri...|    |[This magazine is...|{B00005N7QO, Prin...|     []|   |[https://images-n...|[https://images-n...|Magazine Subscrip...|     |                  []|            |     |     |<span class=\"a-si...|\n",
            "|[B079JCLP2G, B000...|        [B079JCLP2G]|B00005N7R7|    Emmis Publishing|[Magazine Subscri...|    |[Los Angeles maga...|{B00005N7R7, Prin...|     []|   |[https://images-n...|[https://images-n...|Magazine Subscrip...|     |                  []|            |     |     |<span class=\"a-si...|\n",
            "|[B017CIT05I, B001...|[1785211625, B00J...|B00005N7OA|   AirAge Publishing|[Magazine Subscri...|    |[Radio Control Ca...|{B00005N7OA, Prin...|     []|   |[https://images-n...|[https://images-n...|Magazine Subscrip...|     |                  []|            |     |     |<span class=\"a-si...|\n",
            "|                  []|                  []|B00005N7R0| Bonnier Corporation|[Magazine Subscri...|    |[This magazine fo...|{B002CT5174, Prin...|     []|   |[https://images-n...|[https://images-n...|Magazine Subscrip...|     |                  []|            |     |     |<span class=\"a-si...|\n",
            "+--------------------+--------------------+----------+--------------------+--------------------+----+--------------------+--------------------+-------+---+--------------------+--------------------+--------------------+-----+--------------------+------------+-----+-----+--------------------+\n",
            "only showing top 20 rows\n",
            "\n"
          ],
          "name": "stdout"
        }
      ]
    },
    {
      "cell_type": "code",
      "metadata": {
        "colab": {
          "base_uri": "https://localhost:8080/"
        },
        "id": "BaV1a43wFw-k",
        "outputId": "e62ecf26-7ef7-4824-e59f-022f09baea2d"
      },
      "source": [
        "reviewDF.show()"
      ],
      "execution_count": null,
      "outputs": [
        {
          "output_type": "stream",
          "text": [
            "+----------+-----+-------+--------------------+-----------+--------------+------------------+-----------------+--------------------+--------------+--------+----+\n",
            "|      asin|image|overall|          reviewText| reviewTime|    reviewerID|      reviewerName|            style|             summary|unixReviewTime|verified|vote|\n",
            "+----------+-----+-------+--------------------+-----------+--------------+------------------+-----------------+--------------------+--------------+--------+----+\n",
            "|B00005N7P0| null|    5.0|for computer enth...| 11 8, 2001| AH2IFH762VY5U|      ted sedlmayr|             null|AVID READER SINCE...|    1005177600|   false|   9|\n",
            "|B00005N7P0| null|    5.0|Thank god this is...|10 31, 2001| AOSFI0JEYU4XM|   Amazon Customer|             null|  The straight scoop|    1004486400|   false|   9|\n",
            "|B00005N7OJ| null|    3.0|Antiques Magazine...|03 24, 2007|A3JPFWKS83R49V|       Bryan Carey|{ Print Magazine}|Antiques Magazine...|    1174694400|   false|  14|\n",
            "|B00005N7OJ| null|    5.0|This beautiful ma...|11 10, 2006|A19FKU6JZQ2ECJ|Patricia L. Porada|{ Print Magazine}|THE  DISCERNING R...|    1163116800|   false|  13|\n",
            "|B00005N7P0| null|    5.0|A great read ever...|07 14, 2014|A25MDGOMZ2GALN|             Alvey|             null|          Five Stars|    1405296000|    true|null|\n",
            "|B00005N7P0| null|    3.0|This magazine was...|06 24, 2014| A3XT9XXWXFMJ1|      Jeff A Milne|             null|Great While it la...|    1403568000|    true|null|\n",
            "|B00005N7P0| null|    5.0|I've read Maximum...| 06 1, 2014|A3ERU005ES1IHT|     P. R THOMPSON|             null|For Both the Newb...|    1401580800|    true|null|\n",
            "|B00005N7P0| null|    5.0|We ordered this m...|05 15, 2014|  AC2278WPK3EU|    Earle Williams|             null|          Great Gift|    1400112000|    true|null|\n",
            "|B00005N7P0| null|    4.0|I have subscribed...|03 28, 2014|A3QRR8PSCBI07C|               JJM|             null|Decent magazine a...|    1395964800|    true|null|\n",
            "|B00005N7P0| null|    4.0|I'm old, and so i...|02 26, 2014| A5QQOOZJOVPSF| John L. Mehlmauer|             null|   Cheapskates guide|    1393372800|    true|null|\n",
            "|B00005N7P0| null|    5.0|At one time, this...| 01 5, 2014|A1Z16630QMH8Q6|  Vista Bill Raley|             null|    It grows on you!|    1388880000|    true|null|\n",
            "|B00005N7P0| null|    2.0|I didn't receive ...|12 11, 2013|A1LN6PL2AZGKNH|   Andrea Chambers|             null|          Maximum PC|    1386720000|    true|null|\n",
            "|B00005N7P0| null|    5.0|It was inexpensiv...|10 30, 2013|A2FR95O3K6WZMU|                TG|             null|Got the Renewal f...|    1383091200|    true|null|\n",
            "|B00005N7P0| null|    5.0|These periodicals...| 10 2, 2013| A99B5F6XYU3CZ|    Joseph P Brown|             null|      I like to read|    1380672000|    true|null|\n",
            "|B00005N7P0| null|    4.0|So helpful.  A gr...|07 28, 2013|A29248I4OWQW45|    CamX Hernandez|             null|       Love this mag|    1374969600|    true|null|\n",
            "|B00005N7P0| null|    5.0|Best magazine for...|07 15, 2013|A26PEGXTHPZQEE|      David Kalish|             null|               Great|    1373846400|    true|null|\n",
            "|B00005N7P0| null|    5.0|My husband likes ...| 04 5, 2013|A3RSVR9ELA3U2E|               kay|             null|            liked it|    1365120000|    true|null|\n",
            "|B00005N7P0| null|    5.0|I love this magaz...|03 24, 2013|A2OVVHUNFT2TN7|                PH|             null|      Great Magazine|    1364083200|    true|null|\n",
            "|B00005N7P0| null|    3.0|I am getting sick...|03 18, 2013|A3JD68LUCW99NX|         M. Azuela|             null|       Should be 1st|    1363564800|    true|null|\n",
            "|B00005N7P0| null|    5.0|I can recommend M...| 03 7, 2013|A1ZK8IKYH42IML|              Andy|             null|Once done... stil...|    1362614400|    true|null|\n",
            "+----------+-----+-------+--------------------+-----------+--------------+------------------+-----------------+--------------------+--------------+--------+----+\n",
            "only showing top 20 rows\n",
            "\n"
          ],
          "name": "stdout"
        }
      ]
    },
    {
      "cell_type": "code",
      "metadata": {
        "id": "s-MsryqL8qLN"
      },
      "source": [
        "# Drop duplicates\n",
        "metaDF = metaDF.dropDuplicates()\n",
        "reviewDF = reviewDF.dropDuplicates()"
      ],
      "execution_count": null,
      "outputs": []
    },
    {
      "cell_type": "code",
      "metadata": {
        "colab": {
          "base_uri": "https://localhost:8080/"
        },
        "id": "eQHYYiZp33eo",
        "outputId": "05a10310-8651-4cce-c99e-8af3ccd4d22f"
      },
      "source": [
        "#check how many products, reviews and reviewers there are\n",
        "print('There are {} unique products and {} unique reviews made by {} unique reviewers'.format(\n",
        "    metaDF.count(), reviewDF.count(), reviewDF.select('reviewerID').distinct().count()\n",
        "))"
      ],
      "execution_count": null,
      "outputs": [
        {
          "output_type": "stream",
          "text": [
            "There are 2320 unique products and 88496 unique reviews made by 72098 unique reviewers\n"
          ],
          "name": "stdout"
        }
      ]
    },
    {
      "cell_type": "code",
      "metadata": {
        "colab": {
          "base_uri": "https://localhost:8080/"
        },
        "id": "9LBhnnA43u7E",
        "outputId": "b54857f6-e838-4b55-bde9-401565a3cd16"
      },
      "source": [
        "#collect relevant data for ALS CF\n",
        "ratings = reviewDF[['reviewerID', 'asin', 'overall']]\n",
        "ratings.show()"
      ],
      "execution_count": null,
      "outputs": [
        {
          "output_type": "stream",
          "text": [
            "+--------------+----------+-------+\n",
            "|    reviewerID|      asin|overall|\n",
            "+--------------+----------+-------+\n",
            "|A1KW68OP8JGZN7|B00005N7P0|    5.0|\n",
            "| AZ0HINOWMIJ2X|B00005N7OD|    5.0|\n",
            "|A33DGWR9R1LMSN|B00005N7OV|    2.0|\n",
            "|A1SGKJEF8JLZN4|B00005N7Q1|    5.0|\n",
            "|A1FS2188LNICAQ|B00005N7Q1|    5.0|\n",
            "|A3EDVOA3YVOZ64|B00005N7OV|    5.0|\n",
            "| ANIFMRZOVLORV|B00005N7Q1|    5.0|\n",
            "|A2E2RTYY77DSF9|B00005N7SC|    3.0|\n",
            "|A2YSJYZ2NJISBB|B00005N7OV|    3.0|\n",
            "| A83TW10AX3OQM|B00005N7O6|    3.0|\n",
            "|A1HQ8WATO130TZ|B00005N7SC|    4.0|\n",
            "|A3HO0FX4WC9YTU|B00005N7Q1|    5.0|\n",
            "| A82BF05B2NLV5|B00005N7NQ|    5.0|\n",
            "|A1XZ00QY7UTNM3|B00005N7OV|    4.0|\n",
            "|A32L97DIPDSJR8|B00005N7SC|    2.0|\n",
            "|A3O9IT2C9NTYWV|B00005N7S8|    5.0|\n",
            "|A12FQUL8LUKPJM|B00005N7T3|    4.0|\n",
            "| ATHM0ZECHGM7O|B00005N7Q1|    4.0|\n",
            "|A3KEV5K607E277|B00005N7PG|    5.0|\n",
            "|A25GPV9SQ2LY34|B00005N7PG|    5.0|\n",
            "+--------------+----------+-------+\n",
            "only showing top 20 rows\n",
            "\n"
          ],
          "name": "stdout"
        }
      ]
    },
    {
      "cell_type": "code",
      "metadata": {
        "colab": {
          "base_uri": "https://localhost:8080/"
        },
        "id": "vN4bhWHN3vFz",
        "outputId": "e383fa73-f599-4241-aa88-e6ba15425dd0"
      },
      "source": [
        "ratings = ratings.withColumnRenamed('asin', 'productID').withColumnRenamed('overall', 'rating')\n",
        "ratings.show()"
      ],
      "execution_count": null,
      "outputs": [
        {
          "output_type": "stream",
          "text": [
            "+--------------+----------+------+\n",
            "|    reviewerID| productID|rating|\n",
            "+--------------+----------+------+\n",
            "|A1KW68OP8JGZN7|B00005N7P0|   5.0|\n",
            "| AZ0HINOWMIJ2X|B00005N7OD|   5.0|\n",
            "|A33DGWR9R1LMSN|B00005N7OV|   2.0|\n",
            "|A1SGKJEF8JLZN4|B00005N7Q1|   5.0|\n",
            "|A1FS2188LNICAQ|B00005N7Q1|   5.0|\n",
            "|A3EDVOA3YVOZ64|B00005N7OV|   5.0|\n",
            "| ANIFMRZOVLORV|B00005N7Q1|   5.0|\n",
            "|A2E2RTYY77DSF9|B00005N7SC|   3.0|\n",
            "|A2YSJYZ2NJISBB|B00005N7OV|   3.0|\n",
            "| A83TW10AX3OQM|B00005N7O6|   3.0|\n",
            "|A1HQ8WATO130TZ|B00005N7SC|   4.0|\n",
            "|A3HO0FX4WC9YTU|B00005N7Q1|   5.0|\n",
            "| A82BF05B2NLV5|B00005N7NQ|   5.0|\n",
            "|A1XZ00QY7UTNM3|B00005N7OV|   4.0|\n",
            "|A32L97DIPDSJR8|B00005N7SC|   2.0|\n",
            "|A3O9IT2C9NTYWV|B00005N7S8|   5.0|\n",
            "|A12FQUL8LUKPJM|B00005N7T3|   4.0|\n",
            "| ATHM0ZECHGM7O|B00005N7Q1|   4.0|\n",
            "|A3KEV5K607E277|B00005N7PG|   5.0|\n",
            "|A25GPV9SQ2LY34|B00005N7PG|   5.0|\n",
            "+--------------+----------+------+\n",
            "only showing top 20 rows\n",
            "\n"
          ],
          "name": "stdout"
        }
      ]
    },
    {
      "cell_type": "code",
      "metadata": {
        "colab": {
          "base_uri": "https://localhost:8080/"
        },
        "id": "qSCTYq3JV_UO",
        "outputId": "87e71062-5856-40e4-eb08-52ffc7872355"
      },
      "source": [
        "def get_mat_sparsity(ratings):\n",
        "    # Count the total number of ratings in the dataset\n",
        "    count_nonzero = ratings.select(\"rating\").count()\n",
        "\n",
        "    # Count the number of distinct reviewerIDs and distinct productIDs\n",
        "    total_elements = ratings.select(\"reviewerID\").distinct().count() * ratings.select(\"productID\").distinct().count()\n",
        "\n",
        "    # Divide the numerator by the denominator\n",
        "    sparsity = (1.0 - (count_nonzero *1.0)/total_elements)*100\n",
        "    print(\"The ratings dataframe is \", \"%.3f\" % sparsity + \"% sparse.\")\n",
        "    \n",
        "get_mat_sparsity(ratings)"
      ],
      "execution_count": null,
      "outputs": [
        {
          "output_type": "stream",
          "text": [
            "The ratings dataframe is  99.949% sparse.\n"
          ],
          "name": "stdout"
        }
      ]
    },
    {
      "cell_type": "code",
      "metadata": {
        "colab": {
          "base_uri": "https://localhost:8080/"
        },
        "id": "z5c9KnjiLhTx",
        "outputId": "2de795d1-2bd0-4aa2-e080-c0a0ad952452"
      },
      "source": [
        "ratings.printSchema()"
      ],
      "execution_count": null,
      "outputs": [
        {
          "output_type": "stream",
          "text": [
            "root\n",
            " |-- reviewerID: string (nullable = true)\n",
            " |-- productID: string (nullable = true)\n",
            " |-- rating: double (nullable = true)\n",
            "\n"
          ],
          "name": "stdout"
        }
      ]
    },
    {
      "cell_type": "code",
      "metadata": {
        "colab": {
          "base_uri": "https://localhost:8080/"
        },
        "id": "71KWOkhDYG80",
        "outputId": "e2365cb7-5958-4030-a165-3c68d94a14d6"
      },
      "source": [
        "reviewer_indexer = StringIndexer(inputCol=\"reviewerID\", outputCol=\"reviewerIndex\")\n",
        "product_indexer = StringIndexer(inputCol=\"productID\", outputCol=\"productIndex\")\n",
        "\n",
        "pipeline = Pipeline(stages = [reviewer_indexer, product_indexer])\n",
        "\n",
        "ratingsIndexed = pipeline.fit(ratings).transform(ratings)\n",
        "\n",
        "ratingsIndexed.show()"
      ],
      "execution_count": null,
      "outputs": [
        {
          "output_type": "stream",
          "text": [
            "+--------------+----------+------+-------------+------------+\n",
            "|    reviewerID| productID|rating|reviewerIndex|productIndex|\n",
            "+--------------+----------+------+-------------+------------+\n",
            "|A1KW68OP8JGZN7|B00005N7P0|   5.0|      19857.0|        94.0|\n",
            "| AZ0HINOWMIJ2X|B00005N7OD|   5.0|      71642.0|       100.0|\n",
            "|A33DGWR9R1LMSN|B00005N7OV|   2.0|       6993.0|        15.0|\n",
            "|A1SGKJEF8JLZN4|B00005N7Q1|   5.0|       4405.0|         1.0|\n",
            "|A1FS2188LNICAQ|B00005N7Q1|   5.0|      17553.0|         1.0|\n",
            "|A3EDVOA3YVOZ64|B00005N7OV|   5.0|      49525.0|        15.0|\n",
            "| ANIFMRZOVLORV|B00005N7Q1|   5.0|      66430.0|         1.0|\n",
            "|A2E2RTYY77DSF9|B00005N7SC|   3.0|      33036.0|         2.0|\n",
            "|A2YSJYZ2NJISBB|B00005N7OV|   3.0|       2055.0|        15.0|\n",
            "| A83TW10AX3OQM|B00005N7O6|   3.0|       2510.0|       247.0|\n",
            "|A1HQ8WATO130TZ|B00005N7SC|   4.0|      18440.0|         2.0|\n",
            "|A3HO0FX4WC9YTU|B00005N7Q1|   5.0|      51058.0|         1.0|\n",
            "| A82BF05B2NLV5|B00005N7NQ|   5.0|      59392.0|       156.0|\n",
            "|A1XZ00QY7UTNM3|B00005N7OV|   4.0|       4742.0|        15.0|\n",
            "|A32L97DIPDSJR8|B00005N7SC|   2.0|      44189.0|         2.0|\n",
            "|A3O9IT2C9NTYWV|B00005N7S8|   5.0|      53967.0|       292.0|\n",
            "|A12FQUL8LUKPJM|B00005N7T3|   4.0|      11418.0|        90.0|\n",
            "| ATHM0ZECHGM7O|B00005N7Q1|   4.0|      69144.0|         1.0|\n",
            "|A3KEV5K607E277|B00005N7PG|   5.0|       1018.0|       139.0|\n",
            "|A25GPV9SQ2LY34|B00005N7PG|   5.0|      29200.0|       139.0|\n",
            "+--------------+----------+------+-------------+------------+\n",
            "only showing top 20 rows\n",
            "\n"
          ],
          "name": "stdout"
        }
      ]
    },
    {
      "cell_type": "code",
      "metadata": {
        "colab": {
          "base_uri": "https://localhost:8080/"
        },
        "id": "dOg4uVikZkED",
        "outputId": "f8e406f8-8cda-47b0-dad1-4951ab9e5e86"
      },
      "source": [
        "ratingsDF = ratingsIndexed[['reviewerIndex', 'productIndex', 'rating']]\n",
        "ratingsDF = ratingsDF.withColumnRenamed('reviewerIndex', 'reviewerID').withColumnRenamed('productIndex', 'productID')\n",
        "ratingsDF.show()"
      ],
      "execution_count": null,
      "outputs": [
        {
          "output_type": "stream",
          "text": [
            "+----------+---------+------+\n",
            "|reviewerID|productID|rating|\n",
            "+----------+---------+------+\n",
            "|   19857.0|     94.0|   5.0|\n",
            "|   71642.0|    100.0|   5.0|\n",
            "|    6993.0|     15.0|   2.0|\n",
            "|    4405.0|      1.0|   5.0|\n",
            "|   17553.0|      1.0|   5.0|\n",
            "|   49525.0|     15.0|   5.0|\n",
            "|   66430.0|      1.0|   5.0|\n",
            "|   33036.0|      2.0|   3.0|\n",
            "|    2055.0|     15.0|   3.0|\n",
            "|    2510.0|    247.0|   3.0|\n",
            "|   18440.0|      2.0|   4.0|\n",
            "|   51058.0|      1.0|   5.0|\n",
            "|   59392.0|    156.0|   5.0|\n",
            "|    4742.0|     15.0|   4.0|\n",
            "|   44189.0|      2.0|   2.0|\n",
            "|   53967.0|    292.0|   5.0|\n",
            "|   11418.0|     90.0|   4.0|\n",
            "|   69144.0|      1.0|   4.0|\n",
            "|    1018.0|    139.0|   5.0|\n",
            "|   29200.0|    139.0|   5.0|\n",
            "+----------+---------+------+\n",
            "only showing top 20 rows\n",
            "\n"
          ],
          "name": "stdout"
        }
      ]
    },
    {
      "cell_type": "code",
      "metadata": {
        "colab": {
          "base_uri": "https://localhost:8080/"
        },
        "id": "_bEm8FvoMXa8",
        "outputId": "9c9c3fb2-2287-4c82-edfb-e5801cdb1ee0"
      },
      "source": [
        "ratingsDF.printSchema()"
      ],
      "execution_count": null,
      "outputs": [
        {
          "output_type": "stream",
          "text": [
            "root\n",
            " |-- reviewerID: double (nullable = false)\n",
            " |-- productID: double (nullable = false)\n",
            " |-- rating: double (nullable = true)\n",
            "\n"
          ],
          "name": "stdout"
        }
      ]
    },
    {
      "cell_type": "code",
      "metadata": {
        "id": "k2ITA0-v_sc2"
      },
      "source": [
        "# Create test and train set\n",
        "(train, test) = ratingsDF.randomSplit([0.8, 0.2], seed = 1)"
      ],
      "execution_count": null,
      "outputs": []
    },
    {
      "cell_type": "code",
      "metadata": {
        "id": "zOVh5-QbAk8K"
      },
      "source": [
        "# Create ALS model\n",
        "als = ALS(\n",
        "         userCol=\"reviewerID\", \n",
        "         itemCol=\"productID\",\n",
        "         ratingCol=\"rating\", \n",
        "         nonnegative = True, \n",
        "         implicitPrefs = False,\n",
        "         coldStartStrategy=\"drop\"\n",
        ")"
      ],
      "execution_count": null,
      "outputs": []
    },
    {
      "cell_type": "code",
      "metadata": {
        "id": "kqVew1y3IBvG"
      },
      "source": [
        "# Add hyperparameters and their respective values to param_grid\n",
        "# .addGrid(als.maxIter, [5, 50, 100, 200]) \\\n",
        "\n",
        "param_grid = ParamGridBuilder() \\\n",
        "            .addGrid(als.rank, [1, 2, 5, 10, 20]) \\\n",
        "            .addGrid(als.regParam, [0.1, 0.15, 0.2, 0.25, 0.3]) \\\n",
        "            .build()\n"
      ],
      "execution_count": null,
      "outputs": []
    },
    {
      "cell_type": "code",
      "metadata": {
        "colab": {
          "base_uri": "https://localhost:8080/"
        },
        "id": "NgSp26NyIGBh",
        "outputId": "9c10dd38-2dfd-471e-f2a9-44752ee81272"
      },
      "source": [
        "# Define evaluator as RMSE and print length of evaluator\n",
        "evaluator = RegressionEvaluator(\n",
        "           metricName=\"rmse\", \n",
        "           labelCol=\"rating\", \n",
        "           predictionCol=\"prediction\") \n",
        "print (\"Num models to be tested: \", len(param_grid))"
      ],
      "execution_count": null,
      "outputs": [
        {
          "output_type": "stream",
          "text": [
            "Num models to be tested:  25\n"
          ],
          "name": "stdout"
        }
      ]
    },
    {
      "cell_type": "code",
      "metadata": {
        "id": "17d_mzcJILKt"
      },
      "source": [
        "# Build cross validation using CrossValidator\n",
        "cv = CrossValidator(estimator=als, estimatorParamMaps=param_grid, evaluator=evaluator, numFolds=5)"
      ],
      "execution_count": null,
      "outputs": []
    },
    {
      "cell_type": "code",
      "metadata": {
        "id": "P4n5DJZaImpM",
        "colab": {
          "base_uri": "https://localhost:8080/"
        },
        "outputId": "2a21d0ab-9e57-4067-8630-053c46d2e4e4"
      },
      "source": [
        "# Fit cross validator to the 'train' dataset\n",
        "model = cv.fit(train)\n",
        "# Extract best model from the cv model above\n",
        "best_model = model.bestModel\n",
        "# View the predictions\n",
        "test_predictions = best_model.transform(test)\n",
        "RMSE = evaluator.evaluate(test_predictions)\n",
        "print(RMSE)"
      ],
      "execution_count": null,
      "outputs": [
        {
          "output_type": "stream",
          "text": [
            "1.2149262175043927\n"
          ],
          "name": "stdout"
        }
      ]
    },
    {
      "cell_type": "code",
      "metadata": {
        "id": "fsqpmk00IO9h",
        "colab": {
          "base_uri": "https://localhost:8080/"
        },
        "outputId": "7623af33-6be1-4303-d0dc-28c73c0e03f1"
      },
      "source": [
        "print(\"**Best Model**\")\n",
        "# Print \"Rank\"\n",
        "print(\"  Rank:\", best_model._java_obj.parent().getRank())\n",
        "# Print \"MaxIter\"\n",
        "print(\"  MaxIter:\", best_model._java_obj.parent().getMaxIter())\n",
        "# Print \"RegParam\"\n",
        "print(\"  RegParam:\", best_model._java_obj.parent().getRegParam())"
      ],
      "execution_count": null,
      "outputs": [
        {
          "output_type": "stream",
          "text": [
            "**Best Model**\n",
            "  Rank: 1\n",
            "  MaxIter: 10\n",
            "  RegParam: 0.25\n"
          ],
          "name": "stdout"
        }
      ]
    },
    {
      "cell_type": "code",
      "metadata": {
        "id": "jIKagbIkbSl9",
        "colab": {
          "base_uri": "https://localhost:8080/"
        },
        "outputId": "f3095a49-0ff0-4dc0-ac7c-42df2ce70d49"
      },
      "source": [
        "# Generate n Recommendations for all users\n",
        "recommendations = best_model.recommendForAllUsers(5)\n",
        "recommendations.show()"
      ],
      "execution_count": null,
      "outputs": [
        {
          "output_type": "stream",
          "text": [
            "+----------+--------------------+\n",
            "|reviewerID|     recommendations|\n",
            "+----------+--------------------+\n",
            "|       148|[{2038, 7.6304517...|\n",
            "|       463|[{2038, 4.522575}...|\n",
            "|       471|[{2038, 7.937259}...|\n",
            "|       496|[{2038, 3.7214746...|\n",
            "|       833|[{2038, 3.3086932...|\n",
            "|      1088|[{2038, 3.6437275...|\n",
            "|      1238|[{2038, 7.770404}...|\n",
            "|      1342|[{2038, 5.4820113...|\n",
            "|      1580|[{2038, 8.30215},...|\n",
            "|      1591|[{2038, 2.377523}...|\n",
            "|      1645|[{2038, 8.05496},...|\n",
            "|      1829|[{2038, 7.7977138...|\n",
            "|      1959|[{2038, 7.0777416...|\n",
            "|      2122|[{2038, 6.810679}...|\n",
            "|      2142|[{2038, 7.911775}...|\n",
            "|      2366|[{2038, 4.9246454...|\n",
            "|      2659|[{2038, 6.452627}...|\n",
            "|      2866|[{2038, 6.3854504...|\n",
            "|      3175|[{2038, 7.505753}...|\n",
            "|      3749|[{2038, 7.752999}...|\n",
            "+----------+--------------------+\n",
            "only showing top 20 rows\n",
            "\n"
          ],
          "name": "stdout"
        }
      ]
    },
    {
      "cell_type": "code",
      "metadata": {
        "colab": {
          "base_uri": "https://localhost:8080/"
        },
        "id": "j96w3BuGcm96",
        "outputId": "9acb3d02-31aa-47fa-b451-d2ab7023e019"
      },
      "source": [
        "recommendations.limit(10).show()"
      ],
      "execution_count": null,
      "outputs": [
        {
          "output_type": "stream",
          "text": [
            "+----------+--------------------+\n",
            "|reviewerID|     recommendations|\n",
            "+----------+--------------------+\n",
            "|       148|[{2038, 7.6304517...|\n",
            "|       463|[{2038, 4.522575}...|\n",
            "|       471|[{2038, 7.937259}...|\n",
            "|       496|[{2038, 3.7214746...|\n",
            "|       833|[{2038, 3.3086932...|\n",
            "|      1088|[{2038, 3.6437275...|\n",
            "|      1238|[{2038, 7.770404}...|\n",
            "|      1342|[{2038, 5.4820113...|\n",
            "|      1580|[{2038, 8.30215},...|\n",
            "|      1591|[{2038, 2.377523}...|\n",
            "+----------+--------------------+\n",
            "\n"
          ],
          "name": "stdout"
        }
      ]
    },
    {
      "cell_type": "code",
      "metadata": {
        "colab": {
          "base_uri": "https://localhost:8080/"
        },
        "id": "gW0ojBYfhiuE",
        "outputId": "a284a5c2-b135-4b07-89f3-7360ce68b6e7"
      },
      "source": [
        "recommendations.printSchema()"
      ],
      "execution_count": null,
      "outputs": [
        {
          "output_type": "stream",
          "text": [
            "root\n",
            " |-- reviewerID: integer (nullable = false)\n",
            " |-- recommendations: array (nullable = true)\n",
            " |    |-- element: struct (containsNull = true)\n",
            " |    |    |-- productID: integer (nullable = true)\n",
            " |    |    |-- rating: float (nullable = true)\n",
            "\n"
          ],
          "name": "stdout"
        }
      ]
    },
    {
      "cell_type": "code",
      "metadata": {
        "colab": {
          "base_uri": "https://localhost:8080/"
        },
        "id": "N1JtBGzbqzdN",
        "outputId": "295c4d13-ed80-4c5f-b610-078d73f08ac1"
      },
      "source": [
        "recommendationsRenamed = recommendations.withColumn('rec_exp', explode('recommendations')).select('reviewerID', col(\"rec_exp.productID\"), col(\"rec_exp.rating\"))\n",
        "recommendationsRenamed.show()"
      ],
      "execution_count": null,
      "outputs": [
        {
          "output_type": "stream",
          "text": [
            "+----------+---------+---------+\n",
            "|reviewerID|productID|   rating|\n",
            "+----------+---------+---------+\n",
            "|       148|     2038|7.6304517|\n",
            "|       148|     1791| 6.363171|\n",
            "|       148|     1964|6.2831044|\n",
            "|       148|     1581|6.1109095|\n",
            "|       148|     1925| 6.009438|\n",
            "|       463|     2038| 4.522575|\n",
            "|       463|     1791|3.7714567|\n",
            "|       463|     1964|3.7240012|\n",
            "|       463|     1581| 3.621941|\n",
            "|       463|     1925|3.5617988|\n",
            "|       471|     2038| 7.937259|\n",
            "|       471|     1791|6.6190233|\n",
            "|       471|     1964|6.5357375|\n",
            "|       471|     1581| 6.356619|\n",
            "|       471|     1925|6.2510676|\n",
            "|       496|     2038|3.7214746|\n",
            "|       496|     1791|3.1034048|\n",
            "|       496|     1964|3.0643551|\n",
            "|       496|     1581|2.9803734|\n",
            "|       496|     1925|2.9308844|\n",
            "+----------+---------+---------+\n",
            "only showing top 20 rows\n",
            "\n"
          ],
          "name": "stdout"
        }
      ]
    },
    {
      "cell_type": "code",
      "metadata": {
        "colab": {
          "base_uri": "https://localhost:8080/"
        },
        "id": "m4hM_KiidTHK",
        "outputId": "296d888b-893a-4c4a-ef68-6e059db6b8b3"
      },
      "source": [
        "recommendationsRenamed = recommendationsRenamed.withColumnRenamed('reviewerID', 'reviewerIndex').withColumnRenamed('productID', 'productIndex').withColumnRenamed('rating', 'predictedRating')\n",
        "recommendationsRenamed.show()"
      ],
      "execution_count": null,
      "outputs": [
        {
          "output_type": "stream",
          "text": [
            "+-------------+------------+---------------+\n",
            "|reviewerIndex|productIndex|predictedRating|\n",
            "+-------------+------------+---------------+\n",
            "|          148|        2038|      7.6304517|\n",
            "|          148|        1791|       6.363171|\n",
            "|          148|        1964|      6.2831044|\n",
            "|          148|        1581|      6.1109095|\n",
            "|          148|        1925|       6.009438|\n",
            "|          463|        2038|       4.522575|\n",
            "|          463|        1791|      3.7714567|\n",
            "|          463|        1964|      3.7240012|\n",
            "|          463|        1581|       3.621941|\n",
            "|          463|        1925|      3.5617988|\n",
            "|          471|        2038|       7.937259|\n",
            "|          471|        1791|      6.6190233|\n",
            "|          471|        1964|      6.5357375|\n",
            "|          471|        1581|       6.356619|\n",
            "|          471|        1925|      6.2510676|\n",
            "|          496|        2038|      3.7214746|\n",
            "|          496|        1791|      3.1034048|\n",
            "|          496|        1964|      3.0643551|\n",
            "|          496|        1581|      2.9803734|\n",
            "|          496|        1925|      2.9308844|\n",
            "+-------------+------------+---------------+\n",
            "only showing top 20 rows\n",
            "\n"
          ],
          "name": "stdout"
        }
      ]
    },
    {
      "cell_type": "code",
      "metadata": {
        "id": "D3alf0G_gQNs"
      },
      "source": [
        "ratingsIndexed = ratingsIndexed.withColumn('productIndex', ratingsIndexed.productIndex.cast(IntegerType()))\\\n",
        "                              .withColumn('reviewerIndex', ratingsIndexed.reviewerIndex.cast(IntegerType()))"
      ],
      "execution_count": null,
      "outputs": []
    },
    {
      "cell_type": "code",
      "metadata": {
        "colab": {
          "base_uri": "https://localhost:8080/"
        },
        "id": "b2Yfg9sOjMNl",
        "outputId": "89f2432d-33bb-4d80-b84a-909a3e4fe950"
      },
      "source": [
        "ratingsIndexed.show()"
      ],
      "execution_count": null,
      "outputs": [
        {
          "output_type": "stream",
          "text": [
            "+--------------+----------+------+-------------+------------+\n",
            "|    reviewerID| productID|rating|reviewerIndex|productIndex|\n",
            "+--------------+----------+------+-------------+------------+\n",
            "|A1KW68OP8JGZN7|B00005N7P0|   5.0|        19857|          94|\n",
            "| AZ0HINOWMIJ2X|B00005N7OD|   5.0|        71642|         100|\n",
            "|A33DGWR9R1LMSN|B00005N7OV|   2.0|         6993|          15|\n",
            "|A1SGKJEF8JLZN4|B00005N7Q1|   5.0|         4405|           1|\n",
            "|A1FS2188LNICAQ|B00005N7Q1|   5.0|        17553|           1|\n",
            "|A3EDVOA3YVOZ64|B00005N7OV|   5.0|        49525|          15|\n",
            "| ANIFMRZOVLORV|B00005N7Q1|   5.0|        66430|           1|\n",
            "|A2E2RTYY77DSF9|B00005N7SC|   3.0|        33036|           2|\n",
            "|A2YSJYZ2NJISBB|B00005N7OV|   3.0|         2055|          15|\n",
            "| A83TW10AX3OQM|B00005N7O6|   3.0|         2510|         247|\n",
            "|A1HQ8WATO130TZ|B00005N7SC|   4.0|        18440|           2|\n",
            "|A3HO0FX4WC9YTU|B00005N7Q1|   5.0|        51058|           1|\n",
            "| A82BF05B2NLV5|B00005N7NQ|   5.0|        59392|         156|\n",
            "|A1XZ00QY7UTNM3|B00005N7OV|   4.0|         4742|          15|\n",
            "|A32L97DIPDSJR8|B00005N7SC|   2.0|        44189|           2|\n",
            "|A3O9IT2C9NTYWV|B00005N7S8|   5.0|        53967|         292|\n",
            "|A12FQUL8LUKPJM|B00005N7T3|   4.0|        11418|          90|\n",
            "| ATHM0ZECHGM7O|B00005N7Q1|   4.0|        69144|           1|\n",
            "|A3KEV5K607E277|B00005N7PG|   5.0|         1018|         139|\n",
            "|A25GPV9SQ2LY34|B00005N7PG|   5.0|        29200|         139|\n",
            "+--------------+----------+------+-------------+------------+\n",
            "only showing top 20 rows\n",
            "\n"
          ],
          "name": "stdout"
        }
      ]
    },
    {
      "cell_type": "code",
      "metadata": {
        "id": "-FTeFv6_YbpE"
      },
      "source": [
        "# Join dataframe to obtain original reviewerIDs\n",
        "recommendationsJoined = recommendationsRenamed.join(ratingsIndexed[['reviewerIndex', 'reviewerID']].distinct(), on = 'reviewerIndex', how = 'left')"
      ],
      "execution_count": null,
      "outputs": []
    },
    {
      "cell_type": "code",
      "metadata": {
        "id": "Hes1Cnsgj1z7"
      },
      "source": [
        "# Join dataframe to obtain original productID's\n",
        "recommendationsJoined = recommendationsJoined.join(ratingsIndexed[['productIndex', 'productID']].distinct(), on = 'productIndex', how = 'left')"
      ],
      "execution_count": null,
      "outputs": []
    },
    {
      "cell_type": "code",
      "metadata": {
        "colab": {
          "base_uri": "https://localhost:8080/"
        },
        "id": "WJkOkrpGtKr-",
        "outputId": "d7557943-95dc-497a-9373-3bf46eafd568"
      },
      "source": [
        "recommendationsJoined.show()"
      ],
      "execution_count": null,
      "outputs": [
        {
          "output_type": "stream",
          "text": [
            "+------------+-------------+---------------+--------------+----------+\n",
            "|productIndex|reviewerIndex|predictedRating|    reviewerID| productID|\n",
            "+------------+-------------+---------------+--------------+----------+\n",
            "|        2038|          148|      7.6304517|A2KEE2U6XXU9IB|B00006KFU3|\n",
            "|        1791|          148|       6.363171|A2KEE2U6XXU9IB|B00006KBLW|\n",
            "|        1964|          148|      6.2831044|A2KEE2U6XXU9IB|B00XII1UAK|\n",
            "|        1581|          148|      6.1109095|A2KEE2U6XXU9IB|B019INBTD6|\n",
            "|        1925|          148|       6.009438|A2KEE2U6XXU9IB|B00BIT16B4|\n",
            "|        2038|          463|       4.522575|A1VFG5SVYMBH7K|B00006KFU3|\n",
            "|        1791|          463|      3.7714567|A1VFG5SVYMBH7K|B00006KBLW|\n",
            "|        1964|          463|      3.7240012|A1VFG5SVYMBH7K|B00XII1UAK|\n",
            "|        1581|          463|       3.621941|A1VFG5SVYMBH7K|B019INBTD6|\n",
            "|        1925|          463|      3.5617988|A1VFG5SVYMBH7K|B00BIT16B4|\n",
            "|        2038|          471|       7.937259|A1ZTNMCY9VU44D|B00006KFU3|\n",
            "|        1791|          471|      6.6190233|A1ZTNMCY9VU44D|B00006KBLW|\n",
            "|        1964|          471|      6.5357375|A1ZTNMCY9VU44D|B00XII1UAK|\n",
            "|        1581|          471|       6.356619|A1ZTNMCY9VU44D|B019INBTD6|\n",
            "|        1925|          471|      6.2510676|A1ZTNMCY9VU44D|B00BIT16B4|\n",
            "|        2038|          496|      3.7214746|A2F1GA6WIQW3ZV|B00006KFU3|\n",
            "|        1791|          496|      3.1034048|A2F1GA6WIQW3ZV|B00006KBLW|\n",
            "|        1964|          496|      3.0643551|A2F1GA6WIQW3ZV|B00XII1UAK|\n",
            "|        1581|          496|      2.9803734|A2F1GA6WIQW3ZV|B019INBTD6|\n",
            "|        1925|          496|      2.9308844|A2F1GA6WIQW3ZV|B00BIT16B4|\n",
            "+------------+-------------+---------------+--------------+----------+\n",
            "only showing top 20 rows\n",
            "\n"
          ],
          "name": "stdout"
        }
      ]
    },
    {
      "cell_type": "code",
      "metadata": {
        "colab": {
          "base_uri": "https://localhost:8080/"
        },
        "id": "wRDB9HR1tQHb",
        "outputId": "ba6e13b3-8c76-4b18-aec6-658285446af1"
      },
      "source": [
        "# Drop productIndex and reviewerIndex\n",
        "recommendationsJoined = recommendationsJoined[['reviewerID', 'productID', 'predictedRating']]\n",
        "recommendationsJoined.show()"
      ],
      "execution_count": null,
      "outputs": [
        {
          "output_type": "stream",
          "text": [
            "+--------------+----------+---------------+\n",
            "|    reviewerID| productID|predictedRating|\n",
            "+--------------+----------+---------------+\n",
            "|A2KEE2U6XXU9IB|B00006KFU3|      7.6304517|\n",
            "|A2KEE2U6XXU9IB|B00006KBLW|       6.363171|\n",
            "|A2KEE2U6XXU9IB|B00XII1UAK|      6.2831044|\n",
            "|A2KEE2U6XXU9IB|B019INBTD6|      6.1109095|\n",
            "|A2KEE2U6XXU9IB|B00BIT16B4|       6.009438|\n",
            "|A1VFG5SVYMBH7K|B00006KFU3|       4.522575|\n",
            "|A1VFG5SVYMBH7K|B00006KBLW|      3.7714567|\n",
            "|A1VFG5SVYMBH7K|B00XII1UAK|      3.7240012|\n",
            "|A1VFG5SVYMBH7K|B019INBTD6|       3.621941|\n",
            "|A1VFG5SVYMBH7K|B00BIT16B4|      3.5617988|\n",
            "|A1ZTNMCY9VU44D|B00006KFU3|       7.937259|\n",
            "|A1ZTNMCY9VU44D|B00006KBLW|      6.6190233|\n",
            "|A1ZTNMCY9VU44D|B00XII1UAK|      6.5357375|\n",
            "|A1ZTNMCY9VU44D|B019INBTD6|       6.356619|\n",
            "|A1ZTNMCY9VU44D|B00BIT16B4|      6.2510676|\n",
            "|A2F1GA6WIQW3ZV|B00006KFU3|      3.7214746|\n",
            "|A2F1GA6WIQW3ZV|B00006KBLW|      3.1034048|\n",
            "|A2F1GA6WIQW3ZV|B00XII1UAK|      3.0643551|\n",
            "|A2F1GA6WIQW3ZV|B019INBTD6|      2.9803734|\n",
            "|A2F1GA6WIQW3ZV|B00BIT16B4|      2.9308844|\n",
            "+--------------+----------+---------------+\n",
            "only showing top 20 rows\n",
            "\n"
          ],
          "name": "stdout"
        }
      ]
    },
    {
      "cell_type": "code",
      "metadata": {
        "colab": {
          "base_uri": "https://localhost:8080/"
        },
        "id": "B00tQ0eMug9w",
        "outputId": "9d20f2eb-8b3d-4a49-eecb-854392f8b0a9"
      },
      "source": [
        "# Let's look at reviewer A5RHZE7B8SV5Q's recommendations\n",
        "\n",
        "recommendationsWithMeta = recommendationsJoined.join(metaDF, metaDF['asin'] == recommendationsJoined['productID'], how = 'left').filter(\"reviewerID = 'A5RHZE7B8SV5Q'\").select('productID', 'title', 'brand','category', 'description', 'predictedRating').show(20, False)"
      ],
      "execution_count": null,
      "outputs": [
        {
          "output_type": "stream",
          "text": [
            "+----------+---------------------------------------------+-----------------------------+-----------------------------------------------------------------------------------------------------------------+----------------------------------------------------------------------------------------------------------------------------------------------------------------------------------------------------------------------------------------------------------------------------------------------------------------------------------------------------------------------------------------------------------------------------------------------------------------------------------------------------------------------------------------------------------------------------------------------------------------------------------------------------------------------------------------------------------------------------------------------------------------------------------------------------------------------------------------------------------------------------------------------------------------------------------+---------------+\n",
            "|productID |title                                        |brand                        |category                                                                                                         |description                                                                                                                                                                                                                                                                                                                                                                                                                                                                                                                                                                                                                                                                                                                                                                                                                                                                                                                       |predictedRating|\n",
            "+----------+---------------------------------------------+-----------------------------+-----------------------------------------------------------------------------------------------------------------+----------------------------------------------------------------------------------------------------------------------------------------------------------------------------------------------------------------------------------------------------------------------------------------------------------------------------------------------------------------------------------------------------------------------------------------------------------------------------------------------------------------------------------------------------------------------------------------------------------------------------------------------------------------------------------------------------------------------------------------------------------------------------------------------------------------------------------------------------------------------------------------------------------------------------------+---------------+\n",
            "|B00006KFU3|<span class=\"a-size-medium a-color-secondary\"|Oser Communications Group Inc|[Magazine Subscriptions, Cooking, Food & Wine, Reference]                                                        |[Business paper for the gourmet industry features lots of new product ads and trade news.]                                                                                                                                                                                                                                                                                                                                                                                                                                                                                                                                                                                                                                                                                                                                                                                                                                        |6.659185       |\n",
            "|B00006KBLW|<span class=\"a-size-medium a-color-secondary\"|Scranton Gillette Commun Inc |[Magazine Subscriptions, Professional & Educational Journals, Professional & Trade, Entertainment & Media, Music]|[Devoted to the organ, harpsichord and church music. Each issue includes feature articles, news, new organs, reviews of new music, recordings and books, carillon news, an international calendar and extensive classified advertising.]                                                                                                                                                                                                                                                                                                                                                                                                                                                                                                                                                                                                                                                                                          |5.553214       |\n",
            "|B00XII1UAK|<span class=\"a-size-medium a-color-secondary\"|Conde Nast                   |[Magazine Subscriptions, Arts, Music & Photography]                                                              |[Architectural Digest is the world's foremost design authority, showcasing the work of top architects and interior decorators. A must-read for decades, the magazine continues to evolve and set new benchmarks for how to live well-what to buy, what to see and do, where to travel, and who to watch on the fast-paced, multifaceted global design scene., <a href=\"/gp/help/customer/display.html/ref=hp_left_ac?ie=UTF8&nodeId=201293140\" target=\"_blank\">Learn more</a> about auto-renewal subscriptions on Amazon.com]                                                                                                                                                                                                                                                                                                                                                                                                     |5.4833393      |\n",
            "|B019INBTD6|<span class=\"a-size-medium a-color-secondary\"|Conde Nast                   |[Magazine Subscriptions, Fashion & Style]                                                                        |[From the cover to the very last page, Allure delivers beauty expert advice, tips and so much more. Allure is the beauty authority. Each issue includes: Beauty Reporter news of the latest products and trends, it is the most comprehensive source of makeup, hair and skin-care information on the newsstand; the Fashion Bulletin is pure style inspiration; and the top pros in Insiders' Guide share their wisdom on style, etiquette, entertaining, and more. In every feature, Allure turns to independent experts to cast a critical eye on product claims--and offer an informed take on the trends that shape our idea of what is beautiful. In every issue, Allure delivers solid information and advice you can trust--delivered with wit and style., <a href=\"/gp/help/customer/display.html/ref=hp_left_ac?ie=UTF8&nodeId=201293140\" target=\"_blank\">Learn more</a> about auto-renewal subscriptions on Amazon.com]|5.3330626      |\n",
            "|B00BIT16B4|<span class=\"a-size-medium a-color-secondary\"|Turnstile Publ               |[Magazine Subscriptions, Arts, Music & Photography, Art & Art History]                                           |[Professional Artist is the industry s foremost business magazine for visual artists. Founded in 1986, Professional Artist acts as a beacon to guide artists on their journey toward making a living with their art.]                                                                                                                                                                                                                                                                                                                                                                                                                                                                                                                                                                                                                                                                                                             |5.2445073      |\n",
            "+----------+---------------------------------------------+-----------------------------+-----------------------------------------------------------------------------------------------------------------+----------------------------------------------------------------------------------------------------------------------------------------------------------------------------------------------------------------------------------------------------------------------------------------------------------------------------------------------------------------------------------------------------------------------------------------------------------------------------------------------------------------------------------------------------------------------------------------------------------------------------------------------------------------------------------------------------------------------------------------------------------------------------------------------------------------------------------------------------------------------------------------------------------------------------------+---------------+\n",
            "\n"
          ],
          "name": "stdout"
        }
      ]
    },
    {
      "cell_type": "code",
      "metadata": {
        "colab": {
          "base_uri": "https://localhost:8080/"
        },
        "id": "TH0cFdD01eB2",
        "outputId": "2db4f84d-44c0-4b37-c83e-19acc3567012"
      },
      "source": [
        "# Let's look at reviewer A5RHZE7B8SV5Q's actual preference\n",
        "reviewDF.join(metaDF, on = 'asin', how = 'left').filter(\"reviewerID = 'A5RHZE7B8SV5Q'\").select('asin','brand', 'category', 'description', 'overall').show(20, False)"
      ],
      "execution_count": null,
      "outputs": [
        {
          "output_type": "stream",
          "text": [
            "+----------+-----------------------+----------------------------------------------------------------------------------------------------------+----------------------------------------------------------------------------------------------------------------------------------------------------------------------------------------------------------------------------------------------------------------------------------------------------------------------------------------------------------------------------------------------------------------------------------------------------------------------------------------------------------------------------------------------------------------------------------------------------------------------------------------------------------------------------------------------------------------------------------------------------------------------------------------------------------------------------------------------------------------------------------------------------------------------------------------------------------------------------------------------------------------------------------------------------------------------------------------------------------------------------------------------------------------------------------------------------------------------------------------------------------------------------------------------------------------------------------------------------------------------------------------------------------------------------------------------------------------------------------------------------------------------------------------------------------------------------------------------------------------------------------------------------------------------------------------------------------------------------------------------------------------------------------------------------------------------------------------------------------------------------------------------------------------------------------------------------------------------------------------------------------------------------------------------------------------------------------------------------------------------------------------------------------------------------------------------------------------------------------------------------------------------------------------------------------------------------------------------------------------------------------------------------------------------------------------------------------------------------------------------------------------------------------------------------------------------------------------------------------------------------------------------------------------------------------------------------------------------------------------------------------------------------------------------------------------------------------------------------------------------------------------------------------------------------------------------------------------------------------------------------------------------------------------------------------------------------------------------------------------------------------------------------------------------------------------------------------------------------------------------------------------------------------------------------------------------------------------------------------------------------------------------------------------------------------------------------------------------------------------------------------------------------------------------------------------------------------------------------------------------------------------------------------------------------------------------------------------------------------------------------------------------------------------------------------------------------------------------------------------------------------------------------------------------------------------------------------------------------------------------------------------------------------------------------------------------------------------------------------------------------------------------------------------------------------------------------------------------------------------------------------------------------------------------------------------------------------------------------------------------------------------------------------------------------------------------------------------------------------------------------------------------------------------------------------------------------------------------------------------------------------------------------------------------------------------------------------------------------------------------------------------------------------------------------------------------------------------------------------------------------------------------------------------------------------------------------------------------------------------------------------------------------------------------------------------------------------------------------------------------------------------------------------------------------------------------------------------------------------------------------------------------------------------------------------------------------------------------------------------------------------------------------------------------------------------------------------------------------------------------------------------------------------------------------------------------------------------------------------------------------------------------------------------------------------------------------------------------------------------------------------------------------------------------------------------------------------------------------------------------------------------------------------------------------------------------------------------------------------------------------------------------------------------------------------------------------------------------------------------------------------------------------------------------------------------------------------------------------------------------------------------------------------------------------------------------------------------------------------------------------------------------------------------------------------------------------------------------------------------------------------------------------------------------------------------------------------------------------------------------------------------------------------------------------------------------------------------------------------------------------------------------------------------------------------------------------------------------------------------------------------------------------------------------------------------------------------------------------------------------------------------------------------------------------------------------------------------------------------------------------------------------------------------------------------------------------------------------------------------------------------------------------------------------------------------------------------------------------------------------------------------------------------------------------------------------------------------------------------------------------------------------------------------------------------------------------------------------------------------------------------------------------------------------------------------------------------------------------------------------------------------------------------------------------------------------------------------------------------------------------------------------------------------------------------------------------------------------------------------------------------------------------------------------------------------------------------------------------------------------------------------------------------------------------------------------------------------------------------------------------------------------------------------------------------------------------------------------------------------------------------------------------------------------------------------------------------------------------------------------------------------------------------------------------------------------------------------------------------------------------------------------------------------------------------------------------------------------------------------------------------------------------------------------------------------------------------------------------------------------------------------------------------------------------------------------------------------------------------------------------------------------------------------------------------------------------------------------------------------------------------------------------------------------------------------------------------------------------------------------------------------------------------------------------------------------------------------------------------------------------------------------------------------------------------------------------------------------------------------------------------------------------------------------------------------------------------------------------------------------------------------------------------------------------------------------------------------------------------------------------------------------------------------------------------------------------------------------------------------------------------------------------------------------------------------------------------------------------------------------------------------------------------------------------------------------------------------------------------------------------------------------------------------------------------------------------------------------------------------------------------------------------------------------------------------------------------------------------------------------------------------------------------------------------------------------------------------------------------------------------------------------------------------------------------------------------------------------------------------------------------------------------------------------------------------------------------------------------------------------------------------------------------------------------------------------------------------------------------------------------------------------------------------------------------------------------------------------------------------------------------------------------------------------------------------------------------------------------------------------------------------------------------------------------------------------------------------------------------------------------------------------------------------------------------------------------------------------------------------------------------------------------------------------------------------------------------------------------------------------------------------------------------------------------------------------------------------------------------------------------------------------+-------+\n",
            "|asin      |brand                  |category                                                                                                  |description                                                                                                                                                                                                                                                                                                                                                                                                                                                                                                                                                                                                                                                                                                                                                                                                                                                                                                                                                                                                                                                                                                                                                                                                                                                                                                                                                                                                                                                                                                                                                                                                                                                                                                                                                                                                                                                                                                                                                                                                                                                                                                                                                                                                                                                                                                                                                                                                                                                                                                                                                                                                                                                                                                                                                                                                                                                                                                                                                                                                                                                                                                                                                                                                                                                                                                                                                                                                                                                                                                                                                                                                                                                                                                                                                                                                                                                                                                                                                                                                                                                                                                                                                                                                                                                                                                                                                                                                                                                                                                                                                                                                                                                                                                                                                                                                                                                                                                                                                                                                                                                                                                                                                                                                                                                                                                                                                                                                                                                                                                                                                                                                                                                                                                                                                                                                                                                                                                                                                                                                                                                                                                                                                                                                                                                                                                                                                                                                                                                                                                                                                                                                                                                                                                                                                                                                                                                                                                                                                                                                                                                                                                                                                                                                                                                                                                                                                                                                                                                                                                                                                                                                                                                                                                                                                                                                                                                                                                                                                                                                                                                                                                                                                                                                                                                                                                                                                                                                                                                                                                                                                                                                                                                                                                                                                                                                                                                                                                                                                                                                                                                                                                                                                                                                                                                                                                                                                                                                                                                                                                                                                                                                                                                                                                                                                                                                                                                                                                                                                                                                                                                                                                                                                                                                                                                                                                                                                                                                                                                                                                                                                                                                                                                                                                                                                                                                                                                                                                                                                                                                                                                                                                                                                                                                                                                                                                                                                                                                                                                                                                                                                                                                                                   |overall|\n",
            "+----------+-----------------------+----------------------------------------------------------------------------------------------------------+----------------------------------------------------------------------------------------------------------------------------------------------------------------------------------------------------------------------------------------------------------------------------------------------------------------------------------------------------------------------------------------------------------------------------------------------------------------------------------------------------------------------------------------------------------------------------------------------------------------------------------------------------------------------------------------------------------------------------------------------------------------------------------------------------------------------------------------------------------------------------------------------------------------------------------------------------------------------------------------------------------------------------------------------------------------------------------------------------------------------------------------------------------------------------------------------------------------------------------------------------------------------------------------------------------------------------------------------------------------------------------------------------------------------------------------------------------------------------------------------------------------------------------------------------------------------------------------------------------------------------------------------------------------------------------------------------------------------------------------------------------------------------------------------------------------------------------------------------------------------------------------------------------------------------------------------------------------------------------------------------------------------------------------------------------------------------------------------------------------------------------------------------------------------------------------------------------------------------------------------------------------------------------------------------------------------------------------------------------------------------------------------------------------------------------------------------------------------------------------------------------------------------------------------------------------------------------------------------------------------------------------------------------------------------------------------------------------------------------------------------------------------------------------------------------------------------------------------------------------------------------------------------------------------------------------------------------------------------------------------------------------------------------------------------------------------------------------------------------------------------------------------------------------------------------------------------------------------------------------------------------------------------------------------------------------------------------------------------------------------------------------------------------------------------------------------------------------------------------------------------------------------------------------------------------------------------------------------------------------------------------------------------------------------------------------------------------------------------------------------------------------------------------------------------------------------------------------------------------------------------------------------------------------------------------------------------------------------------------------------------------------------------------------------------------------------------------------------------------------------------------------------------------------------------------------------------------------------------------------------------------------------------------------------------------------------------------------------------------------------------------------------------------------------------------------------------------------------------------------------------------------------------------------------------------------------------------------------------------------------------------------------------------------------------------------------------------------------------------------------------------------------------------------------------------------------------------------------------------------------------------------------------------------------------------------------------------------------------------------------------------------------------------------------------------------------------------------------------------------------------------------------------------------------------------------------------------------------------------------------------------------------------------------------------------------------------------------------------------------------------------------------------------------------------------------------------------------------------------------------------------------------------------------------------------------------------------------------------------------------------------------------------------------------------------------------------------------------------------------------------------------------------------------------------------------------------------------------------------------------------------------------------------------------------------------------------------------------------------------------------------------------------------------------------------------------------------------------------------------------------------------------------------------------------------------------------------------------------------------------------------------------------------------------------------------------------------------------------------------------------------------------------------------------------------------------------------------------------------------------------------------------------------------------------------------------------------------------------------------------------------------------------------------------------------------------------------------------------------------------------------------------------------------------------------------------------------------------------------------------------------------------------------------------------------------------------------------------------------------------------------------------------------------------------------------------------------------------------------------------------------------------------------------------------------------------------------------------------------------------------------------------------------------------------------------------------------------------------------------------------------------------------------------------------------------------------------------------------------------------------------------------------------------------------------------------------------------------------------------------------------------------------------------------------------------------------------------------------------------------------------------------------------------------------------------------------------------------------------------------------------------------------------------------------------------------------------------------------------------------------------------------------------------------------------------------------------------------------------------------------------------------------------------------------------------------------------------------------------------------------------------------------------------------------------------------------------------------------------------------------------------------------------------------------------------------------------------------------------------------------------------------------------------------------------------------------------------------------------------------------------------------------------------------------------------------------------------------------------------------------------------------------------------------------------------------------------------------------------------------------------------------------------------------------------------------------------------------------------------------------------------------------------------------------------------------------------------------------------------------------------------------------------------------------------------------------------------------------------------------------------------------------------------------------------------------------------------------------------------------------------------------------------------------------------------------------------------------------------------------------------------------------------------------------------------------------------------------------------------------------------------------------------------------------------------------------------------------------------------------------------------------------------------------------------------------------------------------------------------------------------------------------------------------------------------------------------------------------------------------------------------------------------------------------------------------------------------------------------------------------------------------------------------------------------------------------------------------------------------------------------------------------------------------------------------------------------------------------------------------------------------------------------------------------------------------------------------------------------------------------------------------------------------------------------------------------------------------------------------------------------------------------------------------------------------------------------------------------------------------------------------------------------------------------------------------------------------------------------------------------------------------------------------------------------------------------------------------------------------------------------------------------------------------------------------------------------------------------------------------------------------------------------------------------------------------------------------------------------------------------------------------------------------------------------------------------------------------------------------------------------------------------------------------------------------------------------------------------------------------------------------------------------------------------------------------------------------------------------------------------------------------+-------+\n",
            "|B00005NIND|Conde Nast Publications|[Magazine Subscriptions, Cooking, Food & Wine, Recipes & Techniques]                                      |[Bon Appetit is America's #1 food and entertaining magazine. You'll enjoy twelve months of great menus, cozy dinners, great advice and much more! Each issue is filled with delicious time-saving recipes, easy and elegant entertaining ideas, world class restaurant dishes made simple, and topped off by wine reviews and recommendations., <hr noshade=\"true\" size=\"1\" class=\"bucketDivider\" /> <div class=\"bucket\" id=\"productDescription\"> <b class=\"h1\">Editorial Reviews</b><br /> <div class=\"content\"> <p clear=\"all\"> <strong><font face=\"Verdana, Arial, Helvetica, sans-serif\" color=\"cc6600\">Who Reads <i>Bon Appetit</i>?</font></strong> <br> <i>Bon Appetit</i> readers are passionate, hands-on cooks who love being in the kitchen, entertaining, traveling, and dining out. They are interested in what's new in the food world, as well as up-to-date information on wine, beer, and spirits. <i>Bon Appetit</i> appeals to a wide variety of readers: Experienced cooks will find plenty of articles that improve their skills, while those new to the kitchen will learn the basics and more with the friendly and accessible format. When readers are crunched for time, they turn to <i>Bon Appetit</i> for creative, fresh, and modern dishes that can be made in just a few minutes. <br clear=\"all\"> <br> <strong><font face=\"Verdana, Arial, Helvetica, sans-serif\" color=\"cc6600\">What You Can Expect in Each Issue:</font></strong> <ul><li><b>Fast, Easy, Fresh:</b> Quick weeknight recipes that feature seasonal ingredients and interesting twists on favorite dishes. <li><b>Family Style:</b> A fast, fun dinner that everyone in the family will enjoy, plus ideas for what to do with the leftovers. <li><b>At the Market:</b> What's in season now and how to make the most of it. <li><b>Cooking Life:</b> One woman's adventures in the kitchen, with recipes. <li><b>Health Wise:</b> How to eat healthfully and well. <li><b>Wine & Spirits:</b> What to drink now. <li><b>Prep School:</b> Tips and tools from the <i>Bon Appetit</i> test kitchen to help you cook with confidence. <li><b>Features:</b> In-depth articles on a wide variety of topics. Recent issues have covered a dinner party in the garden; how to make your own corned beef; 30-minute desserts; An eco-vacation on an Italian farm; cooking from the farmers market; inexpensive kitchen makeovers; and more.</ul> <strong><font face=\"Verdana, Arial, Helvetica, sans-serif\" color=\"cc6600\">Past Issues:</font></strong><br> <table cellpadding=\"4\" border=\"0\" width=\"95%\" cellspacing=\"4\"> <tr class=\"tiny\" valign=\"top\" align=\"center\"> <td> <img border=\"0\" src=\"https://images-na.ssl-images-amazon.com/images/P/B00005NIND.01.PT01.MXXXXXXX.jpg\"> </td> <td> <img border=\"0\" src=\"https://images-na.ssl-images-amazon.com/images/P/B00005NIND.01.PT02.MXXXXXXX.jpg\"> </td> <td> <img border=\"0\" src=\"https://images-na.ssl-images-amazon.com/images/P/B00005NIND.01.PT03.MXXXXXXX.jpg\"> </td> <td> <img border=\"0\" src=\"https://images-na.ssl-images-amazon.com/images/P/B00005NIND.01.PT04.MXXXXXXX.jpg\"> </td> <td> <img border=\"0\" src=\"https://images-na.ssl-images-amazon.com/images/P/B00005NIND.01.PT05.MXXXXXXX.jpg\"> </td> <td> <img border=\"0\" src=\" https://images-na.ssl-images-amazon.com/images/P/B00005NIND.01.PT06.MXXXXXXX.jpg\"> </td> </tr> </table> <br> <strong><font face=\"Verdana, Arial, Helvetica, sans-serif\" color=\"cc6600\">Contributors:</font></strong><br> <i>Bon Appetit</i> attracts some of the best food writers and recipe developers around, including Molly Wizenburg of the blog \"Orangette,\" and cookbook writers <a href=\" http://www.amazon.com/Holiday-Baking-Williams-Kitchen-Library/dp/0783503083/\">Jeanne Thiel Kelly</a>, <a href=\" http://www.amazon.com/s/ref=nb_ss_b/104-3165931-1889549?url=search-alias%3Dstripbooks&field-keywords=Melissa+Clark&x=0&y=0\">Melissa Clark</a>, <a href=\" http://www.amazon.com/s/ref=nb_ss_b?url=search-alias%3Dstripbooks&field-keywords=Sara+Foster&x=0&y=0\">Sara Foster</a>, <a href=\" http://www.amazon.com/s/ref=nb_ss_b?url=search-alias%3Dstripbooks&field-keywords=Bruce+Aidells&x=0&y=0\">Bruce Aidells</a>, <a href=\" http://www.amazon.com/s/ref=nb_ss_b?url=search-alias%3Dstripbooks&field-keywords=Molly+Stevens&x=0&y=0\">Molly Stevens</a>, and <a href=\" http://www.amazon.com/s/ref=nb_ss_b?url=search-alias%3Dstripbooks&field-keywords=Rozanne+Gold&x=0&y=0\">Rozanne Gold</a>. <br clear= \"all\"><br> <strong><font face=\"Verdana, Arial, Helvetica, sans-serif\" color=\"cc6600\">Magazine Layout:</font></strong> <br> <i>Bon Appetit</i>'s layout is clean, modern, and full of lush color photography. Most recipes are photographed so that readers get an idea of the presentation of the dish. Some stories feature step-by-step illustrations explaining technique. <br clear= \"all\"><br> <strong><font face=\"Verdana, Arial, Helvetica, sans-serif\" color=\"cc6600\">Comparisons to Other Magazines:</font></strong> <br> In the world of food magazines, <i>Bon Appetit</i> stands out for its accessible approach to fine cooking. <i>Bon Appetit</i> takes an inclusive approach to stories, inviting readers in whatever their skill level and promising a delicious outcome every time. <br clear= \"all\"><br> <strong><font face=\"Verdana, Arial, Helvetica, sans-serif\" color=\"cc6600\">Awards:</font></strong><br> The editors of <i>Bon Appetit</i> have won many awards, including several James Beard awards for food journalism, an American Society of Magazine Editors award for best special issue, and numerous travel awards. <i>Bon Appetit</i> articles have appeared in The Best American Food Writing and The Best American Travel Writing. </b> </div> </div>]                                                                                                                                                                                                                                                                                                                                                                                                                                                                                                                                                                                                                                                                                                                                                                                                                                                                                                                                                                                                                                                                                                                                                                                                                                                                                                                                                                                                                                                                                                                                                                                                                                                                                                                                                                                                                                                                                                                                                                                                                                                                                                                                                                                                                                                                                                                                                                                                                                                                                                                                                                                                                                                                                                                                                                                                                                                                                                                                                                                                                                                                                                                                                                                                                                                                                                                                                                                                                                                                                                                                                                                                                                                                                                                                                                                                                                                                                                                                                                                                                                                                                                                                                                                                                                                                                                                                                                                                                                                                                                                                                                                                                                                                                                                                                                                                                                                                                                                                                                                                                                                                                                                                                                                                                                                                                                                                                                                                                                                                                                                                                                                                                                                                                                                                                                                                                         |5.0    |\n",
            "|B00005N7S5|                       |[Magazine Subscriptions, Technology, Computers & Internet]                                                |[]                                                                                                                                                                                                                                                                                                                                                                                                                                                                                                                                                                                                                                                                                                                                                                                                                                                                                                                                                                                                                                                                                                                                                                                                                                                                                                                                                                                                                                                                                                                                                                                                                                                                                                                                                                                                                                                                                                                                                                                                                                                                                                                                                                                                                                                                                                                                                                                                                                                                                                                                                                                                                                                                                                                                                                                                                                                                                                                                                                                                                                                                                                                                                                                                                                                                                                                                                                                                                                                                                                                                                                                                                                                                                                                                                                                                                                                                                                                                                                                                                                                                                                                                                                                                                                                                                                                                                                                                                                                                                                                                                                                                                                                                                                                                                                                                                                                                                                                                                                                                                                                                                                                                                                                                                                                                                                                                                                                                                                                                                                                                                                                                                                                                                                                                                                                                                                                                                                                                                                                                                                                                                                                                                                                                                                                                                                                                                                                                                                                                                                                                                                                                                                                                                                                                                                                                                                                                                                                                                                                                                                                                                                                                                                                                                                                                                                                                                                                                                                                                                                                                                                                                                                                                                                                                                                                                                                                                                                                                                                                                                                                                                                                                                                                                                                                                                                                                                                                                                                                                                                                                                                                                                                                                                                                                                                                                                                                                                                                                                                                                                                                                                                                                                                                                                                                                                                                                                                                                                                                                                                                                                                                                                                                                                                                                                                                                                                                                                                                                                                                                                                                                                                                                                                                                                                                                                                                                                                                                                                                                                                                                                                                                                                                                                                                                                                                                                                                                                                                                                                                                                                                                                                                                                                                                                                                                                                                                                                                                                                                                                                                                                                                                                                            |4.0    |\n",
            "|B00005NIPX|Conde Nast Publications|[Magazine Subscriptions, Professional & Educational Journals, Professional & Trade, Entertainment & Media]|[Nobody knows more about star power than VANITY FAIR, where you get access to people, personalities and power like no other magazine. From unmasking Deep Throat to intimate interviews with Jennifer Aniston, Martha Stewart and Lindsay Lohan, VANITY FAIR scooped the competition and gave its readers the must-read exclusives everyone has been talking about. Your subscription includes must-see special issues like the Hollywood issue and the Music issue, and monthly coverage of the movers and shakers in entertainment, media, politics, business and the arts., <hr noshade=\"true\" size=\"1\" class=\"bucketDivider\" /> <div class=\"bucket\" id=\"productDescription\"> <div class=\"content\"> <p clear=\"all\"> <strong><font face=\"Verdana, Arial, Helvetica, sans-serif\" color=\"cc6600\">Who Reads <i>Vanity Fair</i>?</font></strong> <table align=\"right\" width=\"350\" cellpadding=\"3\"><tr><td><a href=\"https://images-na.ssl-images-amazon.com/images/G/01/books/a-plus/VF2.jpg\"><img border=\"0\" alt=\"Vanity Fair Hollywood Issue, 2008\" src=\"https://images-na.ssl-images-amazon.com/images/G/01/books/a-plus/VF2s.jpg\"></a></td></tr> </table> Smart, stylish, and voraciously interested in the world, <i>Vanity Fair</i> readers have an extraordinary ability to discern what is truly worth their time, attention, and money. It is essential for <i>Vanity Fair</i> readers to be conversant in a wide range of topicsfrom global issues, economics, and travel, to beauty, fashion, and entertainmentand they pursue the knowledge of these subjects with an unusual intensity. <i>Vanity Fair</i> readers actively seek out friends and colleagues with whom they share ideas and experiences, creating a diverse and eclectic network of peers. Known for its ability to \"ignite a dinner party at 50 yards,\" <i>Vanity Fair</i> is meant for readers who enjoy expert-level knowledge and lively, spirited debate. <br><br> <strong><font face=\"Verdana, Arial, Helvetica, sans-serif\" color=\"cc6600\">What You Can Expect in Each Issue:</font></strong> <br><ul> <li><b>Fanfair:</b> <i>Vanity Fair</i>s monthly guide to truly unique and talked-about cultural events around the world, hot new CDs, books, and films; groundbreaking art and design; exhibitions and theatrical events; fashion, beauty, and travel trends. <li><b>Fairground:</b> The magazine brings its discriminating eye into the worlds most exclusive events, capturing candid snapshots of the cultures rich, famous, and iconic. This pictorial feature goes around the world, one party at a time. <li><b>Columns: </b> Insightful essays by distinguished writers, such as Dominick Dunne, James Wolcott, and Michael Wolff, cover the most relevant topics of the day. These investigations on crime, politics, business, society, the media, and current events are often touted on the cover and have a dedicated following. <li><b>Vanities: </b> Short takes on todays most compelling personalities, Vanities is a reader favorite, incorporating splashy graphics and quick wit. <li><b>Spotlight: </b> Spotlight shines a light on the stars of the future. Former discoveries include Catherine Zeta-Jones, Jennifer Lopez, Leonardo DiCaprio, and Gwyneth Paltrow, all before they made it big. <li><b>Proust Questionnaire: </b> An update of the 19th-century parlor game, this classic Q&A features a different celebrity subject every month. <li><b>Features:</b> In-depth, award-winning stories about entertainment, the arts, business, politics, fashion, design, and more, are at the heart of the magazine each month. </ul> <strong><font face=\"Verdana, Arial, Helvetica, sans-serif\" color=\"cc6600\">Past Issues:</font></strong><br> <table cellpadding=\"4\" border=\"0\" width=\"95%\" cellspacing=\"4\"> <tr class=\"tiny\" valign=\"top\" align=\"center\"> <td> <img border=\"0\" src=\"https://images-na.ssl-images-amazon.com/images/P/B00005NIPX.01.PT01.MXXXXXXX.jpg\"> </td> <td> <img border=\"0\" src=\"https://images-na.ssl-images-amazon.com/images/P/B00005NIPX.01.PT02.MXXXXXXX.jpg\"> </td> <td> <img border=\"0\" src=\"https://images-na.ssl-images-amazon.com/images/P/B00005NIPX.01.PT03.MXXXXXXX.jpg\"> </td> <td> <img border=\"0\" src=\"https://images-na.ssl-images-amazon.com/images/P/B00005NIPX.01.PT04.MXXXXXXX.jpg\"> </td> <td> <img border=\"0\" src=\"https://images-na.ssl-images-amazon.com/images/P/B00005NIPX.01.PT05.MXXXXXXX.jpg\"> </td> <td> <img border=\"0\" src=\" https://images-na.ssl-images-amazon.com/images/P/B00005NIPX.01.PT06.MXXXXXXX.jpg\"> </td> </tr> </table> <br> <strong><font face=\"Verdana, Arial, Helvetica, sans-serif\" color=\"cc6600\">Contributors:</font></strong><br> With every issue, <i>Vanity Fair</i> allows its contributors the freedom to indulge in extraordinary storytelling, making it a destination for the worlds most renowned photographers and award-winning journalists, such as <a href=\"http://www.amazon.com/s/ref=nb_ss_b?url=search-alias%3Dstripbooks&field-keywords=Marie+Brenner&x=0&y=0\">Marie Brenner</a>, <a href=\"http://www.amazon.com/s/ref=nb_ss_b?url=search-alias%3Dstripbooks&field-keywords=Bryan+Burrough&x=0&y=0\">Bryan Burrough</a>, <a href=\"http://www.amazon.com/s/ref=nb_ss_b?url=search-alias%3Dstripbooks&field-keywords=Bob+Colacello&x=0&y=0\">Bob Colacello</a>, <a href=\"http://www.amazon.com/s/ref=nb_ss_b?url=search-alias%3Dstripbooks&field-keywords=Amy+Fine+Collins&x=0&y=0\">Amy Fine Collins</a>, <a href=\"http://www.amazon.com/s/ref=nb_ss_b?url=search-alias%3Dstripbooks&field-keywords=Dominick+Dunne&x=0&y=0\">Dominick Dunne</a>, <a href=\"http://www.amazon.com/s/ref=nb_ss_b?url=search-alias%3Dstripbooks&field-keywords=Christopher+Hitchens&x=0&y=0\">Christopher Hitchens</a>, <a href=\"http://www.amazon.com/s/ref=nb_ss_b?url=search-alias%3Dstripbooks&field-keywords=Sebastian+Junger&x=0&y=0\">Sebastian Junger</a>, <a href=\"http://www.amazon.com/s/ref=nb_ss_b?url=search-alias%3Dstripbooks&field-keywords=William+Langewiesche&x=0&y=0\">William Langewiesche</a>, <a href=\"http://www.amazon.com/s/ref=nb_ss_b?url=search-alias%3Dstripbooks&field-keywords=Maureen+Orth&x=0&y=0\">Maureen Orth</a>, <a href=\"http://www.amazon.com/s/ref=nb_ss_b?url=search-alias%3Dstripbooks&field-keywords=Todd+Purdum&x=0&y=0\">Todd Purdum</a>, <a href=\"http://www.amazon.com/s/ref=nb_ss_b?url=search-alias%3Dstripbooks&field-keywords=James+Wolcott&x=0&y=0\">James Wolcott</a>, and <a href=\"http://www.amazon.com/s/ref=nb_ss_b?url=search-alias%3Dstripbooks&field-keywords=Michael+Wolff&x=0&y=0\">Michael Wolff</a>; and photographers such as <a href=\"http://www.amazon.com/Studios-Sea-Artists-Long-Islands/dp/0810904489/ref=sr_1_7?ie=UTF8&s=books&qid=1210870616&sr=1-7\">Jonathan Becker</a>, <a href=\"http://www.amazon.com/s/ref=nb_ss_b?url=search-alias%3Dstripbooks&field-keywords=Harry+Benson&x=0&y=0\">Harry Benson</a>, <a href=\"http://www.amazon.com/s/ref=nb_ss_b?url=search-alias%3Dstripbooks&field-keywords=Patrick+Demarchelier&x=0&y=0\">Patrick Demarchelier</a>, <a href=\"http://www.amazon.com/s/ref=nb_ss_b?url=search-alias%3Dstripbooks&field-keywords=Todd+Eberle&x=0&y=0\">Todd Eberle</a>, <a href=\"http://www.amazon.com/s/ref=nb_ss_b?url=search-alias%3Dstripbooks&field-keywords=Larry+Fink&x=0&y=0\">Larry Fink</a>, <a href=\"http://www.amazon.com/s/ref=nb_ss_b?url=search-alias%3Dstripbooks&field-keywords=Jonas+Karlsson&x=0&y=0\">Jonas Karlsson</a>, <a href=\"http://www.amazon.com/s/ref=nb_ss_b?url=search-alias%3Dstripbooks&field-keywords=Annie+Leibovitz&x=0&y=0\">Annie Leibovitz</a>, <a href=\"http://www.amazon.com/s/ref=nb_ss_b?url=search-alias%3Daps&field-keywords=Tim+Hetherington&x=0&y=0\">Tim Hetherington</a>, <a href=\"http://www.amazon.com/s/ref=nb_ss_b?url=search-alias%3Daps&field-keywords=Norman+Jean+Roy&x=0&y=0\">Norman Jean Roy</a>, <a href=\"http://www.amazon.com/s/ref=nb_ss_gw?url=search-alias%3Daps&field-keywords=Mark+Seliger&x=0&y=0\">Mark Seliger</a>, <a href=\"http://www.amazon.com/s/ref=nb_ss_gw?url=search-alias%3Daps&field-keywords=Mario+Testino&x=0&y=0\">Mario Testino</a>, and <a href=\"http://www.amazon.com/s/ref=nb_ss_gw?url=search-alias%3Daps&field-keywords=Bruce+Weber&x=0&y=0\">Bruce Weber</a>. <br clear= \"all\"><br> <strong><font face=\"Verdana, Arial, Helvetica, sans-serif\" color=\"cc6600\">Magazine Layout:</font></strong> <br> With a dynamic combination of big pictures and big stories, <i>Vanity Fair</i> delivers both bold, beautiful photography and the very best thought-provoking journalism in a clean, bold design that is simple yet sophisticated, minimal yet full of restrained energy. When it comes to visually expressing the passions of its stable of photographers, illustrators, writers, and editors, the magazine must look as smart and powerful as the topics it covers. <br clear= \"all\"><br> <strong><font face=\"Verdana, Arial, Helvetica, sans-serif\" color=\"cc6600\">Comparisons to Other Magazines:</font></strong> <br> <table align=\"right\" width=\"350\" cellpadding=\"3\"><tr><td><a href=\"https://images-na.ssl-images-amazon.com/images/G/01/books/a-plus/VF1.jpg\"><img border=\"0\" alt=\"Vanity Fair June 1997\" src=\"https://images-na.ssl-images-amazon.com/images/G/01/books/a-plus/VF1s.jpg\"></a></td></tr> </table> With a broad range of interesting subjects, <i>Vanity Fair</i> is a general interest magazine that captures the best of the best, from world affairs to entertainment, business to style, design to society. <i>Vanity Fair</i> is unique in its ability to act as a cultural catalysta magazine that provokes and drives the popular dialogue. No other magazine can match <i>Vanity Fair</i>'s unique mix of stunning photography, in-depth reportage, and social commentary. Each month, <i>Vanity Fair</i> accelerates ideas and images to center stage, creating an unrivaled media event that attracts millions of modern, sophisticated readers. <br><br> <strong><font face=\"Verdana, Arial, Helvetica, sans-serif\" color=\"cc6600\">Advertising:</font></strong> <br> <i>Vanity Fair</i>'s advertisers are as eclectic as the editorial content. Fashion and retail advertisers are responsible for the majority of <i>Vanity Fair</i>'s ad pages, but other advertising partners stem from a wide array of consumer categories, including automotive, financial institutions, not-for-profits, corporate entities, beauty, travel, entertainment/media, home furnishings, food, and wine and spirits. On average, a little more than half of the pages in <i>Vanity Fair</i> are devoted to advertising (56%). <br><br> <strong><font face=\"Verdana, Arial, Helvetica, sans-serif\" color=\"cc6600\">Awards:</font></strong> <br> <ul> <li>The American Society of Magazine Editors has nominated <i>Vanity Fair</i> for 63 National Magazine Awards since 1984; the magazine has won 15 times <li>Winner of National Magazine Awards for Reporting and Photo Portfolio, 2008 <li>Winner of National Magazine Award, Columns & Commentary 2007 <li>Winner of National Magazine Award, Public Interest 2007 <li>Winner of the 51st annual World Press Photo of the Year 2007 <li>Gold Medal Award, Photography, Spread/Single Page, Society of Publication Designers 42nd Annual Competition 2007 <li>Graydon Carter: The only two-time winner of Adweek magazine's Editor of the Year <li>248 awards for design and photography since 1984 <li>Included on Adweeks Hot List nine timesmore than any other magazine </b> </div> </div>]|2.0    |\n",
            "|B00005N7TL|Conde Nast Publications|[Magazine Subscriptions, Science, History &amp; Nature, Technology]                                       |[WIRED uncovers the most surprising and resonant stories about the people, companies, technologies and ideas that are transforming our lives. Whether it's technology...business...global politics...new media...arts and culture...the environment...or the best new products, WIRED is there, on the front lines of the 21st Century. Find out what's next with WIRED!, , , , ]                                                                                                                                                                                                                                                                                                                                                                                                                                                                                                                                                                                                                                                                                                                                                                                                                                                                                                                                                                                                                                                                                                                                                                                                                                                                                                                                                                                                                                                                                                                                                                                                                                                                                                                                                                                                                                                                                                                                                                                                                                                                                                                                                                                                                                                                                                                                                                                                                                                                                                                                                                                                                                                                                                                                                                                                                                                                                                                                                                                                                                                                                                                                                                                                                                                                                                                                                                                                                                                                                                                                                                                                                                                                                                                                                                                                                                                                                                                                                                                                                                                                                                                                                                                                                                                                                                                                                                                                                                                                                                                                                                                                                                                                                                                                                                                                                                                                                                                                                                                                                                                                                                                                                                                                                                                                                                                                                                                                                                                                                                                                                                                                                                                                                                                                                                                                                                                                                                                                                                                                                                                                                                                                                                                                                                                                                                                                                                                                                                                                                                                                                                                                                                                                                                                                                                                                                                                                                                                                                                                                                                                                                                                                                                                                                                                                                                                                                                                                                                                                                                                                                                                                                                                                                                                                                                                                                                                                                                                                                                                                                                                                                                                                                                                                                                                                                                                                                                                                                                                                                                                                                                                                                                                                                                                                                                                                                                                                                                                                                                                                                                                                                                                                                                                                                                                                                                                                                                                                                                                                                                                                                                                                                                                                                                                                                                                                                                                                                                                                                                                                                                                                                                                                                                                                                                                                                                                                                                                                                                                                                                                                                                                                                                                                                                                                                                                                                                                                                                                                                                                                                                                                                                                                                                                                                                                             |5.0    |\n",
            "|B00005N7P0|Future US, Inc.        |[Magazine Subscriptions, Technology, Computers &amp; Internet]                                            |[MAXIMUM PC is the ultimate upgrade for the savvy PC owners. Every month, the magazine is packed with breaking news, tons of tips &amp; techniques, and the most in-depth reviews anywhere., Designed for the rabid PC hobbyist, <i>Maximum PC</i> brings tons of news and reviews written in an irreverent, edgy style. Full disclosure is the modus operandi here, and there's an almost overwhelming amount of tech specs and features for each product that's discussed, tweaked, stretched, shaken, and stirred. Whether you want to upgrade your CPU or compare the newest motherboards and graphics cards, <i>Maximum PC</i> is a great resource for all your PC computing needs. <i>--Michael Lewis</i>, , ]                                                                                                                                                                                                                                                                                                                                                                                                                                                                                                                                                                                                                                                                                                                                                                                                                                                                                                                                                                                                                                                                                                                                                                                                                                                                                                                                                                                                                                                                                                                                                                                                                                                                                                                                                                                                                                                                                                                                                                                                                                                                                                                                                                                                                                                                                                                                                                                                                                                                                                                                                                                                                                                                                                                                                                                                                                                                                                                                                                                                                                                                                                                                                                                                                                                                                                                                                                                                                                                                                                                                                                                                                                                                                                                                                                                                                                                                                                                                                                                                                                                                                                                                                                                                                                                                                                                                                                                                                                                                                                                                                                                                                                                                                                                                                                                                                                                                                                                                                                                                                                                                                                                                                                                                                                                                                                                                                                                                                                                                                                                                                                                                                                                                                                                                                                                                                                                                                                                                                                                                                                                                                                                                                                                                                                                                                                                                                                                                                                                                                                                                                                                                                                                                                                                                                                                                                                                                                                                                                                                                                                                                                                                                                                                                                                                                                                                                                                                                                                                                                                                                                                                                                                                                                                                                                                                                                                                                                                                                                                                                                                                                                                                                                                                                                                                                                                                                                                                                                                                                                                                                                                                                                                                                                                                                                                                                                                                                                                                                                                                                                                                                                                                                                                                                                                                                                                                                                                                                                                                                                                                                                                                                                                                                                                                                                                                                                                                                                                                                                                                                                                                                                                                                                                                                                                                                                                                                                                                                                                                                                                                                                                                                                                                                                                                                                                                                                                                                                                                          |1.0    |\n",
            "|B00005N7QI|Conde Nast Publications|[Magazine Subscriptions, Fashion &amp; Style, Men]                                                        |[GQ helps you look sharp and live smart. Each issue brings you revealing sports profiles, intimate photos of today's hottest up &amp; coming actresses and models, tips on fine food &amp; drink, sex, politics, fashion and grooming advice, The Style Guy's answers to your questions and so much more!, The \"GQ look\" is synonymous with classic cool and sophistication, and despite a recent outburst of trendy magazines (think <i><a href=\"/exec/obidos/ASIN/B00005NIPP/${0}\">Maxim</a></i> and <i><a href=\"/exec/obidos/ASIN/B000066B5I/${0}\">FHM</a></i>) vying for the attention of young professional males, the steeped-in-tradition monthly <i>GQ</i> carries on without missing a beat. Yes, there's more dcolletage gracing the cover than there used to be, but <i>GQ</i> continues to supply enough cultural commentary, celebrity profiles, features, and style guides to keep the modern man in touch with what's going on in the world from month to month., <i>GQ</i>'s ideal reader is probably one who actually might be able to afford any of the high-end suits, shoes, and watches featured among the countless ads packed between the covers. Though the average reader might enjoy scanning a fashion spread about steakhouses entitled \"How to Dress for a Porterhouse\" and reading articles like \"50 Ways to Blow Your Bonus,\" it's unlikely that such folly holds much practical advice. Literary editor Walter Kirn keeps short fiction on display, and Alan Richman's writing on food and dining out is always entertaining, even when he comes across as borderline cranky. Two regular Q&amp;A features, \"The Style Guy\" and \"Dr. Sooth,\" run the gamut from when it's appropriate to wear a straw hat to problems in the bedroom.<br /><i>--Brad Thomas Parsons</i>, , ]                                                                                                                                                                                                                                                                                                                                                                                                                                                                                                                                                                                                                                                                                                                                                                                                                                                                                                                                                                                                                                                                                                                                                                                                                                                                                                                                                                                                                                                                                                                                                                                                                                                                                                                                                                                                                                                                                                                                                                                                                                                                                                                                                                                                                                                                                                                                                                                                                                                                                                                                                                                                                                                                                                                                                                                                                                                                                                                                                                                                                                                                                                                                                                                                                                                                                                                                                                                                                                                                                                                                                                                                                                                                                                                                                                                                                                                                                                                                                                                                                                                                                                                                                                                                                                                                                                                                                                                                                                                                                                                                                                                                                                                                                                                                                                                                                                                                                                                                                                                                                                                                                                                                                                                                                                                                                                                                                                                                                                                                                                                                                                                                                                                                                                                                                                                                                                                                                                                                                                                                                                                                                                                                                                                                                                                                                                                                                                                                                                                                                                                                                                                                                                                                                                                                                                                                                                                                                                                                                                                                                                                                                                                                                                                                                                                                                                                                                                                                                                                                                                                                                                                                                                                                                                                                                                                                                                                                                                                                                                                                                                                                                                                                                                                                                                                                                                                                                                                                                                                                                                                                                                                                                                                                                                                                                                                                                                                                                                                                                                                                                                                                                                                                                                                                                                                                                                                                                                                                                                                                                                                                                                                                                                                                                                                                                                                                                                  |5.0    |\n",
            "|B00005QDWQ|Future US, Inc.        |[Magazine Subscriptions, Literary, Sci-Fi & Mystery, Science Fiction & Fantasy, Fantasy]                  |[Every issue of the Official Xbox Magazine has exclusive inside information on Xbox, games, in-depth authoritative and bluntly honest reviews. Plus cheats, tips and ways to make sure you get the most out of your Xbox!, \"Like <I>Maxim</I>, but about Xbox!\" was clearly the mandate given to Mike Salmon, former editor-in-chief of <I>PC Accelerator</I> and current editor-in-chief of <I>The Official Xbox Magazine</I>. He got it half right: this gamer lifestyle magazine has the locker-room feel of <I>Maxim</I> but lacks <I>Maxim</I>'s intelligent, tongue-in-cheek style. The result is something that looks like it was written by high-school sophomores. For example, a bio of Kasumi, a character in the game <I>Dead or Alive 3</I>, reads \"A redhead with a difference--she can take on all comers. And if <I>DoA 3</I> has the \"[breast] bounce on/off\" option, she'll definitely have a lot of comers.\" On the plus side, the game reviews and previews are informative and mostly free of bull. <I>--Mike Fehlauer</I>]                                                                                                                                                                                                                                                                                                                                                                                                                                                                                                                                                                                                                                                                                                                                                                                                                                                                                                                                                                                                                                                                                                                                                                                                                                                                                                                                                                                                                                                                                                                                                                                                                                                                                                                                                                                                                                                                                                                                                                                                                                                                                                                                                                                                                                                                                                                                                                                                                                                                                                                                                                                                                                                                                                                                                                                                                                                                                                                                                                                                                                                                                                                                                                                                                                                                                                                                                                                                                                                                                                                                                                                                                                                                                                                                                                                                                                                                                                                                                                                                                                                                                                                                                                                                                                                                                                                                                                                                                                                                                                                                                                                                                                                                                                                                                                                                                                                                                                                                                                                                                                                                                                                                                                                                                                                                                                                                                                                                                                                                                                                                                                                                                                                                                                                                                                                                                                                                                                                                                                                                                                                                                                                                                                                                                                                                                                                                                                                                                                                                                                                                                                                                                                                                                                                                                                                                                                                                                                                                                                                                                                                                                                                                                                                                                                                                                                                                                                                                                                                                                                                                                                                                                                                                                                                                                                                                                                                                                                                                                                                                                                                                                                                                                                                                                                                                                                                                                                                                                                                                                                                                                                                                                                                                                                                                                                                                                                                                                                                                                                                                                                                                                                                                                                                                                                                                                                                                                                                                                                                                                                                                                                                                                                                                                                                                                                                                                                                                                                                                                                                                                                                                                                                                                                                                                                                                                                                                                                                                                                                                                                                                                                                              |5.0    |\n",
            "|B00005N7PS|Cond Nast Publications |[Magazine Subscriptions, Fashion & Style, Men]                                                            |[Details sets the trends that get people talking...breaking the stories that keep you in the know, ahead of the crowd, and at the forefront of the hottest fashion, celebrities, movies, music, ideas, technology and issues of the day  long before everyone else!, <hr noshade=\"true\" size=\"1\" class=\"bucketDivider\" /> <div class=\"bucket\" id=\"productDescription\"> <b class=\"h1\">Editorial Reviews</b><br /> <div class=\"content\"> <p clear=\"all\"> <strong><font face=\"Verdana, Arial, Helvetica, sans-serif\" color=\"cc6600\">Who Reads <i>Details</i>?</font></strong> <br> With relevant, thought-provoking editorial content, portfolio-quality photography, and award-winning design, <i>DETAILS</i> stands at the forefront of culture and style and speaks to men who are confident, inquisitive, educated, and informed about where the world is goingand where its been. <i>DETAILS</i> is the magazine made for affluent, career-driven men who are forging the trends of their generation. <br clear=\"all\"> <br> <strong><font face=\"Verdana, Arial, Helvetica, sans-serif\" color=\"cc6600\">What You Can Expect in Each Issue:</font></strong><br> Regular sections of <i>Details</i> include: <ul> <li><b>Know+Tell:</b> A section dedicated to news for the conspicuously clued-in, Know+Tell covers the latest innovations in design, food, drinks, cars, grooming, music, film, books, and personal finance. <li><b>Style:</b> The one-stop source for up-to-the-minute advice on where to shop, what to buy, and the right ways to wear what you buy. With detailed fashion spreads, profiles of up-and-coming designers, news about store openings, and 10 Rules of Style from fashion icons, this section makes style accessible. <li><b>Dossier:</b> The home for every topic and issue a man cares aboutcareers, sex, relationships, masculinity, celebrity, fatherhood, and current eventsall presented with a fresh, unique perspective. <li><b>Exit:</b> The Exit feature reveals what your various choicesin everything from cars to clothes, pop-cultural figures to political candidatessay about you. <li><b>Culture:</b> Thought-provoking columns by award-winning authors <a href= http://www.amazon.com/s/ref=nb_ss_b/?url=search-alias%3Dstripbooks&field-keywords=Michael+Chabon&x=0&y=0>Michael Chabon</a> and <a href= http://www.amazon.com/s/ref=nb_ss_b?url=search-alias%3Dstripbooks&field-keywords=Augusten+Burroughs&x=0&y=0>Augusten Burroughs</a>. <li><b>Wiseguy:</b> A penetrating interview with a man of substance, intelligence, and experience, who shares his life lessons and his quick wit. <li><b>Features:</b> Longer-form stories including insightful cover profiles, clever cultural criticism, gorgeous fashion spreads, and gripping pieces of reportage pieces. </ul> <strong><font face=\"Verdana, Arial, Helvetica, sans-serif\" color=\"cc6600\">Past Issues:</font></strong><br> <table cellpadding=\"4\" border=\"0\" width=\"95%\" cellspacing=\"4\"> <tr class=\"tiny\" valign=\"top\" align=\"center\"> <td> <img border=\"0\" src=\"https://images-na.ssl-images-amazon.com/images/P/B00005N7PS.01.PT01.MXXXXXXX.jpg\"> </td> <td> <img border=\"0\" src=\"https://images-na.ssl-images-amazon.com/images/P/B00005N7PS.01.PT02.MXXXXXXX.jpg\"> </td> <td> <img border=\"0\" src=\"https://images-na.ssl-images-amazon.com/images/P/B00005N7PS.01.PT03.MXXXXXXX.jpg\"> </td> <td> <img border=\"0\" src=\"https://images-na.ssl-images-amazon.com/images/P/B00005N7PS.01.PT04.MXXXXXXX.jpg\"> </td> <td> <img border=\"0\" src=\"https://images-na.ssl-images-amazon.com/images/P/B00005N7PS.01.PT05.MXXXXXXX.jpg\"> </td> <td> <img border=\"0\" src=\" https://images-na.ssl-images-amazon.com/images/P/B00005N7PS.01.PT06.MXXXXXXX.jpg\"> </td> </tr> </table> <br> <strong><font face=\"Verdana, Arial, Helvetica, sans-serif\" color=\"cc6600\">Contributors:</font></strong><br> During his tenure, <i>DETAILS</i> editor-in-chief <a href= http://www.amazon.com/Details-Mens-Style-Manual-Ultimate/dp/159240328X/>Daniel Peres</a> has recruited such columnists as <a href= http://www.amazon.com/s/ref=nb_ss_b/?url=search-alias%3Dstripbooks&field-keywords=Michael+Chabon&x=0&y=0>Michael Chabon</a>, <a href= http://www.amazon.com/s/ref=nb_ss_b?url=search-alias%3Dstripbooks&field-keywords=Augusten+Burroughs&x=0&y=0>Augusten Burroughs</a>, <a href= http://www.amazon.com/s/ref=nb_ss_b?url=search-alias%3Dstripbooks&field-keywords=Anderson+Cooper&x=0&y=0>Anderson Cooper</a>, <a href= http://www.amazon.com/s/ref=nb_ss_b?url=search-alias%3Dstripbooks&field-keywords=Bruce+Wagner&x=0&y=0>Bruce Wagner</a>, and <a href= http://www.amazon.com/s/ref=nb_ss_b?url=search-alias%3Dstripbooks&field-keywords=Rick+Moody&x=0&y=0>Rick Moody</a> to the magazine, along with top-tier photographers such as <a href= http://www.amazon.com/s/ref=nb_ss_b/?url=search-alias%3Dstripbooks&field-keywords=Steven+Klein&x=0&y=0>Steven Klein</a>, <a href= http://www.amazon.com/s/ref=nb_ss_b?url=search-alias%3Dstripbooks&field-keywords=Terry+Richardson&x=0&y=0>Terry Richardson</a>, <A href= http://www.amazon.com/Michael-Thompson-Images/dp/B000OV16RG/>Michael Thompson</a>, Tom Munro, and <a href= http://www.amazon.com/s/ref=nb_ss_b?url=search-alias%3Dstripbooks&field-keywords=Mary+Ellen+Mark&x=0&y=0>Mary Ellen Mark</a>. <i>DETAILS</i> demands the finest writing and photography in the industry, and its contributors are reflections of the magazines dedication to providing the highest-quality content to its readership. <br clear= \"all\"><br> <strong><font face=\"Verdana, Arial, Helvetica, sans-serif\" color=\"cc6600\">Magazine Layout</font></strong> <br> <i>DETAILS</i> design is clever, conceptual, and clean. The magazine uses award-winning photography to complement its top-flight written features. And each section of the magazine is visually defined, with a distinct graphic identity that allows the reader to know where he is in the magazine. <br clear= \"all\"><br> <strong><font face=\"Verdana, Arial, Helvetica, sans-serif\" color=\"cc6600\">Comparisons to Other Magazines</font></strong> <br> <i>DETAILS</i> point of passionand of differentiationis its knowledge of its readers, their interests, and their tastes. <i>DETAILS</i> is the only magazine written for contemporary, successful, educated men who are interested in the latest events, the finest fashions, and the most cutting-edge ideas. <br clear= \"all\"><br> <strong><font face=\"Verdana, Arial, Helvetica, sans-serif\" color=\"cc6600\">Advertising</font></strong> <br> Apple, Armani, Bally, Banana Republic, Bang & Olufsen, Bloomingdales, Burberry, Cadillac, Calvin Klein, Claiborne, Coach, Converse, Diesel, DKNY, Dolce & Gabbana, Ford, French Connection, Gant, Grey Goose, Gucci, Guess, Hilfiger, Hugo Boss, Jaguar, Johnnie Walker, Lacoste, Land Rover, Louis Vuitton, Macys, Mercedes Benz, Mont Blanc, Nautica, Nordstroms, Patron, Polo, Prada, Salvatore Ferragamo, Stolichnaya, Svedka, Tods, Tom Ford Menswear, Yves Saint Laurent, and Zegna. <br clear=\"all\"> <br> <strong><font face=\"Verdana, Arial, Helvetica, sans-serif\" color=\"cc6600\">Awards</font></strong> <br> <i>DETAILS</i> has been one of the most honored magazines by its peers since it was re-launched in 2000. It has won two National Magazine Awards for Design (2002 and 2003), and been named finalist for seven other NMAs, including General Excellence. <i>DETAILS</i> has been recognized by the Society of Publication Designers with three Gold Medals in Magazine Design and one in Photography, as well as five Silver Medals. <br clear=\"all\"> <br> </b> </div> </div>]                                                                                                                                                                                                                                                                                                                                                                                                                                                                                                                                                                                                                                                                                                                                                                                                                                                                                                                                                                                                                                                                                                                                                                                                                                                                                                                                                                                                                                                                                                                                                                                                                                                                                                                                                                                                                                                                                                                                                                                                                                                                                                                                                                                                                                                                                                                                                                                                                                                                                                                                                                                                                                                                                                                                                                                                                                                                                                                                                                                                                                                                                                                                                                                                                                                                                                                                                                                                                                                                                                                                                                                                                                                                                                                                                                                                                                                                                            |5.0    |\n",
            "+----------+-----------------------+----------------------------------------------------------------------------------------------------------+----------------------------------------------------------------------------------------------------------------------------------------------------------------------------------------------------------------------------------------------------------------------------------------------------------------------------------------------------------------------------------------------------------------------------------------------------------------------------------------------------------------------------------------------------------------------------------------------------------------------------------------------------------------------------------------------------------------------------------------------------------------------------------------------------------------------------------------------------------------------------------------------------------------------------------------------------------------------------------------------------------------------------------------------------------------------------------------------------------------------------------------------------------------------------------------------------------------------------------------------------------------------------------------------------------------------------------------------------------------------------------------------------------------------------------------------------------------------------------------------------------------------------------------------------------------------------------------------------------------------------------------------------------------------------------------------------------------------------------------------------------------------------------------------------------------------------------------------------------------------------------------------------------------------------------------------------------------------------------------------------------------------------------------------------------------------------------------------------------------------------------------------------------------------------------------------------------------------------------------------------------------------------------------------------------------------------------------------------------------------------------------------------------------------------------------------------------------------------------------------------------------------------------------------------------------------------------------------------------------------------------------------------------------------------------------------------------------------------------------------------------------------------------------------------------------------------------------------------------------------------------------------------------------------------------------------------------------------------------------------------------------------------------------------------------------------------------------------------------------------------------------------------------------------------------------------------------------------------------------------------------------------------------------------------------------------------------------------------------------------------------------------------------------------------------------------------------------------------------------------------------------------------------------------------------------------------------------------------------------------------------------------------------------------------------------------------------------------------------------------------------------------------------------------------------------------------------------------------------------------------------------------------------------------------------------------------------------------------------------------------------------------------------------------------------------------------------------------------------------------------------------------------------------------------------------------------------------------------------------------------------------------------------------------------------------------------------------------------------------------------------------------------------------------------------------------------------------------------------------------------------------------------------------------------------------------------------------------------------------------------------------------------------------------------------------------------------------------------------------------------------------------------------------------------------------------------------------------------------------------------------------------------------------------------------------------------------------------------------------------------------------------------------------------------------------------------------------------------------------------------------------------------------------------------------------------------------------------------------------------------------------------------------------------------------------------------------------------------------------------------------------------------------------------------------------------------------------------------------------------------------------------------------------------------------------------------------------------------------------------------------------------------------------------------------------------------------------------------------------------------------------------------------------------------------------------------------------------------------------------------------------------------------------------------------------------------------------------------------------------------------------------------------------------------------------------------------------------------------------------------------------------------------------------------------------------------------------------------------------------------------------------------------------------------------------------------------------------------------------------------------------------------------------------------------------------------------------------------------------------------------------------------------------------------------------------------------------------------------------------------------------------------------------------------------------------------------------------------------------------------------------------------------------------------------------------------------------------------------------------------------------------------------------------------------------------------------------------------------------------------------------------------------------------------------------------------------------------------------------------------------------------------------------------------------------------------------------------------------------------------------------------------------------------------------------------------------------------------------------------------------------------------------------------------------------------------------------------------------------------------------------------------------------------------------------------------------------------------------------------------------------------------------------------------------------------------------------------------------------------------------------------------------------------------------------------------------------------------------------------------------------------------------------------------------------------------------------------------------------------------------------------------------------------------------------------------------------------------------------------------------------------------------------------------------------------------------------------------------------------------------------------------------------------------------------------------------------------------------------------------------------------------------------------------------------------------------------------------------------------------------------------------------------------------------------------------------------------------------------------------------------------------------------------------------------------------------------------------------------------------------------------------------------------------------------------------------------------------------------------------------------------------------------------------------------------------------------------------------------------------------------------------------------------------------------------------------------------------------------------------------------------------------------------------------------------------------------------------------------------------------------------------------------------------------------------------------------------------------------------------------------------------------------------------------------------------------------------------------------------------------------------------------------------------------------------------------------------------------------------------------------------------------------------------------------------------------------------------------------------------------------------------------------------------------------------------------------------------------------------------------------------------------------------------------------------------------------------------------------------------------------------------------------------------------------------------------------------------------------------------------------------------------------------------------------------------------------------------------------------------------------------------------------------------------------------------------------------------------------------------------------------------------------------------------------------------------------------------------------------------------------------------------------------------------------------------------------------------------------------------------------------------------------------------------------------------------------------------------------------------------------------------------------------------------------------------------------------------------------------------------------------------------------------------------------------------------------------------------------------------------------------------------------------------------------------------------------------------------------------------------------------------------------------------------------------------------------------------------------------------------------------------------------------------------------------------------------------------------------------------------------------------------------------------------------------------------------------------------------------------------------------------------------------------------------------------------------------------------------------------------------------+-------+\n",
            "\n"
          ],
          "name": "stdout"
        }
      ]
    },
    {
      "cell_type": "markdown",
      "metadata": {
        "id": "kgz79abP6N4b"
      },
      "source": [
        "The magazines recommended to reviewer A5RHZE7B8SV5Q are categorized as Cooking and Fashion & Style, which are closely related to the user's actual preferences.  Reviewer A5RHZE7B8SV5Q is also recommended Entertainment & Media as well as Art & Art History magazines.  This could stem from the reviewer's interest in Men's Lifestyle content.  Two of the recommended magazines are also fro the brand 'Conde Nast Publications,' which the user already consumes on a regular."
      ]
    },
    {
      "cell_type": "code",
      "metadata": {
        "id": "UOTWlOUA4exO"
      },
      "source": [
        ""
      ],
      "execution_count": null,
      "outputs": []
    }
  ]
}