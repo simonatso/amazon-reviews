{
 "cells": [
  {
   "cell_type": "code",
   "execution_count": 1,
   "id": "7d9ba076",
   "metadata": {},
   "outputs": [],
   "source": [
    "import json\n",
    "import pandas as pd\n",
    "import numpy as np\n",
    "import seaborn as sns\n",
    "import matplotlib.pyplot as plt"
   ]
  },
  {
   "cell_type": "code",
   "execution_count": 2,
   "id": "109bb036",
   "metadata": {},
   "outputs": [],
   "source": [
    "# Load in the data\n",
    "metaPath = 'Data/meta_Magazine_Subscriptions.json'\n",
    "reviewPath = 'Data/Magazine_Subscriptions.json'\n",
    "\n",
    "metaData = []\n",
    "reviewData = []\n",
    "\n",
    "for line in open(metaPath, 'r'):\n",
    "    metaData.append(json.loads(line))\n",
    "    \n",
    "for line in open(reviewPath, 'r'):\n",
    "    reviewData.append(json.loads(line))"
   ]
  },
  {
   "cell_type": "code",
   "execution_count": 3,
   "id": "221899a3",
   "metadata": {},
   "outputs": [
    {
     "data": {
      "text/html": [
       "<div>\n",
       "<style scoped>\n",
       "    .dataframe tbody tr th:only-of-type {\n",
       "        vertical-align: middle;\n",
       "    }\n",
       "\n",
       "    .dataframe tbody tr th {\n",
       "        vertical-align: top;\n",
       "    }\n",
       "\n",
       "    .dataframe thead th {\n",
       "        text-align: right;\n",
       "    }\n",
       "</style>\n",
       "<table border=\"1\" class=\"dataframe\">\n",
       "  <thead>\n",
       "    <tr style=\"text-align: right;\">\n",
       "      <th></th>\n",
       "      <th>category</th>\n",
       "      <th>tech1</th>\n",
       "      <th>description</th>\n",
       "      <th>fit</th>\n",
       "      <th>title</th>\n",
       "      <th>also_buy</th>\n",
       "      <th>tech2</th>\n",
       "      <th>brand</th>\n",
       "      <th>feature</th>\n",
       "      <th>rank</th>\n",
       "      <th>also_view</th>\n",
       "      <th>details</th>\n",
       "      <th>main_cat</th>\n",
       "      <th>similar_item</th>\n",
       "      <th>date</th>\n",
       "      <th>price</th>\n",
       "      <th>asin</th>\n",
       "      <th>imageURL</th>\n",
       "      <th>imageURLHighRes</th>\n",
       "    </tr>\n",
       "  </thead>\n",
       "  <tbody>\n",
       "    <tr>\n",
       "      <th>0</th>\n",
       "      <td>[Magazine Subscriptions, Professional &amp; Educat...</td>\n",
       "      <td></td>\n",
       "      <td>[REASON is edited for people interested in eco...</td>\n",
       "      <td></td>\n",
       "      <td>&lt;span class=\"a-size-medium a-color-secondary\"</td>\n",
       "      <td>[B002PXVYLE, B01MCU84LB, B000UHI2LW, B01AKS14A...</td>\n",
       "      <td></td>\n",
       "      <td>Reason Magazine</td>\n",
       "      <td>[]</td>\n",
       "      <td>[]</td>\n",
       "      <td>[B002PXVYLE, B000UHI2LW, B01MCU84LB, B002PXW18...</td>\n",
       "      <td>{'Format:': 'Print Magazine', 'Shipping: ': 'C...</td>\n",
       "      <td>Magazine Subscriptions</td>\n",
       "      <td></td>\n",
       "      <td></td>\n",
       "      <td></td>\n",
       "      <td>B00005N7NQ</td>\n",
       "      <td>[https://images-na.ssl-images-amazon.com/image...</td>\n",
       "      <td>[https://images-na.ssl-images-amazon.com/image...</td>\n",
       "    </tr>\n",
       "    <tr>\n",
       "      <th>1</th>\n",
       "      <td>[Magazine Subscriptions, Arts, Music &amp;amp; Pho...</td>\n",
       "      <td></td>\n",
       "      <td>[Written by and for musicians. Covers a variet...</td>\n",
       "      <td></td>\n",
       "      <td>&lt;span class=\"a-size-medium a-color-secondary\"</td>\n",
       "      <td>[B002PXVYGE, B0054LRNC8, B000BVEELE, B00006KC3...</td>\n",
       "      <td></td>\n",
       "      <td>String Letter Publishers</td>\n",
       "      <td>[]</td>\n",
       "      <td>742 in Magazine Subscriptions (</td>\n",
       "      <td>[B002PXVYGE, B0054LRNC8, B00006L16A, 171906487...</td>\n",
       "      <td>{'Format:': 'Print Magazine', 'Shipping: ': 'C...</td>\n",
       "      <td>Magazine Subscriptions</td>\n",
       "      <td></td>\n",
       "      <td></td>\n",
       "      <td></td>\n",
       "      <td>B00005N7OC</td>\n",
       "      <td>[https://images-na.ssl-images-amazon.com/image...</td>\n",
       "      <td>[https://images-na.ssl-images-amazon.com/image...</td>\n",
       "    </tr>\n",
       "    <tr>\n",
       "      <th>2</th>\n",
       "      <td>[Magazine Subscriptions, Fashion &amp;amp; Style, ...</td>\n",
       "      <td></td>\n",
       "      <td>[Allure is the beauty expert. Every issue is f...</td>\n",
       "      <td></td>\n",
       "      <td>&lt;span class=\"a-size-medium a-color-secondary\"</td>\n",
       "      <td>[B001THPA4O, B002PXVZWW, B001THPA1M, B001THPA1...</td>\n",
       "      <td></td>\n",
       "      <td>Conde Nast Publications</td>\n",
       "      <td>[]</td>\n",
       "      <td>[]</td>\n",
       "      <td>[B002PXVZWW, B001THPA4O, B001THPA1M, B01N819UD...</td>\n",
       "      <td>{'Format:': 'Print Magazine', 'Shipping: ': 'C...</td>\n",
       "      <td>Magazine Subscriptions</td>\n",
       "      <td></td>\n",
       "      <td></td>\n",
       "      <td></td>\n",
       "      <td>B00005N7OD</td>\n",
       "      <td>[https://images-na.ssl-images-amazon.com/image...</td>\n",
       "      <td>[https://images-na.ssl-images-amazon.com/image...</td>\n",
       "    </tr>\n",
       "    <tr>\n",
       "      <th>3</th>\n",
       "      <td>[Magazine Subscriptions, Sports, Recreation &amp; ...</td>\n",
       "      <td></td>\n",
       "      <td>[FLIGHT JOURNAL includes articles on aviation ...</td>\n",
       "      <td></td>\n",
       "      <td>&lt;span class=\"a-size-medium a-color-secondary\"</td>\n",
       "      <td>[B07JVF7QW4, B00ATQ6FPY, B002G551F6, B00008CGW...</td>\n",
       "      <td></td>\n",
       "      <td>AirAge Publishing</td>\n",
       "      <td>[]</td>\n",
       "      <td>[]</td>\n",
       "      <td>[B002G551F6, B00ATQ6FPY, B00005N7PT, B001THPA2...</td>\n",
       "      <td>{'Format:': 'Print Magazine', 'Shipping: ': 'C...</td>\n",
       "      <td>Magazine Subscriptions</td>\n",
       "      <td></td>\n",
       "      <td></td>\n",
       "      <td></td>\n",
       "      <td>B00005N7O9</td>\n",
       "      <td>[https://images-na.ssl-images-amazon.com/image...</td>\n",
       "      <td>[https://images-na.ssl-images-amazon.com/image...</td>\n",
       "    </tr>\n",
       "    <tr>\n",
       "      <th>4</th>\n",
       "      <td>[Magazine Subscriptions, Professional &amp; Educat...</td>\n",
       "      <td></td>\n",
       "      <td>[RIDER is published for the road and street ri...</td>\n",
       "      <td></td>\n",
       "      <td>&lt;span class=\"a-size-medium a-color-secondary\"</td>\n",
       "      <td>[B002PXVYD2, B01BM7TOU6, B000060MKJ, B000BNNIG...</td>\n",
       "      <td></td>\n",
       "      <td>EPG Media &amp; Specialty Information</td>\n",
       "      <td>[]</td>\n",
       "      <td>[]</td>\n",
       "      <td>[B01BM7TOU6, B000060MKJ, B002PXVYD2, B000BNNIG...</td>\n",
       "      <td>{'Format:': 'Print Magazine', 'Shipping: ': 'C...</td>\n",
       "      <td>Magazine Subscriptions</td>\n",
       "      <td></td>\n",
       "      <td></td>\n",
       "      <td></td>\n",
       "      <td>B00005N7O6</td>\n",
       "      <td>[https://images-na.ssl-images-amazon.com/image...</td>\n",
       "      <td>[https://images-na.ssl-images-amazon.com/image...</td>\n",
       "    </tr>\n",
       "  </tbody>\n",
       "</table>\n",
       "</div>"
      ],
      "text/plain": [
       "                                            category tech1  \\\n",
       "0  [Magazine Subscriptions, Professional & Educat...         \n",
       "1  [Magazine Subscriptions, Arts, Music &amp; Pho...         \n",
       "2  [Magazine Subscriptions, Fashion &amp; Style, ...         \n",
       "3  [Magazine Subscriptions, Sports, Recreation & ...         \n",
       "4  [Magazine Subscriptions, Professional & Educat...         \n",
       "\n",
       "                                         description fit  \\\n",
       "0  [REASON is edited for people interested in eco...       \n",
       "1  [Written by and for musicians. Covers a variet...       \n",
       "2  [Allure is the beauty expert. Every issue is f...       \n",
       "3  [FLIGHT JOURNAL includes articles on aviation ...       \n",
       "4  [RIDER is published for the road and street ri...       \n",
       "\n",
       "                                           title  \\\n",
       "0  <span class=\"a-size-medium a-color-secondary\"   \n",
       "1  <span class=\"a-size-medium a-color-secondary\"   \n",
       "2  <span class=\"a-size-medium a-color-secondary\"   \n",
       "3  <span class=\"a-size-medium a-color-secondary\"   \n",
       "4  <span class=\"a-size-medium a-color-secondary\"   \n",
       "\n",
       "                                            also_buy tech2  \\\n",
       "0  [B002PXVYLE, B01MCU84LB, B000UHI2LW, B01AKS14A...         \n",
       "1  [B002PXVYGE, B0054LRNC8, B000BVEELE, B00006KC3...         \n",
       "2  [B001THPA4O, B002PXVZWW, B001THPA1M, B001THPA1...         \n",
       "3  [B07JVF7QW4, B00ATQ6FPY, B002G551F6, B00008CGW...         \n",
       "4  [B002PXVYD2, B01BM7TOU6, B000060MKJ, B000BNNIG...         \n",
       "\n",
       "                               brand feature                             rank  \\\n",
       "0                    Reason Magazine      []                               []   \n",
       "1           String Letter Publishers      []  742 in Magazine Subscriptions (   \n",
       "2            Conde Nast Publications      []                               []   \n",
       "3                  AirAge Publishing      []                               []   \n",
       "4  EPG Media & Specialty Information      []                               []   \n",
       "\n",
       "                                           also_view  \\\n",
       "0  [B002PXVYLE, B000UHI2LW, B01MCU84LB, B002PXW18...   \n",
       "1  [B002PXVYGE, B0054LRNC8, B00006L16A, 171906487...   \n",
       "2  [B002PXVZWW, B001THPA4O, B001THPA1M, B01N819UD...   \n",
       "3  [B002G551F6, B00ATQ6FPY, B00005N7PT, B001THPA2...   \n",
       "4  [B01BM7TOU6, B000060MKJ, B002PXVYD2, B000BNNIG...   \n",
       "\n",
       "                                             details                main_cat  \\\n",
       "0  {'Format:': 'Print Magazine', 'Shipping: ': 'C...  Magazine Subscriptions   \n",
       "1  {'Format:': 'Print Magazine', 'Shipping: ': 'C...  Magazine Subscriptions   \n",
       "2  {'Format:': 'Print Magazine', 'Shipping: ': 'C...  Magazine Subscriptions   \n",
       "3  {'Format:': 'Print Magazine', 'Shipping: ': 'C...  Magazine Subscriptions   \n",
       "4  {'Format:': 'Print Magazine', 'Shipping: ': 'C...  Magazine Subscriptions   \n",
       "\n",
       "  similar_item date price        asin  \\\n",
       "0                          B00005N7NQ   \n",
       "1                          B00005N7OC   \n",
       "2                          B00005N7OD   \n",
       "3                          B00005N7O9   \n",
       "4                          B00005N7O6   \n",
       "\n",
       "                                            imageURL  \\\n",
       "0  [https://images-na.ssl-images-amazon.com/image...   \n",
       "1  [https://images-na.ssl-images-amazon.com/image...   \n",
       "2  [https://images-na.ssl-images-amazon.com/image...   \n",
       "3  [https://images-na.ssl-images-amazon.com/image...   \n",
       "4  [https://images-na.ssl-images-amazon.com/image...   \n",
       "\n",
       "                                     imageURLHighRes  \n",
       "0  [https://images-na.ssl-images-amazon.com/image...  \n",
       "1  [https://images-na.ssl-images-amazon.com/image...  \n",
       "2  [https://images-na.ssl-images-amazon.com/image...  \n",
       "3  [https://images-na.ssl-images-amazon.com/image...  \n",
       "4  [https://images-na.ssl-images-amazon.com/image...  "
      ]
     },
     "execution_count": 3,
     "metadata": {},
     "output_type": "execute_result"
    }
   ],
   "source": [
    "# convert metadata into pandas dataframe\n",
    "\n",
    "metaDF = pd.DataFrame.from_dict(metaData)\n",
    "metaDF.head()"
   ]
  },
  {
   "cell_type": "code",
   "execution_count": 4,
   "id": "f7b56512",
   "metadata": {},
   "outputs": [
    {
     "data": {
      "text/html": [
       "<div>\n",
       "<style scoped>\n",
       "    .dataframe tbody tr th:only-of-type {\n",
       "        vertical-align: middle;\n",
       "    }\n",
       "\n",
       "    .dataframe tbody tr th {\n",
       "        vertical-align: top;\n",
       "    }\n",
       "\n",
       "    .dataframe thead th {\n",
       "        text-align: right;\n",
       "    }\n",
       "</style>\n",
       "<table border=\"1\" class=\"dataframe\">\n",
       "  <thead>\n",
       "    <tr style=\"text-align: right;\">\n",
       "      <th></th>\n",
       "      <th>overall</th>\n",
       "      <th>vote</th>\n",
       "      <th>verified</th>\n",
       "      <th>reviewTime</th>\n",
       "      <th>reviewerID</th>\n",
       "      <th>asin</th>\n",
       "      <th>reviewerName</th>\n",
       "      <th>reviewText</th>\n",
       "      <th>summary</th>\n",
       "      <th>unixReviewTime</th>\n",
       "      <th>style</th>\n",
       "      <th>image</th>\n",
       "    </tr>\n",
       "  </thead>\n",
       "  <tbody>\n",
       "    <tr>\n",
       "      <th>0</th>\n",
       "      <td>5.0</td>\n",
       "      <td>9</td>\n",
       "      <td>False</td>\n",
       "      <td>11 8, 2001</td>\n",
       "      <td>AH2IFH762VY5U</td>\n",
       "      <td>B00005N7P0</td>\n",
       "      <td>ted sedlmayr</td>\n",
       "      <td>for computer enthusiast, MaxPC is a welcome si...</td>\n",
       "      <td>AVID READER SINCE \"boot\"  WAS THE NAME</td>\n",
       "      <td>1005177600</td>\n",
       "      <td>NaN</td>\n",
       "      <td>NaN</td>\n",
       "    </tr>\n",
       "    <tr>\n",
       "      <th>1</th>\n",
       "      <td>5.0</td>\n",
       "      <td>9</td>\n",
       "      <td>False</td>\n",
       "      <td>10 31, 2001</td>\n",
       "      <td>AOSFI0JEYU4XM</td>\n",
       "      <td>B00005N7P0</td>\n",
       "      <td>Amazon Customer</td>\n",
       "      <td>Thank god this is not a Ziff Davis publication...</td>\n",
       "      <td>The straight scoop</td>\n",
       "      <td>1004486400</td>\n",
       "      <td>NaN</td>\n",
       "      <td>NaN</td>\n",
       "    </tr>\n",
       "    <tr>\n",
       "      <th>2</th>\n",
       "      <td>3.0</td>\n",
       "      <td>14</td>\n",
       "      <td>False</td>\n",
       "      <td>03 24, 2007</td>\n",
       "      <td>A3JPFWKS83R49V</td>\n",
       "      <td>B00005N7OJ</td>\n",
       "      <td>Bryan Carey</td>\n",
       "      <td>Antiques Magazine is a publication made for an...</td>\n",
       "      <td>Antiques Magazine is Good, but not for Everyone</td>\n",
       "      <td>1174694400</td>\n",
       "      <td>{'Format:': ' Print Magazine'}</td>\n",
       "      <td>NaN</td>\n",
       "    </tr>\n",
       "    <tr>\n",
       "      <th>3</th>\n",
       "      <td>5.0</td>\n",
       "      <td>13</td>\n",
       "      <td>False</td>\n",
       "      <td>11 10, 2006</td>\n",
       "      <td>A19FKU6JZQ2ECJ</td>\n",
       "      <td>B00005N7OJ</td>\n",
       "      <td>Patricia L. Porada</td>\n",
       "      <td>This beautiful magazine is in itself a work of...</td>\n",
       "      <td>THE  DISCERNING READER</td>\n",
       "      <td>1163116800</td>\n",
       "      <td>{'Format:': ' Print Magazine'}</td>\n",
       "      <td>NaN</td>\n",
       "    </tr>\n",
       "    <tr>\n",
       "      <th>4</th>\n",
       "      <td>5.0</td>\n",
       "      <td>NaN</td>\n",
       "      <td>True</td>\n",
       "      <td>07 14, 2014</td>\n",
       "      <td>A25MDGOMZ2GALN</td>\n",
       "      <td>B00005N7P0</td>\n",
       "      <td>Alvey</td>\n",
       "      <td>A great read every issue.</td>\n",
       "      <td>Five Stars</td>\n",
       "      <td>1405296000</td>\n",
       "      <td>NaN</td>\n",
       "      <td>NaN</td>\n",
       "    </tr>\n",
       "  </tbody>\n",
       "</table>\n",
       "</div>"
      ],
      "text/plain": [
       "   overall vote  verified   reviewTime      reviewerID        asin  \\\n",
       "0      5.0    9     False   11 8, 2001   AH2IFH762VY5U  B00005N7P0   \n",
       "1      5.0    9     False  10 31, 2001   AOSFI0JEYU4XM  B00005N7P0   \n",
       "2      3.0   14     False  03 24, 2007  A3JPFWKS83R49V  B00005N7OJ   \n",
       "3      5.0   13     False  11 10, 2006  A19FKU6JZQ2ECJ  B00005N7OJ   \n",
       "4      5.0  NaN      True  07 14, 2014  A25MDGOMZ2GALN  B00005N7P0   \n",
       "\n",
       "         reviewerName                                         reviewText  \\\n",
       "0        ted sedlmayr  for computer enthusiast, MaxPC is a welcome si...   \n",
       "1     Amazon Customer  Thank god this is not a Ziff Davis publication...   \n",
       "2         Bryan Carey  Antiques Magazine is a publication made for an...   \n",
       "3  Patricia L. Porada  This beautiful magazine is in itself a work of...   \n",
       "4               Alvey                          A great read every issue.   \n",
       "\n",
       "                                           summary  unixReviewTime  \\\n",
       "0           AVID READER SINCE \"boot\"  WAS THE NAME      1005177600   \n",
       "1                               The straight scoop      1004486400   \n",
       "2  Antiques Magazine is Good, but not for Everyone      1174694400   \n",
       "3                           THE  DISCERNING READER      1163116800   \n",
       "4                                       Five Stars      1405296000   \n",
       "\n",
       "                            style image  \n",
       "0                             NaN   NaN  \n",
       "1                             NaN   NaN  \n",
       "2  {'Format:': ' Print Magazine'}   NaN  \n",
       "3  {'Format:': ' Print Magazine'}   NaN  \n",
       "4                             NaN   NaN  "
      ]
     },
     "execution_count": 4,
     "metadata": {},
     "output_type": "execute_result"
    }
   ],
   "source": [
    "# convert reviews data into pandas dataframe\n",
    "\n",
    "reviewDF = pd.DataFrame.from_dict(reviewData)\n",
    "reviewDF.head()"
   ]
  },
  {
   "cell_type": "code",
   "execution_count": 5,
   "id": "152c2b7e",
   "metadata": {},
   "outputs": [],
   "source": [
    "# Drop duplicates\n",
    "\n",
    "#convert dataframe values to string in order to use drop_duplicates method\n",
    "metaDF = metaDF.astype(str)\n",
    "reviewDF = reviewDF.astype(str)\n",
    "\n",
    "metaDF = metaDF.drop_duplicates()\n",
    "reviewDF = reviewDF.drop_duplicates()"
   ]
  },
  {
   "cell_type": "code",
   "execution_count": 6,
   "id": "be5db621",
   "metadata": {},
   "outputs": [
    {
     "name": "stdout",
     "output_type": "stream",
     "text": [
      "There are 2320 unique products and 88496 unique reviews made by 72098 unique reviewers\n"
     ]
    }
   ],
   "source": [
    "#check how many products, reviews and reviewers there are\n",
    "print('There are {} unique products and {} unique reviews made by {} unique reviewers'.format(\n",
    "    len(metaDF['asin'].unique()), len(reviewDF), len(reviewDF['reviewerID'].unique())\n",
    "))"
   ]
  },
  {
   "cell_type": "markdown",
   "id": "ae3fb9dc",
   "metadata": {},
   "source": [
    "# Product Data"
   ]
  },
  {
   "cell_type": "code",
   "execution_count": 7,
   "id": "b40b3ee8",
   "metadata": {},
   "outputs": [
    {
     "name": "stdout",
     "output_type": "stream",
     "text": [
      "<class 'pandas.core.frame.DataFrame'>\n",
      "Int64Index: 2320 entries, 0 to 3384\n",
      "Data columns (total 19 columns):\n",
      " #   Column           Non-Null Count  Dtype \n",
      "---  ------           --------------  ----- \n",
      " 0   category         2320 non-null   object\n",
      " 1   tech1            2320 non-null   object\n",
      " 2   description      2320 non-null   object\n",
      " 3   fit              2320 non-null   object\n",
      " 4   title            2320 non-null   object\n",
      " 5   also_buy         2320 non-null   object\n",
      " 6   tech2            2320 non-null   object\n",
      " 7   brand            2320 non-null   object\n",
      " 8   feature          2320 non-null   object\n",
      " 9   rank             2320 non-null   object\n",
      " 10  also_view        2320 non-null   object\n",
      " 11  details          2320 non-null   object\n",
      " 12  main_cat         2320 non-null   object\n",
      " 13  similar_item     2320 non-null   object\n",
      " 14  date             2320 non-null   object\n",
      " 15  price            2320 non-null   object\n",
      " 16  asin             2320 non-null   object\n",
      " 17  imageURL         2320 non-null   object\n",
      " 18  imageURLHighRes  2320 non-null   object\n",
      "dtypes: object(19)\n",
      "memory usage: 362.5+ KB\n"
     ]
    }
   ],
   "source": [
    "metaDF.info()"
   ]
  },
  {
   "cell_type": "markdown",
   "id": "1d088112",
   "metadata": {},
   "source": [
    "## Category"
   ]
  },
  {
   "cell_type": "code",
   "execution_count": 8,
   "id": "69d2ec62",
   "metadata": {
    "scrolled": true
   },
   "outputs": [
    {
     "data": {
      "text/html": [
       "<div>\n",
       "<style scoped>\n",
       "    .dataframe tbody tr th:only-of-type {\n",
       "        vertical-align: middle;\n",
       "    }\n",
       "\n",
       "    .dataframe tbody tr th {\n",
       "        vertical-align: top;\n",
       "    }\n",
       "\n",
       "    .dataframe thead th {\n",
       "        text-align: right;\n",
       "    }\n",
       "</style>\n",
       "<table border=\"1\" class=\"dataframe\">\n",
       "  <thead>\n",
       "    <tr style=\"text-align: right;\">\n",
       "      <th></th>\n",
       "      <th>category</th>\n",
       "    </tr>\n",
       "  </thead>\n",
       "  <tbody>\n",
       "    <tr>\n",
       "      <th>[]</th>\n",
       "      <td>442</td>\n",
       "    </tr>\n",
       "    <tr>\n",
       "      <th>['Magazine Subscriptions', 'Lifestyle &amp; Cultures']</th>\n",
       "      <td>64</td>\n",
       "    </tr>\n",
       "    <tr>\n",
       "      <th>['Magazine Subscriptions', 'Fashion &amp; Style', 'Women']</th>\n",
       "      <td>43</td>\n",
       "    </tr>\n",
       "    <tr>\n",
       "      <th>['Magazine Subscriptions', 'Professional &amp; Educational Journals', 'Professional &amp; Trade', 'Transportation']</th>\n",
       "      <td>42</td>\n",
       "    </tr>\n",
       "    <tr>\n",
       "      <th>['Magazine Subscriptions', 'Travel, City &amp; Regional', 'United States', 'South']</th>\n",
       "      <td>39</td>\n",
       "    </tr>\n",
       "    <tr>\n",
       "      <th>...</th>\n",
       "      <td>...</td>\n",
       "    </tr>\n",
       "    <tr>\n",
       "      <th>['Magazine Subscriptions', 'News &amp;amp; Political Commentary', 'Regional']</th>\n",
       "      <td>1</td>\n",
       "    </tr>\n",
       "    <tr>\n",
       "      <th>['Magazine Subscriptions', 'Fashion &amp;amp; Style', 'Men']</th>\n",
       "      <td>1</td>\n",
       "    </tr>\n",
       "    <tr>\n",
       "      <th>['Magazine Subscriptions', 'Parenting &amp; Families', 'Education']</th>\n",
       "      <td>1</td>\n",
       "    </tr>\n",
       "    <tr>\n",
       "      <th>['Magazine Subscriptions', 'Children &amp;amp; Teen', 'Children', 'By Age', 'Baby-3']</th>\n",
       "      <td>1</td>\n",
       "    </tr>\n",
       "    <tr>\n",
       "      <th>['Magazine Subscriptions', 'Fashion &amp;amp; Style', 'Beauty']</th>\n",
       "      <td>1</td>\n",
       "    </tr>\n",
       "  </tbody>\n",
       "</table>\n",
       "<p>298 rows × 1 columns</p>\n",
       "</div>"
      ],
      "text/plain": [
       "                                                    category\n",
       "[]                                                       442\n",
       "['Magazine Subscriptions', 'Lifestyle & Cultures']        64\n",
       "['Magazine Subscriptions', 'Fashion & Style', '...        43\n",
       "['Magazine Subscriptions', 'Professional & Educ...        42\n",
       "['Magazine Subscriptions', 'Travel, City & Regi...        39\n",
       "...                                                      ...\n",
       "['Magazine Subscriptions', 'News &amp; Politica...         1\n",
       "['Magazine Subscriptions', 'Fashion &amp; Style...         1\n",
       "['Magazine Subscriptions', 'Parenting & Familie...         1\n",
       "['Magazine Subscriptions', 'Children &amp; Teen...         1\n",
       "['Magazine Subscriptions', 'Fashion &amp; Style...         1\n",
       "\n",
       "[298 rows x 1 columns]"
      ]
     },
     "execution_count": 8,
     "metadata": {},
     "output_type": "execute_result"
    }
   ],
   "source": [
    "pd.DataFrame(metaDF.category.value_counts())"
   ]
  },
  {
   "cell_type": "code",
   "execution_count": 9,
   "id": "3c0ad5ca",
   "metadata": {},
   "outputs": [],
   "source": [
    "# Fill empty categories with empty string\n",
    "metaDF['category'] = metaDF['category'].apply(lambda x: '' if x == '[]' else x)"
   ]
  },
  {
   "cell_type": "code",
   "execution_count": 10,
   "id": "876f702a",
   "metadata": {},
   "outputs": [],
   "source": [
    "import html\n",
    "metaDF['category'] = metaDF[['category']].applymap(html.unescape)"
   ]
  },
  {
   "cell_type": "code",
   "execution_count": 11,
   "id": "79057ccb",
   "metadata": {},
   "outputs": [
    {
     "data": {
      "text/html": [
       "<div>\n",
       "<style scoped>\n",
       "    .dataframe tbody tr th:only-of-type {\n",
       "        vertical-align: middle;\n",
       "    }\n",
       "\n",
       "    .dataframe tbody tr th {\n",
       "        vertical-align: top;\n",
       "    }\n",
       "\n",
       "    .dataframe thead th {\n",
       "        text-align: right;\n",
       "    }\n",
       "</style>\n",
       "<table border=\"1\" class=\"dataframe\">\n",
       "  <thead>\n",
       "    <tr style=\"text-align: right;\">\n",
       "      <th></th>\n",
       "      <th>category</th>\n",
       "    </tr>\n",
       "  </thead>\n",
       "  <tbody>\n",
       "    <tr>\n",
       "      <th></th>\n",
       "      <td>442</td>\n",
       "    </tr>\n",
       "    <tr>\n",
       "      <th>['Magazine Subscriptions', 'Lifestyle &amp; Cultures']</th>\n",
       "      <td>66</td>\n",
       "    </tr>\n",
       "    <tr>\n",
       "      <th>['Magazine Subscriptions', 'Professional &amp; Educational Journals', 'Professional &amp; Trade', 'Transportation']</th>\n",
       "      <td>55</td>\n",
       "    </tr>\n",
       "    <tr>\n",
       "      <th>['Magazine Subscriptions', 'Professional &amp; Educational Journals', 'Professional &amp; Trade', 'Humanities &amp; Social Sciences', 'History']</th>\n",
       "      <td>55</td>\n",
       "    </tr>\n",
       "    <tr>\n",
       "      <th>['Magazine Subscriptions', 'Travel, City &amp; Regional', 'United States', 'South']</th>\n",
       "      <td>50</td>\n",
       "    </tr>\n",
       "    <tr>\n",
       "      <th>...</th>\n",
       "      <td>...</td>\n",
       "    </tr>\n",
       "    <tr>\n",
       "      <th>['Magazine Subscriptions', 'Sports, Recreation &amp; Outdoors', 'Sports &amp; Leisure', 'Mountaineering']</th>\n",
       "      <td>1</td>\n",
       "    </tr>\n",
       "    <tr>\n",
       "      <th>['Magazine Subscriptions', \"Women's Interest\", 'Self-Improvement']</th>\n",
       "      <td>1</td>\n",
       "    </tr>\n",
       "    <tr>\n",
       "      <th>['Magazine Subscriptions', 'Religion &amp; Spirituality', 'Judaism']</th>\n",
       "      <td>1</td>\n",
       "    </tr>\n",
       "    <tr>\n",
       "      <th>['Magazine Subscriptions', 'Sports, Recreation &amp; Outdoors', 'Sports &amp; Leisure', 'Rodeos']</th>\n",
       "      <td>1</td>\n",
       "    </tr>\n",
       "    <tr>\n",
       "      <th>['Magazine Subscriptions', 'Children &amp; Teen', 'Children']</th>\n",
       "      <td>1</td>\n",
       "    </tr>\n",
       "  </tbody>\n",
       "</table>\n",
       "<p>188 rows × 1 columns</p>\n",
       "</div>"
      ],
      "text/plain": [
       "                                                    category\n",
       "                                                         442\n",
       "['Magazine Subscriptions', 'Lifestyle & Cultures']        66\n",
       "['Magazine Subscriptions', 'Professional & Educ...        55\n",
       "['Magazine Subscriptions', 'Professional & Educ...        55\n",
       "['Magazine Subscriptions', 'Travel, City & Regi...        50\n",
       "...                                                      ...\n",
       "['Magazine Subscriptions', 'Sports, Recreation ...         1\n",
       "['Magazine Subscriptions', \"Women's Interest\", ...         1\n",
       "['Magazine Subscriptions', 'Religion & Spiritua...         1\n",
       "['Magazine Subscriptions', 'Sports, Recreation ...         1\n",
       "['Magazine Subscriptions', 'Children & Teen', '...         1\n",
       "\n",
       "[188 rows x 1 columns]"
      ]
     },
     "execution_count": 11,
     "metadata": {},
     "output_type": "execute_result"
    }
   ],
   "source": [
    "pd.DataFrame(metaDF.category.value_counts())"
   ]
  },
  {
   "cell_type": "code",
   "execution_count": 12,
   "id": "70f67c77",
   "metadata": {},
   "outputs": [
    {
     "data": {
      "text/plain": [
       "0       ['Magazine Subscriptions', 'Professional & Edu...\n",
       "1       ['Magazine Subscriptions', 'Arts, Music & Phot...\n",
       "2       ['Magazine Subscriptions', 'Fashion & Style', ...\n",
       "3       ['Magazine Subscriptions', 'Sports, Recreation...\n",
       "4       ['Magazine Subscriptions', 'Professional & Edu...\n",
       "                              ...                        \n",
       "3380                                                     \n",
       "3381    ['Magazine Subscriptions', 'Sports, Recreation...\n",
       "3382        ['Magazine Subscriptions', 'Fashion & Style']\n",
       "3383                                                     \n",
       "3384                                                     \n",
       "Name: category, Length: 2320, dtype: object"
      ]
     },
     "execution_count": 12,
     "metadata": {},
     "output_type": "execute_result"
    }
   ],
   "source": [
    "metaDF.category"
   ]
  },
  {
   "cell_type": "code",
   "execution_count": 13,
   "id": "ea669390",
   "metadata": {},
   "outputs": [],
   "source": [
    "from ast import literal_eval\n",
    "metaDF.category = metaDF.category.apply(lambda x: literal_eval(x) if x else x)"
   ]
  },
  {
   "cell_type": "code",
   "execution_count": 14,
   "id": "846fd15c",
   "metadata": {},
   "outputs": [],
   "source": [
    "temp = metaDF.category.apply(lambda x : x.remove('Magazine Subscriptions') if 'Magazine Subscriptions' in x else x)"
   ]
  },
  {
   "cell_type": "code",
   "execution_count": 15,
   "id": "bc7550b1",
   "metadata": {},
   "outputs": [
    {
     "data": {
      "text/plain": [
       "0       [Professional & Educational Journals, Professi...\n",
       "1                      [Arts, Music & Photography, Music]\n",
       "2                                [Fashion & Style, Women]\n",
       "3       [Sports, Recreation & Outdoors, Sports & Leisu...\n",
       "4       [Professional & Educational Journals, Professi...\n",
       "                              ...                        \n",
       "3380                                                     \n",
       "3381    [Sports, Recreation & Outdoors, Sports & Leisu...\n",
       "3382                                    [Fashion & Style]\n",
       "3383                                                     \n",
       "3384                                                     \n",
       "Name: category, Length: 2320, dtype: object"
      ]
     },
     "execution_count": 15,
     "metadata": {},
     "output_type": "execute_result"
    }
   ],
   "source": [
    "metaDF.category"
   ]
  },
  {
   "cell_type": "code",
   "execution_count": 16,
   "id": "74bad89a",
   "metadata": {},
   "outputs": [
    {
     "data": {
      "text/html": [
       "<div>\n",
       "<style scoped>\n",
       "    .dataframe tbody tr th:only-of-type {\n",
       "        vertical-align: middle;\n",
       "    }\n",
       "\n",
       "    .dataframe tbody tr th {\n",
       "        vertical-align: top;\n",
       "    }\n",
       "\n",
       "    .dataframe thead th {\n",
       "        text-align: right;\n",
       "    }\n",
       "</style>\n",
       "<table border=\"1\" class=\"dataframe\">\n",
       "  <thead>\n",
       "    <tr style=\"text-align: right;\">\n",
       "      <th></th>\n",
       "      <th>category</th>\n",
       "      <th>count</th>\n",
       "    </tr>\n",
       "  </thead>\n",
       "  <tbody>\n",
       "    <tr>\n",
       "      <th>133</th>\n",
       "      <td>Professional &amp; Educational Journals</td>\n",
       "      <td>497</td>\n",
       "    </tr>\n",
       "    <tr>\n",
       "      <th>134</th>\n",
       "      <td>Professional &amp; Trade</td>\n",
       "      <td>491</td>\n",
       "    </tr>\n",
       "    <tr>\n",
       "      <th>0</th>\n",
       "      <td></td>\n",
       "      <td>442</td>\n",
       "    </tr>\n",
       "    <tr>\n",
       "      <th>159</th>\n",
       "      <td>Sports, Recreation &amp; Outdoors</td>\n",
       "      <td>232</td>\n",
       "    </tr>\n",
       "    <tr>\n",
       "      <th>158</th>\n",
       "      <td>Sports &amp; Leisure</td>\n",
       "      <td>222</td>\n",
       "    </tr>\n",
       "    <tr>\n",
       "      <th>...</th>\n",
       "      <td>...</td>\n",
       "      <td>...</td>\n",
       "    </tr>\n",
       "    <tr>\n",
       "      <th>132</th>\n",
       "      <td>Pregnancy &amp; Childbirth</td>\n",
       "      <td>1</td>\n",
       "    </tr>\n",
       "    <tr>\n",
       "      <th>138</th>\n",
       "      <td>Racket Sports</td>\n",
       "      <td>1</td>\n",
       "    </tr>\n",
       "    <tr>\n",
       "      <th>144</th>\n",
       "      <td>Rodeos</td>\n",
       "      <td>1</td>\n",
       "    </tr>\n",
       "    <tr>\n",
       "      <th>150</th>\n",
       "      <td>Self-Improvement</td>\n",
       "      <td>1</td>\n",
       "    </tr>\n",
       "    <tr>\n",
       "      <th>89</th>\n",
       "      <td>Judaism</td>\n",
       "      <td>1</td>\n",
       "    </tr>\n",
       "  </tbody>\n",
       "</table>\n",
       "<p>178 rows × 2 columns</p>\n",
       "</div>"
      ],
      "text/plain": [
       "                                category  count\n",
       "133  Professional & Educational Journals    497\n",
       "134                 Professional & Trade    491\n",
       "0                                           442\n",
       "159        Sports, Recreation & Outdoors    232\n",
       "158                     Sports & Leisure    222\n",
       "..                                   ...    ...\n",
       "132               Pregnancy & Childbirth      1\n",
       "138                        Racket Sports      1\n",
       "144                               Rodeos      1\n",
       "150                     Self-Improvement      1\n",
       "89                               Judaism      1\n",
       "\n",
       "[178 rows x 2 columns]"
      ]
     },
     "execution_count": 16,
     "metadata": {},
     "output_type": "execute_result"
    }
   ],
   "source": [
    "categories = pd.DataFrame(metaDF.category.explode())\n",
    "cat_counts = pd.DataFrame(categories.groupby('category').size()).reset_index()\n",
    "cat_counts.columns = ['category', 'count']\n",
    "cat_counts.sort_values('count', ascending = False)"
   ]
  },
  {
   "cell_type": "markdown",
   "id": "af0925fb",
   "metadata": {},
   "source": [
    "## Main category"
   ]
  },
  {
   "cell_type": "code",
   "execution_count": 17,
   "id": "f160a650",
   "metadata": {},
   "outputs": [
    {
     "data": {
      "text/html": [
       "<div>\n",
       "<style scoped>\n",
       "    .dataframe tbody tr th:only-of-type {\n",
       "        vertical-align: middle;\n",
       "    }\n",
       "\n",
       "    .dataframe tbody tr th {\n",
       "        vertical-align: top;\n",
       "    }\n",
       "\n",
       "    .dataframe thead th {\n",
       "        text-align: right;\n",
       "    }\n",
       "</style>\n",
       "<table border=\"1\" class=\"dataframe\">\n",
       "  <thead>\n",
       "    <tr style=\"text-align: right;\">\n",
       "      <th></th>\n",
       "      <th>main_cat</th>\n",
       "    </tr>\n",
       "  </thead>\n",
       "  <tbody>\n",
       "    <tr>\n",
       "      <th>Magazine Subscriptions</th>\n",
       "      <td>2320</td>\n",
       "    </tr>\n",
       "  </tbody>\n",
       "</table>\n",
       "</div>"
      ],
      "text/plain": [
       "                        main_cat\n",
       "Magazine Subscriptions      2320"
      ]
     },
     "execution_count": 17,
     "metadata": {},
     "output_type": "execute_result"
    }
   ],
   "source": [
    "pd.DataFrame(metaDF.main_cat.value_counts())"
   ]
  },
  {
   "cell_type": "code",
   "execution_count": 18,
   "id": "9662a504",
   "metadata": {},
   "outputs": [],
   "source": [
    "metaDF = metaDF.drop(columns = 'main_cat')"
   ]
  },
  {
   "cell_type": "markdown",
   "id": "bad74a2d",
   "metadata": {},
   "source": [
    "## Technical detail tables"
   ]
  },
  {
   "cell_type": "code",
   "execution_count": 19,
   "id": "13e8c9b9",
   "metadata": {},
   "outputs": [
    {
     "data": {
      "text/html": [
       "<div>\n",
       "<style scoped>\n",
       "    .dataframe tbody tr th:only-of-type {\n",
       "        vertical-align: middle;\n",
       "    }\n",
       "\n",
       "    .dataframe tbody tr th {\n",
       "        vertical-align: top;\n",
       "    }\n",
       "\n",
       "    .dataframe thead th {\n",
       "        text-align: right;\n",
       "    }\n",
       "</style>\n",
       "<table border=\"1\" class=\"dataframe\">\n",
       "  <thead>\n",
       "    <tr style=\"text-align: right;\">\n",
       "      <th></th>\n",
       "      <th>tech1</th>\n",
       "    </tr>\n",
       "  </thead>\n",
       "  <tbody>\n",
       "    <tr>\n",
       "      <th></th>\n",
       "      <td>2320</td>\n",
       "    </tr>\n",
       "  </tbody>\n",
       "</table>\n",
       "</div>"
      ],
      "text/plain": [
       "  tech1\n",
       "   2320"
      ]
     },
     "execution_count": 19,
     "metadata": {},
     "output_type": "execute_result"
    }
   ],
   "source": [
    "pd.DataFrame(metaDF.tech1.value_counts())"
   ]
  },
  {
   "cell_type": "code",
   "execution_count": 20,
   "id": "3f099525",
   "metadata": {},
   "outputs": [
    {
     "data": {
      "text/html": [
       "<div>\n",
       "<style scoped>\n",
       "    .dataframe tbody tr th:only-of-type {\n",
       "        vertical-align: middle;\n",
       "    }\n",
       "\n",
       "    .dataframe tbody tr th {\n",
       "        vertical-align: top;\n",
       "    }\n",
       "\n",
       "    .dataframe thead th {\n",
       "        text-align: right;\n",
       "    }\n",
       "</style>\n",
       "<table border=\"1\" class=\"dataframe\">\n",
       "  <thead>\n",
       "    <tr style=\"text-align: right;\">\n",
       "      <th></th>\n",
       "      <th>tech2</th>\n",
       "    </tr>\n",
       "  </thead>\n",
       "  <tbody>\n",
       "    <tr>\n",
       "      <th></th>\n",
       "      <td>2320</td>\n",
       "    </tr>\n",
       "  </tbody>\n",
       "</table>\n",
       "</div>"
      ],
      "text/plain": [
       "  tech2\n",
       "   2320"
      ]
     },
     "execution_count": 20,
     "metadata": {},
     "output_type": "execute_result"
    }
   ],
   "source": [
    "pd.DataFrame(metaDF.tech2.value_counts())"
   ]
  },
  {
   "cell_type": "code",
   "execution_count": 21,
   "id": "5741839b",
   "metadata": {},
   "outputs": [],
   "source": [
    "metaDF = metaDF.drop(columns = ['tech1', 'tech2'])"
   ]
  },
  {
   "cell_type": "markdown",
   "id": "be80e892",
   "metadata": {},
   "source": [
    "## Description"
   ]
  },
  {
   "cell_type": "code",
   "execution_count": 22,
   "id": "9f2b5b89",
   "metadata": {},
   "outputs": [],
   "source": [
    "metaDF['description'] = metaDF[['description']].applymap(html.unescape)"
   ]
  },
  {
   "cell_type": "code",
   "execution_count": 23,
   "id": "7b1af5b0",
   "metadata": {},
   "outputs": [
    {
     "data": {
      "text/html": [
       "<div>\n",
       "<style scoped>\n",
       "    .dataframe tbody tr th:only-of-type {\n",
       "        vertical-align: middle;\n",
       "    }\n",
       "\n",
       "    .dataframe tbody tr th {\n",
       "        vertical-align: top;\n",
       "    }\n",
       "\n",
       "    .dataframe thead th {\n",
       "        text-align: right;\n",
       "    }\n",
       "</style>\n",
       "<table border=\"1\" class=\"dataframe\">\n",
       "  <thead>\n",
       "    <tr style=\"text-align: right;\">\n",
       "      <th></th>\n",
       "      <th>description</th>\n",
       "    </tr>\n",
       "  </thead>\n",
       "  <tbody>\n",
       "    <tr>\n",
       "      <th>[]</th>\n",
       "      <td>354</td>\n",
       "    </tr>\n",
       "    <tr>\n",
       "      <th>[\"Satisfy your passion for stylish living and practical ideas for updating every room in your home. Find great ways to use today's best furnishings and accessories within our pages.\", '&lt;a href=\"/gp/help/customer/display.html/ref=hp_left_ac?ie=UTF8&amp;nodeId=201293140\" target=\"_blank\"&gt;Learn more&lt;/a&gt; about auto-renewal subscriptions on Amazon.com']</th>\n",
       "      <td>13</td>\n",
       "    </tr>\n",
       "    <tr>\n",
       "      <th>['Popular Mechanics directly aligns with the mindset of the contemporary man whose everyday life involves technology, data, science and constant flux. Each issue will show you how to turn your everyday passions into tools of change. Features on the latest advances in science and technology will impact your home, your car, consumer electronics, computers, even your health.', '&lt;a href=\"/gp/help/customer/display.html/ref=hp_left_ac?ie=UTF8&amp;nodeId=201293140\" target=\"_blank\"&gt;Learn more&lt;/a&gt; about auto-renewal subscriptions on Amazon.com']</th>\n",
       "      <td>13</td>\n",
       "    </tr>\n",
       "    <tr>\n",
       "      <th>[\"O, The Oprah Magazine gives confident, smart women the tools they need to explore and reach for their dreams, to express their individual style and to make choices that will lead to a happier and more fulfilling life. With one of the most trusted women in America serving as the magazine's inspiration, O serves as a catalyst for transforming women's lives.\", '&lt;a href=\"/gp/help/customer/display.html/ref=hp_left_ac?ie=UTF8&amp;nodeId=201293140\" target=\"_blank\"&gt;Learn more&lt;/a&gt; about auto-renewal subscriptions on Amazon.com']</th>\n",
       "      <td>13</td>\n",
       "    </tr>\n",
       "    <tr>\n",
       "      <th>['Country Living is your guide to creating the ultimate in country style. Each issue offers inspirational ideas on: Decorating &amp; Remodeling, Antiques &amp; Collecting, Gardening &amp; Landscaping, Entertaining &amp; Travel.', '&lt;a href=\"/gp/help/customer/display.html/ref=hp_left_ac?ie=UTF8&amp;nodeId=201293140\" target=\"_blank\"&gt;Learn more&lt;/a&gt; about auto-renewal subscriptions on Amazon.com']</th>\n",
       "      <td>11</td>\n",
       "    </tr>\n",
       "    <tr>\n",
       "      <th>...</th>\n",
       "      <td>...</td>\n",
       "    </tr>\n",
       "    <tr>\n",
       "      <th>['Technical articles on traffic collision investigation and reconstruction. Also includes traffic safety news reports, calendar of events, recall lists from the previous two months along with hypothetical problems with solutions.']</th>\n",
       "      <td>1</td>\n",
       "    </tr>\n",
       "    <tr>\n",
       "      <th>['Elle Dcor focuses on the synergy between fashion and the home with decorating trends and personality packed interiors.']</th>\n",
       "      <td>1</td>\n",
       "    </tr>\n",
       "    <tr>\n",
       "      <th>[\"A sportsman's guide to hunting and fishing in Maine, Massachusetts, Vermont, New Hampshire, Connecticut and Rhode Island.\", '&lt;a href=\"/gp/help/customer/display.html/ref=hp_left_ac?ie=UTF8&amp;nodeId=201293140\" target=\"_blank\"&gt;Learn more&lt;/a&gt; about auto-renewal subscriptions on Amazon.com']</th>\n",
       "      <td>1</td>\n",
       "    </tr>\n",
       "    <tr>\n",
       "      <th>['This is a BBC published automotive magazine. It is packed with many features, news and road tests!']</th>\n",
       "      <td>1</td>\n",
       "    </tr>\n",
       "    <tr>\n",
       "      <th>['Covers African-American hair fashion.']</th>\n",
       "      <td>1</td>\n",
       "    </tr>\n",
       "  </tbody>\n",
       "</table>\n",
       "<p>1667 rows × 1 columns</p>\n",
       "</div>"
      ],
      "text/plain": [
       "                                                    description\n",
       "[]                                                          354\n",
       "[\"Satisfy your passion for stylish living and p...           13\n",
       "['Popular Mechanics directly aligns with the mi...           13\n",
       "[\"O, The Oprah Magazine gives confident, smart ...           13\n",
       "['Country Living is your guide to creating the ...           11\n",
       "...                                                         ...\n",
       "['Technical articles on traffic collision inves...            1\n",
       "['Elle Dcor focuses on the synergy between fash...            1\n",
       "[\"A sportsman's guide to hunting and fishing in...            1\n",
       "['This is a BBC published automotive magazine. ...            1\n",
       "['Covers African-American hair fashion.']                     1\n",
       "\n",
       "[1667 rows x 1 columns]"
      ]
     },
     "execution_count": 23,
     "metadata": {},
     "output_type": "execute_result"
    }
   ],
   "source": [
    "pd.DataFrame(metaDF.description.value_counts())"
   ]
  },
  {
   "cell_type": "markdown",
   "id": "ac10f0f1",
   "metadata": {},
   "source": [
    "There are 1666 unique product descriptions, this will be useful.  Let's fill the empty descriptions with an empty string."
   ]
  },
  {
   "cell_type": "code",
   "execution_count": 24,
   "id": "4289c6b1",
   "metadata": {},
   "outputs": [],
   "source": [
    "metaDF['description'] = metaDF['description'].apply(lambda x: '' if x == '[]' else x)"
   ]
  },
  {
   "cell_type": "markdown",
   "id": "42326ff0",
   "metadata": {},
   "source": [
    "## Fit"
   ]
  },
  {
   "cell_type": "code",
   "execution_count": 25,
   "id": "6debc621",
   "metadata": {},
   "outputs": [
    {
     "data": {
      "text/html": [
       "<div>\n",
       "<style scoped>\n",
       "    .dataframe tbody tr th:only-of-type {\n",
       "        vertical-align: middle;\n",
       "    }\n",
       "\n",
       "    .dataframe tbody tr th {\n",
       "        vertical-align: top;\n",
       "    }\n",
       "\n",
       "    .dataframe thead th {\n",
       "        text-align: right;\n",
       "    }\n",
       "</style>\n",
       "<table border=\"1\" class=\"dataframe\">\n",
       "  <thead>\n",
       "    <tr style=\"text-align: right;\">\n",
       "      <th></th>\n",
       "      <th>fit</th>\n",
       "    </tr>\n",
       "  </thead>\n",
       "  <tbody>\n",
       "    <tr>\n",
       "      <th></th>\n",
       "      <td>2320</td>\n",
       "    </tr>\n",
       "  </tbody>\n",
       "</table>\n",
       "</div>"
      ],
      "text/plain": [
       "   fit\n",
       "  2320"
      ]
     },
     "execution_count": 25,
     "metadata": {},
     "output_type": "execute_result"
    }
   ],
   "source": [
    "pd.DataFrame(metaDF.fit.value_counts())"
   ]
  },
  {
   "cell_type": "code",
   "execution_count": 26,
   "id": "df928902",
   "metadata": {},
   "outputs": [],
   "source": [
    "metaDF = metaDF.drop(columns = 'fit')"
   ]
  },
  {
   "cell_type": "markdown",
   "id": "39f8c653",
   "metadata": {},
   "source": [
    "## Title"
   ]
  },
  {
   "cell_type": "code",
   "execution_count": 27,
   "id": "dff9dbdc",
   "metadata": {},
   "outputs": [],
   "source": [
    "metaDF['title'] = metaDF[['title']].applymap(html.unescape)\n",
    "metaDF['title'] = metaDF[['title']].apply(lambda x: x.str.strip() if x.dtype == \"object\" else x)"
   ]
  },
  {
   "cell_type": "code",
   "execution_count": 28,
   "id": "baac7fdb",
   "metadata": {},
   "outputs": [
    {
     "data": {
      "text/html": [
       "<div>\n",
       "<style scoped>\n",
       "    .dataframe tbody tr th:only-of-type {\n",
       "        vertical-align: middle;\n",
       "    }\n",
       "\n",
       "    .dataframe tbody tr th {\n",
       "        vertical-align: top;\n",
       "    }\n",
       "\n",
       "    .dataframe thead th {\n",
       "        text-align: right;\n",
       "    }\n",
       "</style>\n",
       "<table border=\"1\" class=\"dataframe\">\n",
       "  <thead>\n",
       "    <tr style=\"text-align: right;\">\n",
       "      <th></th>\n",
       "      <th>title</th>\n",
       "    </tr>\n",
       "  </thead>\n",
       "  <tbody>\n",
       "    <tr>\n",
       "      <th>&lt;span class=\"a-size-medium a-color-secondary\"</th>\n",
       "      <td>2163</td>\n",
       "    </tr>\n",
       "    <tr>\n",
       "      <th>Magazines\" /&gt;</th>\n",
       "      <td>10</td>\n",
       "    </tr>\n",
       "    <tr>\n",
       "      <th>Cmyk Magazine</th>\n",
       "      <td>1</td>\n",
       "    </tr>\n",
       "    <tr>\n",
       "      <th>Diabetic Cooking</th>\n",
       "      <td>1</td>\n",
       "    </tr>\n",
       "    <tr>\n",
       "      <th>Import Tuner</th>\n",
       "      <td>1</td>\n",
       "    </tr>\n",
       "    <tr>\n",
       "      <th>...</th>\n",
       "      <td>...</td>\n",
       "    </tr>\n",
       "    <tr>\n",
       "      <th>Camcorder &amp; Computer Video</th>\n",
       "      <td>1</td>\n",
       "    </tr>\n",
       "    <tr>\n",
       "      <th>New Moon: the Magazine for Girls &amp; Their Dreams</th>\n",
       "      <td>1</td>\n",
       "    </tr>\n",
       "    <tr>\n",
       "      <th>Soap Opera Weekly</th>\n",
       "      <td>1</td>\n",
       "    </tr>\n",
       "    <tr>\n",
       "      <th>Us Weekly Magazine, Issue 934, January 7, 2013, What Tore Them Apart:bethenny &amp; Jason</th>\n",
       "      <td>1</td>\n",
       "    </tr>\n",
       "    <tr>\n",
       "      <th>Lego Club Magazine May-june 2014</th>\n",
       "      <td>1</td>\n",
       "    </tr>\n",
       "  </tbody>\n",
       "</table>\n",
       "<p>149 rows × 1 columns</p>\n",
       "</div>"
      ],
      "text/plain": [
       "                                                    title\n",
       "<span class=\"a-size-medium a-color-secondary\"        2163\n",
       "Magazines\" />                                          10\n",
       "Cmyk Magazine                                           1\n",
       "Diabetic Cooking                                        1\n",
       "Import Tuner                                            1\n",
       "...                                                   ...\n",
       "Camcorder & Computer Video                              1\n",
       "New Moon: the Magazine for Girls & Their Dreams         1\n",
       "Soap Opera Weekly                                       1\n",
       "Us Weekly Magazine, Issue 934, January 7, 2013,...      1\n",
       "Lego Club Magazine May-june 2014                        1\n",
       "\n",
       "[149 rows x 1 columns]"
      ]
     },
     "execution_count": 28,
     "metadata": {},
     "output_type": "execute_result"
    }
   ],
   "source": [
    "pd.DataFrame(metaDF.title.value_counts())"
   ]
  },
  {
   "cell_type": "markdown",
   "id": "85ea2867",
   "metadata": {},
   "source": [
    "Check that magazine subscriptions with useless title have at least one of: 'brand', 'description' or 'category' filled in."
   ]
  },
  {
   "cell_type": "code",
   "execution_count": 29,
   "id": "3471a7ab",
   "metadata": {},
   "outputs": [
    {
     "data": {
      "text/html": [
       "<div>\n",
       "<style scoped>\n",
       "    .dataframe tbody tr th:only-of-type {\n",
       "        vertical-align: middle;\n",
       "    }\n",
       "\n",
       "    .dataframe tbody tr th {\n",
       "        vertical-align: top;\n",
       "    }\n",
       "\n",
       "    .dataframe thead th {\n",
       "        text-align: right;\n",
       "    }\n",
       "</style>\n",
       "<table border=\"1\" class=\"dataframe\">\n",
       "  <thead>\n",
       "    <tr style=\"text-align: right;\">\n",
       "      <th></th>\n",
       "      <th>category</th>\n",
       "      <th>description</th>\n",
       "      <th>title</th>\n",
       "      <th>also_buy</th>\n",
       "      <th>brand</th>\n",
       "      <th>feature</th>\n",
       "      <th>rank</th>\n",
       "      <th>also_view</th>\n",
       "      <th>details</th>\n",
       "      <th>similar_item</th>\n",
       "      <th>date</th>\n",
       "      <th>price</th>\n",
       "      <th>asin</th>\n",
       "      <th>imageURL</th>\n",
       "      <th>imageURLHighRes</th>\n",
       "    </tr>\n",
       "  </thead>\n",
       "  <tbody>\n",
       "  </tbody>\n",
       "</table>\n",
       "</div>"
      ],
      "text/plain": [
       "Empty DataFrame\n",
       "Columns: [category, description, title, also_buy, brand, feature, rank, also_view, details, similar_item, date, price, asin, imageURL, imageURLHighRes]\n",
       "Index: []"
      ]
     },
     "execution_count": 29,
     "metadata": {},
     "output_type": "execute_result"
    }
   ],
   "source": [
    "metaDF[(metaDF.title == '<span class=\"a-size-medium a-color-secondary\"') & (metaDF.brand == '') & (metaDF.description == '') & (metaDF.category == '')]"
   ]
  },
  {
   "cell_type": "code",
   "execution_count": 30,
   "id": "7e3ad7de",
   "metadata": {},
   "outputs": [
    {
     "data": {
      "text/html": [
       "<div>\n",
       "<style scoped>\n",
       "    .dataframe tbody tr th:only-of-type {\n",
       "        vertical-align: middle;\n",
       "    }\n",
       "\n",
       "    .dataframe tbody tr th {\n",
       "        vertical-align: top;\n",
       "    }\n",
       "\n",
       "    .dataframe thead th {\n",
       "        text-align: right;\n",
       "    }\n",
       "</style>\n",
       "<table border=\"1\" class=\"dataframe\">\n",
       "  <thead>\n",
       "    <tr style=\"text-align: right;\">\n",
       "      <th></th>\n",
       "      <th>category</th>\n",
       "      <th>description</th>\n",
       "      <th>title</th>\n",
       "      <th>also_buy</th>\n",
       "      <th>brand</th>\n",
       "      <th>feature</th>\n",
       "      <th>rank</th>\n",
       "      <th>also_view</th>\n",
       "      <th>details</th>\n",
       "      <th>similar_item</th>\n",
       "      <th>date</th>\n",
       "      <th>price</th>\n",
       "      <th>asin</th>\n",
       "      <th>imageURL</th>\n",
       "      <th>imageURLHighRes</th>\n",
       "    </tr>\n",
       "  </thead>\n",
       "  <tbody>\n",
       "  </tbody>\n",
       "</table>\n",
       "</div>"
      ],
      "text/plain": [
       "Empty DataFrame\n",
       "Columns: [category, description, title, also_buy, brand, feature, rank, also_view, details, similar_item, date, price, asin, imageURL, imageURLHighRes]\n",
       "Index: []"
      ]
     },
     "execution_count": 30,
     "metadata": {},
     "output_type": "execute_result"
    }
   ],
   "source": [
    "metaDF[(metaDF.title == 'Magazines\" />') & (metaDF.brand == '') & (metaDF.description == '') & (metaDF.category == '')]"
   ]
  },
  {
   "cell_type": "code",
   "execution_count": 31,
   "id": "225eb06e",
   "metadata": {},
   "outputs": [],
   "source": [
    "metaDF['title'] = metaDF['title'].apply(lambda x: '' if (x in ['<span class=\"a-size-medium a-color-secondary\"', 'Magazines\" />']) else x)"
   ]
  },
  {
   "cell_type": "code",
   "execution_count": 33,
   "id": "a931e0cd",
   "metadata": {},
   "outputs": [
    {
     "data": {
      "text/html": [
       "<div>\n",
       "<style scoped>\n",
       "    .dataframe tbody tr th:only-of-type {\n",
       "        vertical-align: middle;\n",
       "    }\n",
       "\n",
       "    .dataframe tbody tr th {\n",
       "        vertical-align: top;\n",
       "    }\n",
       "\n",
       "    .dataframe thead th {\n",
       "        text-align: right;\n",
       "    }\n",
       "</style>\n",
       "<table border=\"1\" class=\"dataframe\">\n",
       "  <thead>\n",
       "    <tr style=\"text-align: right;\">\n",
       "      <th></th>\n",
       "      <th>title</th>\n",
       "    </tr>\n",
       "  </thead>\n",
       "  <tbody>\n",
       "    <tr>\n",
       "      <th></th>\n",
       "      <td>2173</td>\n",
       "    </tr>\n",
       "    <tr>\n",
       "      <th>Entertainment Weekly, August 22-29, 2014-Robin Williams Tribute Issue</th>\n",
       "      <td>1</td>\n",
       "    </tr>\n",
       "    <tr>\n",
       "      <th>Fortean Times</th>\n",
       "      <td>1</td>\n",
       "    </tr>\n",
       "    <tr>\n",
       "      <th>Essence (1-year)</th>\n",
       "      <td>1</td>\n",
       "    </tr>\n",
       "    <tr>\n",
       "      <th>Import Tuner</th>\n",
       "      <td>1</td>\n",
       "    </tr>\n",
       "    <tr>\n",
       "      <th>...</th>\n",
       "      <td>...</td>\n",
       "    </tr>\n",
       "    <tr>\n",
       "      <th>4wd - Four Wheel Drive</th>\n",
       "      <td>1</td>\n",
       "    </tr>\n",
       "    <tr>\n",
       "      <th>Camcorder &amp; Computer Video</th>\n",
       "      <td>1</td>\n",
       "    </tr>\n",
       "    <tr>\n",
       "      <th>New Moon: the Magazine for Girls &amp; Their Dreams</th>\n",
       "      <td>1</td>\n",
       "    </tr>\n",
       "    <tr>\n",
       "      <th>Soap Opera Weekly</th>\n",
       "      <td>1</td>\n",
       "    </tr>\n",
       "    <tr>\n",
       "      <th>Lego Club Magazine May-june 2014</th>\n",
       "      <td>1</td>\n",
       "    </tr>\n",
       "  </tbody>\n",
       "</table>\n",
       "<p>148 rows × 1 columns</p>\n",
       "</div>"
      ],
      "text/plain": [
       "                                                    title\n",
       "                                                     2173\n",
       "Entertainment Weekly, August 22-29, 2014-Robin ...      1\n",
       "Fortean Times                                           1\n",
       "Essence (1-year)                                        1\n",
       "Import Tuner                                            1\n",
       "...                                                   ...\n",
       "4wd - Four Wheel Drive                                  1\n",
       "Camcorder & Computer Video                              1\n",
       "New Moon: the Magazine for Girls & Their Dreams         1\n",
       "Soap Opera Weekly                                       1\n",
       "Lego Club Magazine May-june 2014                        1\n",
       "\n",
       "[148 rows x 1 columns]"
      ]
     },
     "execution_count": 33,
     "metadata": {},
     "output_type": "execute_result"
    }
   ],
   "source": [
    "pd.DataFrame(metaDF.title.value_counts())"
   ]
  },
  {
   "cell_type": "markdown",
   "id": "ebe3e5d2",
   "metadata": {},
   "source": [
    "There are 147 unique magazine titles."
   ]
  },
  {
   "cell_type": "markdown",
   "id": "3438393c",
   "metadata": {},
   "source": [
    "## Also buy"
   ]
  },
  {
   "cell_type": "code",
   "execution_count": 36,
   "id": "54fb8e55",
   "metadata": {},
   "outputs": [],
   "source": [
    "metaDF = metaDF.drop(columns = 'also_buy')"
   ]
  },
  {
   "cell_type": "markdown",
   "id": "7c9de570",
   "metadata": {},
   "source": [
    "## Brand"
   ]
  },
  {
   "cell_type": "code",
   "execution_count": 38,
   "id": "910705b4",
   "metadata": {},
   "outputs": [],
   "source": [
    "metaDF['brand'] = metaDF[['brand']].applymap(html.unescape)\n",
    "metaDF['brand'] = metaDF[['brand']].apply(lambda x: x.str.strip() if x.dtype == \"object\" else x)"
   ]
  },
  {
   "cell_type": "code",
   "execution_count": 39,
   "id": "d4162603",
   "metadata": {},
   "outputs": [
    {
     "data": {
      "text/html": [
       "<div>\n",
       "<style scoped>\n",
       "    .dataframe tbody tr th:only-of-type {\n",
       "        vertical-align: middle;\n",
       "    }\n",
       "\n",
       "    .dataframe tbody tr th {\n",
       "        vertical-align: top;\n",
       "    }\n",
       "\n",
       "    .dataframe thead th {\n",
       "        text-align: right;\n",
       "    }\n",
       "</style>\n",
       "<table border=\"1\" class=\"dataframe\">\n",
       "  <thead>\n",
       "    <tr style=\"text-align: right;\">\n",
       "      <th></th>\n",
       "      <th>brand</th>\n",
       "    </tr>\n",
       "  </thead>\n",
       "  <tbody>\n",
       "    <tr>\n",
       "      <th>Hearst Magazines</th>\n",
       "      <td>255</td>\n",
       "    </tr>\n",
       "    <tr>\n",
       "      <th>Conde Nast</th>\n",
       "      <td>184</td>\n",
       "    </tr>\n",
       "    <tr>\n",
       "      <th></th>\n",
       "      <td>147</td>\n",
       "    </tr>\n",
       "    <tr>\n",
       "      <th>Meredith</th>\n",
       "      <td>48</td>\n",
       "    </tr>\n",
       "    <tr>\n",
       "      <th>Bonnier Corporation</th>\n",
       "      <td>43</td>\n",
       "    </tr>\n",
       "    <tr>\n",
       "      <th>...</th>\n",
       "      <td>...</td>\n",
       "    </tr>\n",
       "    <tr>\n",
       "      <th>Keck Media</th>\n",
       "      <td>1</td>\n",
       "    </tr>\n",
       "    <tr>\n",
       "      <th>America Press Inc</th>\n",
       "      <td>1</td>\n",
       "    </tr>\n",
       "    <tr>\n",
       "      <th>Basketball Times %John Akers</th>\n",
       "      <td>1</td>\n",
       "    </tr>\n",
       "    <tr>\n",
       "      <th>Northwest Chess % Eric Holcomb</th>\n",
       "      <td>1</td>\n",
       "    </tr>\n",
       "    <tr>\n",
       "      <th>San Diego Magazine LLC</th>\n",
       "      <td>1</td>\n",
       "    </tr>\n",
       "  </tbody>\n",
       "</table>\n",
       "<p>943 rows × 1 columns</p>\n",
       "</div>"
      ],
      "text/plain": [
       "                                brand\n",
       "Hearst Magazines                  255\n",
       "Conde Nast                        184\n",
       "                                  147\n",
       "Meredith                           48\n",
       "Bonnier Corporation                43\n",
       "...                               ...\n",
       "Keck Media                          1\n",
       "America Press Inc                   1\n",
       "Basketball Times %John Akers        1\n",
       "Northwest Chess % Eric Holcomb      1\n",
       "San Diego Magazine LLC              1\n",
       "\n",
       "[943 rows x 1 columns]"
      ]
     },
     "execution_count": 39,
     "metadata": {},
     "output_type": "execute_result"
    }
   ],
   "source": [
    "pd.DataFrame(metaDF.brand.value_counts())"
   ]
  },
  {
   "cell_type": "markdown",
   "id": "42ae9f0d",
   "metadata": {},
   "source": [
    "## Feature"
   ]
  },
  {
   "cell_type": "code",
   "execution_count": 42,
   "id": "8f8cff3d",
   "metadata": {},
   "outputs": [
    {
     "data": {
      "text/html": [
       "<div>\n",
       "<style scoped>\n",
       "    .dataframe tbody tr th:only-of-type {\n",
       "        vertical-align: middle;\n",
       "    }\n",
       "\n",
       "    .dataframe tbody tr th {\n",
       "        vertical-align: top;\n",
       "    }\n",
       "\n",
       "    .dataframe thead th {\n",
       "        text-align: right;\n",
       "    }\n",
       "</style>\n",
       "<table border=\"1\" class=\"dataframe\">\n",
       "  <thead>\n",
       "    <tr style=\"text-align: right;\">\n",
       "      <th></th>\n",
       "      <th>feature</th>\n",
       "    </tr>\n",
       "  </thead>\n",
       "  <tbody>\n",
       "    <tr>\n",
       "      <th>[]</th>\n",
       "      <td>2320</td>\n",
       "    </tr>\n",
       "  </tbody>\n",
       "</table>\n",
       "</div>"
      ],
      "text/plain": [
       "    feature\n",
       "[]     2320"
      ]
     },
     "execution_count": 42,
     "metadata": {},
     "output_type": "execute_result"
    }
   ],
   "source": [
    "pd.DataFrame(metaDF.feature.value_counts())"
   ]
  },
  {
   "cell_type": "code",
   "execution_count": 43,
   "id": "5ef2b675",
   "metadata": {},
   "outputs": [],
   "source": [
    "metaDF = metaDF.drop(columns = 'feature')"
   ]
  },
  {
   "cell_type": "markdown",
   "id": "7f12a5cc",
   "metadata": {},
   "source": [
    "## Rank"
   ]
  },
  {
   "cell_type": "code",
   "execution_count": 46,
   "id": "a2d4afcc",
   "metadata": {},
   "outputs": [
    {
     "data": {
      "text/html": [
       "<div>\n",
       "<style scoped>\n",
       "    .dataframe tbody tr th:only-of-type {\n",
       "        vertical-align: middle;\n",
       "    }\n",
       "\n",
       "    .dataframe tbody tr th {\n",
       "        vertical-align: top;\n",
       "    }\n",
       "\n",
       "    .dataframe thead th {\n",
       "        text-align: right;\n",
       "    }\n",
       "</style>\n",
       "<table border=\"1\" class=\"dataframe\">\n",
       "  <thead>\n",
       "    <tr style=\"text-align: right;\">\n",
       "      <th></th>\n",
       "      <th>rank</th>\n",
       "    </tr>\n",
       "  </thead>\n",
       "  <tbody>\n",
       "    <tr>\n",
       "      <th>[]</th>\n",
       "      <td>1057</td>\n",
       "    </tr>\n",
       "    <tr>\n",
       "      <th>350 in Magazine Subscriptions (</th>\n",
       "      <td>4</td>\n",
       "    </tr>\n",
       "    <tr>\n",
       "      <th>705 in Magazine Subscriptions (</th>\n",
       "      <td>3</td>\n",
       "    </tr>\n",
       "    <tr>\n",
       "      <th>1,508 in Magazine Subscriptions (</th>\n",
       "      <td>3</td>\n",
       "    </tr>\n",
       "    <tr>\n",
       "      <th>654 in Magazine Subscriptions (</th>\n",
       "      <td>3</td>\n",
       "    </tr>\n",
       "    <tr>\n",
       "      <th>...</th>\n",
       "      <td>...</td>\n",
       "    </tr>\n",
       "    <tr>\n",
       "      <th>1,686 in Magazine Subscriptions (</th>\n",
       "      <td>1</td>\n",
       "    </tr>\n",
       "    <tr>\n",
       "      <th>382 in Magazine Subscriptions (</th>\n",
       "      <td>1</td>\n",
       "    </tr>\n",
       "    <tr>\n",
       "      <th>8,350 in Magazine Subscriptions (</th>\n",
       "      <td>1</td>\n",
       "    </tr>\n",
       "    <tr>\n",
       "      <th>1,207 in Magazine Subscriptions (</th>\n",
       "      <td>1</td>\n",
       "    </tr>\n",
       "    <tr>\n",
       "      <th>1,511 in Magazine Subscriptions (</th>\n",
       "      <td>1</td>\n",
       "    </tr>\n",
       "  </tbody>\n",
       "</table>\n",
       "<p>1057 rows × 1 columns</p>\n",
       "</div>"
      ],
      "text/plain": [
       "                                   rank\n",
       "[]                                 1057\n",
       "350 in Magazine Subscriptions (       4\n",
       "705 in Magazine Subscriptions (       3\n",
       "1,508 in Magazine Subscriptions (     3\n",
       "654 in Magazine Subscriptions (       3\n",
       "...                                 ...\n",
       "1,686 in Magazine Subscriptions (     1\n",
       "382 in Magazine Subscriptions (       1\n",
       "8,350 in Magazine Subscriptions (     1\n",
       "1,207 in Magazine Subscriptions (     1\n",
       "1,511 in Magazine Subscriptions (     1\n",
       "\n",
       "[1057 rows x 1 columns]"
      ]
     },
     "execution_count": 46,
     "metadata": {},
     "output_type": "execute_result"
    }
   ],
   "source": [
    "pd.set_option('display.max_rows', 20)\n",
    "pd.DataFrame(metaDF['rank'].value_counts())"
   ]
  },
  {
   "cell_type": "code",
   "execution_count": 47,
   "id": "4e039979",
   "metadata": {},
   "outputs": [],
   "source": [
    "metaDF = metaDF.drop(columns = 'rank')"
   ]
  },
  {
   "cell_type": "markdown",
   "id": "21d3a94b",
   "metadata": {},
   "source": [
    "## Also view"
   ]
  },
  {
   "cell_type": "code",
   "execution_count": 48,
   "id": "0e78a8b5",
   "metadata": {},
   "outputs": [
    {
     "data": {
      "text/html": [
       "<div>\n",
       "<style scoped>\n",
       "    .dataframe tbody tr th:only-of-type {\n",
       "        vertical-align: middle;\n",
       "    }\n",
       "\n",
       "    .dataframe tbody tr th {\n",
       "        vertical-align: top;\n",
       "    }\n",
       "\n",
       "    .dataframe thead th {\n",
       "        text-align: right;\n",
       "    }\n",
       "</style>\n",
       "<table border=\"1\" class=\"dataframe\">\n",
       "  <thead>\n",
       "    <tr style=\"text-align: right;\">\n",
       "      <th></th>\n",
       "      <th>also_view</th>\n",
       "    </tr>\n",
       "  </thead>\n",
       "  <tbody>\n",
       "    <tr>\n",
       "      <th>[]</th>\n",
       "      <td>1018</td>\n",
       "    </tr>\n",
       "    <tr>\n",
       "      <th>['B00005NIOH']</th>\n",
       "      <td>2</td>\n",
       "    </tr>\n",
       "    <tr>\n",
       "      <th>['B00VQTC94E']</th>\n",
       "      <td>2</td>\n",
       "    </tr>\n",
       "    <tr>\n",
       "      <th>['B00S8SNO6I']</th>\n",
       "      <td>2</td>\n",
       "    </tr>\n",
       "    <tr>\n",
       "      <th>['B001TP73UU']</th>\n",
       "      <td>2</td>\n",
       "    </tr>\n",
       "    <tr>\n",
       "      <th>...</th>\n",
       "      <td>...</td>\n",
       "    </tr>\n",
       "    <tr>\n",
       "      <th>['B00006KYVC']</th>\n",
       "      <td>1</td>\n",
       "    </tr>\n",
       "    <tr>\n",
       "      <th>['B002PXW1D4', 'B01BM7TOU6', 'B000SKWFL4', 'B002PXVYD2', 'B000BNNIGO', 'B000060MKJ']</th>\n",
       "      <td>1</td>\n",
       "    </tr>\n",
       "    <tr>\n",
       "      <th>['B01FV51XLI', 'B002CT513S', 'B002BFZ9NA', 'B0025ZOVEO', 'B000NY15XE', 'B00009YEQY', 'B01HVTK1R4', 'B002PXVYZ0', 'B00006KOMK', 'B00ZDXLBEI', 'B0195OK1Z0', 'B01FIR6EUY', 'B00007AZWJ', 'B00006KP86', '1440579776', 'B01MCU84LB', 'B001TP73T6', 'B00005NIOH', 'B002G551F6', 'B001THPA26', 'B002PXVYEQ']</th>\n",
       "      <td>1</td>\n",
       "    </tr>\n",
       "    <tr>\n",
       "      <th>['0806989939', '1508831661', '1402774575', '1981833013', '1981522174', '1502396327', '1530512018', 'B00B4J6C2Q', '0806981105', '1454916303', '1724196863', '1981437177', '1730952771', '0806939826', '1548869597', '1542430747', '1514739526', '1402713134', '1729425143', '1522792910', '0692741011', '1480267309', '0806907568', '1979075255', 'B076DDGDK6', '1537639447', '1987606000', '0998665614', '1454900059', '1942268998', '1505977886', '140270139X', '1544969724', 'B0160CMJ64', '1983644927', '154494327X', '1548632279', 'B002M4XJSC', '0806987847', 'B003I7HS5M', '1535221259', '1974432726', 'B00X7R1FZ2']</th>\n",
       "      <td>1</td>\n",
       "    </tr>\n",
       "    <tr>\n",
       "      <th>['B003K195WA', 'B002CT51EM', 'B003K195Y8', 'B0047VIAI2', 'B002PXVZR2', 'B002CT512O', 'B002PXVZGI', 'B0047VIAFA', 'B002PXVYFA', 'B002PXVYGO', 'B002PXVYRI', 'B002PXW12U', 'B0061SHL2U', 'B002PXVZUO', 'B000G6DK5U', 'B002PXVZHM', 'B00ZDXLBEI', 'B002PXVYEQ', 'B002PXVYF0', 'B0061SHL48', 'B0029XHGSU', 'B01MZZP3M7', 'B002PXW0LW', 'B002BFZ9NA', '1616287292', 'B0061SHL16', 'B01N819UDU', 'B002PXW06C', 'B0061SHKQ2', 'B01FV53QKO', '1620878127', 'B004GVZUU4', 'B002G551F6', 'B001THPA3U', 'B002CT514C', 'B0029XHGRQ', 'B0061SHKVW', 'B002G551EM', 'B002ANPG4U', 'B079BJTVHX', '1589237951', 'B000089G53', 'B001THPA26', 'B0047VIAHS', 'B0029XHGVM', 'B004GVZUUY', 'B001TP73UU', 'B00KRPPEWW', 'B00062PBQU', 'B079JCLNZ4', 'B00007AXX1', 'B0036QY68W', 'B001TP73UA', 'B002CT515Q', 'B00005NIPY', 'B002PXVYVE', 'B00821QSCI', 'B0029XHGVC', 'B002BFZ9MQ']</th>\n",
       "      <td>1</td>\n",
       "    </tr>\n",
       "  </tbody>\n",
       "</table>\n",
       "<p>1291 rows × 1 columns</p>\n",
       "</div>"
      ],
      "text/plain": [
       "                                                    also_view\n",
       "[]                                                       1018\n",
       "['B00005NIOH']                                              2\n",
       "['B00VQTC94E']                                              2\n",
       "['B00S8SNO6I']                                              2\n",
       "['B001TP73UU']                                              2\n",
       "...                                                       ...\n",
       "['B00006KYVC']                                              1\n",
       "['B002PXW1D4', 'B01BM7TOU6', 'B000SKWFL4', 'B00...          1\n",
       "['B01FV51XLI', 'B002CT513S', 'B002BFZ9NA', 'B00...          1\n",
       "['0806989939', '1508831661', '1402774575', '198...          1\n",
       "['B003K195WA', 'B002CT51EM', 'B003K195Y8', 'B00...          1\n",
       "\n",
       "[1291 rows x 1 columns]"
      ]
     },
     "execution_count": 48,
     "metadata": {},
     "output_type": "execute_result"
    }
   ],
   "source": [
    "pd.DataFrame(metaDF.also_view.value_counts())"
   ]
  },
  {
   "cell_type": "code",
   "execution_count": 49,
   "id": "d47b1f64",
   "metadata": {},
   "outputs": [],
   "source": [
    "metaDF = metaDF.drop(columns = 'also_view')"
   ]
  },
  {
   "cell_type": "markdown",
   "id": "5c3bbaf3",
   "metadata": {},
   "source": [
    "## Details"
   ]
  },
  {
   "cell_type": "code",
   "execution_count": 50,
   "id": "e5862a00",
   "metadata": {},
   "outputs": [
    {
     "data": {
      "text/html": [
       "<div>\n",
       "<style scoped>\n",
       "    .dataframe tbody tr th:only-of-type {\n",
       "        vertical-align: middle;\n",
       "    }\n",
       "\n",
       "    .dataframe tbody tr th {\n",
       "        vertical-align: top;\n",
       "    }\n",
       "\n",
       "    .dataframe thead th {\n",
       "        text-align: right;\n",
       "    }\n",
       "</style>\n",
       "<table border=\"1\" class=\"dataframe\">\n",
       "  <thead>\n",
       "    <tr style=\"text-align: right;\">\n",
       "      <th></th>\n",
       "      <th>details</th>\n",
       "    </tr>\n",
       "  </thead>\n",
       "  <tbody>\n",
       "    <tr>\n",
       "      <th>{'Format:': 'Print Magazine', 'Shipping: ': 'Currently, item can be shipped only within the U.S.', 'Publisher:': 'Selvedge', 'ASIN: ': 'B0009GJBD2'}</th>\n",
       "      <td>2</td>\n",
       "    </tr>\n",
       "    <tr>\n",
       "      <th>{'Format:': 'Print Magazine', 'Shipping: ': 'Currently, item can be shipped only within the U.S.', 'Publisher:': 'Discovery Girls', 'ASIN: ': 'B0000633EA'}</th>\n",
       "      <td>2</td>\n",
       "    </tr>\n",
       "    <tr>\n",
       "      <th>{'Format:': 'Print Magazine', 'Shipping: ': 'Currently, item can be shipped only within the U.S.', 'Publisher:': 'Cond Nast Publications', 'ASIN: ': 'B00005NIRG'}</th>\n",
       "      <td>2</td>\n",
       "    </tr>\n",
       "    <tr>\n",
       "      <th>{'Format:': 'Print Magazine', 'Shipping: ': 'Currently, item can be shipped only within the U.S.', 'Publisher:': 'AirAge Publishing', 'ASIN: ': 'B00005N7O9'}</th>\n",
       "      <td>2</td>\n",
       "    </tr>\n",
       "    <tr>\n",
       "      <th>{'Format:': 'Print Magazine', 'Shipping: ': 'Currently, item can be shipped only within the U.S.', 'Publisher:': 'Eg Media Investments Llc', 'ASIN: ': 'B00007AXX1'}</th>\n",
       "      <td>2</td>\n",
       "    </tr>\n",
       "    <tr>\n",
       "      <th>...</th>\n",
       "      <td>...</td>\n",
       "    </tr>\n",
       "    <tr>\n",
       "      <th>{'Format:': 'Print Magazine', 'Shipping: ': 'Currently, item can be shipped only within the U.S.', 'Publisher:': 'Phi Beta Kappa Society', 'ASIN: ': 'B00006K3ES'}</th>\n",
       "      <td>1</td>\n",
       "    </tr>\n",
       "    <tr>\n",
       "      <th>{'Format:': 'Print Magazine', 'Shipping: ': 'Currently, item can be shipped only within the U.S.', 'Publisher:': 'American Ceramic Society', 'ASIN: ': 'B00006KT8P'}</th>\n",
       "      <td>1</td>\n",
       "    </tr>\n",
       "    <tr>\n",
       "      <th>{'Format:': 'Print Magazine', 'Shipping: ': 'Currently, item can be shipped only within the U.S.', 'Publisher:': 'Source Media Ventures', 'ASIN: ': 'B00007B1C3'}</th>\n",
       "      <td>1</td>\n",
       "    </tr>\n",
       "    <tr>\n",
       "      <th>{'Format:': 'Print Magazine', 'Shipping: ': 'Currently, item can be shipped only within the U.S.', 'Publisher:': 'Gruner Und Jahr Ag &amp; Co', 'ASIN: ': 'B00007AVRP'}</th>\n",
       "      <td>1</td>\n",
       "    </tr>\n",
       "    <tr>\n",
       "      <th>{'Format:': 'Print Magazine', 'Shipping: ': 'Currently, item can be shipped only within the U.S.', 'Publisher:': 'USA Today', 'ASIN: ': 'B0002LCXSY'}</th>\n",
       "      <td>1</td>\n",
       "    </tr>\n",
       "  </tbody>\n",
       "</table>\n",
       "<p>2311 rows × 1 columns</p>\n",
       "</div>"
      ],
      "text/plain": [
       "                                                    details\n",
       "{'Format:': 'Print Magazine', 'Shipping: ': 'Cu...        2\n",
       "{'Format:': 'Print Magazine', 'Shipping: ': 'Cu...        2\n",
       "{'Format:': 'Print Magazine', 'Shipping: ': 'Cu...        2\n",
       "{'Format:': 'Print Magazine', 'Shipping: ': 'Cu...        2\n",
       "{'Format:': 'Print Magazine', 'Shipping: ': 'Cu...        2\n",
       "...                                                     ...\n",
       "{'Format:': 'Print Magazine', 'Shipping: ': 'Cu...        1\n",
       "{'Format:': 'Print Magazine', 'Shipping: ': 'Cu...        1\n",
       "{'Format:': 'Print Magazine', 'Shipping: ': 'Cu...        1\n",
       "{'Format:': 'Print Magazine', 'Shipping: ': 'Cu...        1\n",
       "{'Format:': 'Print Magazine', 'Shipping: ': 'Cu...        1\n",
       "\n",
       "[2311 rows x 1 columns]"
      ]
     },
     "execution_count": 50,
     "metadata": {},
     "output_type": "execute_result"
    }
   ],
   "source": [
    "pd.DataFrame(metaDF.details.value_counts())"
   ]
  },
  {
   "cell_type": "code",
   "execution_count": 51,
   "id": "b16eeec3",
   "metadata": {},
   "outputs": [],
   "source": [
    "detailsDF = metaDF['details'].map(eval).apply(pd.Series)"
   ]
  },
  {
   "cell_type": "code",
   "execution_count": 52,
   "id": "435c68af",
   "metadata": {},
   "outputs": [
    {
     "data": {
      "text/html": [
       "<div>\n",
       "<style scoped>\n",
       "    .dataframe tbody tr th:only-of-type {\n",
       "        vertical-align: middle;\n",
       "    }\n",
       "\n",
       "    .dataframe tbody tr th {\n",
       "        vertical-align: top;\n",
       "    }\n",
       "\n",
       "    .dataframe thead th {\n",
       "        text-align: right;\n",
       "    }\n",
       "</style>\n",
       "<table border=\"1\" class=\"dataframe\">\n",
       "  <thead>\n",
       "    <tr style=\"text-align: right;\">\n",
       "      <th></th>\n",
       "      <th>Format:</th>\n",
       "      <th>Shipping:</th>\n",
       "      <th>Publisher:</th>\n",
       "      <th>ASIN:</th>\n",
       "    </tr>\n",
       "  </thead>\n",
       "  <tbody>\n",
       "    <tr>\n",
       "      <th>0</th>\n",
       "      <td>Print Magazine</td>\n",
       "      <td>Currently, item can be shipped only within the...</td>\n",
       "      <td>Reason Magazine</td>\n",
       "      <td>B00005N7NQ</td>\n",
       "    </tr>\n",
       "    <tr>\n",
       "      <th>1</th>\n",
       "      <td>Print Magazine</td>\n",
       "      <td>Currently, item can be shipped only within the...</td>\n",
       "      <td>String Letter Publishers</td>\n",
       "      <td>B00005N7OC</td>\n",
       "    </tr>\n",
       "    <tr>\n",
       "      <th>2</th>\n",
       "      <td>Print Magazine</td>\n",
       "      <td>Currently, item can be shipped only within the...</td>\n",
       "      <td>Conde Nast Publications</td>\n",
       "      <td>B00005N7OD</td>\n",
       "    </tr>\n",
       "    <tr>\n",
       "      <th>3</th>\n",
       "      <td>Print Magazine</td>\n",
       "      <td>Currently, item can be shipped only within the...</td>\n",
       "      <td>AirAge Publishing</td>\n",
       "      <td>B00005N7O9</td>\n",
       "    </tr>\n",
       "    <tr>\n",
       "      <th>4</th>\n",
       "      <td>Print Magazine</td>\n",
       "      <td>Currently, item can be shipped only within the...</td>\n",
       "      <td>EPG Media &amp; Specialty Information</td>\n",
       "      <td>B00005N7O6</td>\n",
       "    </tr>\n",
       "  </tbody>\n",
       "</table>\n",
       "</div>"
      ],
      "text/plain": [
       "          Format:                                         Shipping:   \\\n",
       "0  Print Magazine  Currently, item can be shipped only within the...   \n",
       "1  Print Magazine  Currently, item can be shipped only within the...   \n",
       "2  Print Magazine  Currently, item can be shipped only within the...   \n",
       "3  Print Magazine  Currently, item can be shipped only within the...   \n",
       "4  Print Magazine  Currently, item can be shipped only within the...   \n",
       "\n",
       "                          Publisher:      ASIN:   \n",
       "0                    Reason Magazine  B00005N7NQ  \n",
       "1           String Letter Publishers  B00005N7OC  \n",
       "2            Conde Nast Publications  B00005N7OD  \n",
       "3                  AirAge Publishing  B00005N7O9  \n",
       "4  EPG Media & Specialty Information  B00005N7O6  "
      ]
     },
     "execution_count": 52,
     "metadata": {},
     "output_type": "execute_result"
    }
   ],
   "source": [
    "detailsDF.head()"
   ]
  },
  {
   "cell_type": "code",
   "execution_count": 53,
   "id": "3c1cd4a2",
   "metadata": {},
   "outputs": [],
   "source": [
    "detailsDF = detailsDF.rename(columns = lambda x: x.strip()[:-1])"
   ]
  },
  {
   "cell_type": "code",
   "execution_count": 54,
   "id": "2ede1b31",
   "metadata": {},
   "outputs": [
    {
     "data": {
      "text/plain": [
       "Print Magazine           2166\n",
       "NaN                       148\n",
       "Single Issue Magazine       3\n",
       "DVD                         1\n",
       "Unknown Binding             1\n",
       "Perfect Paperback           1\n",
       "Name: Format, dtype: int64"
      ]
     },
     "execution_count": 54,
     "metadata": {},
     "output_type": "execute_result"
    }
   ],
   "source": [
    "detailsDF['Format'].value_counts(dropna = False)"
   ]
  },
  {
   "cell_type": "code",
   "execution_count": 55,
   "id": "b40b9413",
   "metadata": {},
   "outputs": [
    {
     "data": {
      "text/plain": [
       "Hearst Magazines                255\n",
       "Conde Nast                      184\n",
       "NaN                             147\n",
       "Meredith                         48\n",
       "Bonnier Corporation              43\n",
       "                               ... \n",
       "Meine Familie Und Ich Verlag      1\n",
       "Keck Media                        1\n",
       "America Press Inc                 1\n",
       "Basketball Times %John Akers      1\n",
       "Aperture                          1\n",
       "Name: Publisher, Length: 943, dtype: int64"
      ]
     },
     "execution_count": 55,
     "metadata": {},
     "output_type": "execute_result"
    }
   ],
   "source": [
    "detailsDF['Publisher'].value_counts(dropna = False)"
   ]
  },
  {
   "cell_type": "code",
   "execution_count": 56,
   "id": "e24491a1",
   "metadata": {},
   "outputs": [
    {
     "data": {
      "text/plain": [
       "Currently, item can be shipped only within the U.S.    2320\n",
       "Name: Shipping, dtype: int64"
      ]
     },
     "execution_count": 56,
     "metadata": {},
     "output_type": "execute_result"
    }
   ],
   "source": [
    "detailsDF['Shipping'].value_counts(dropna = False)"
   ]
  },
  {
   "cell_type": "code",
   "execution_count": 57,
   "id": "c24ef56a",
   "metadata": {},
   "outputs": [
    {
     "data": {
      "text/plain": [
       "B00007AXX1    2\n",
       "B00005NIRG    2\n",
       "B0000633EA    2\n",
       "B000FTJ7JQ    2\n",
       "B00005N7O9    2\n",
       "             ..\n",
       "B01DAP1UT6    1\n",
       "B00TGFD3H2    1\n",
       "B01705ZPWA    1\n",
       "B000INAYI2    1\n",
       "B000060ML6    1\n",
       "Name: ASIN, Length: 2311, dtype: int64"
      ]
     },
     "execution_count": 57,
     "metadata": {},
     "output_type": "execute_result"
    }
   ],
   "source": [
    "detailsDF['ASIN'].value_counts(dropna = False)"
   ]
  },
  {
   "cell_type": "code",
   "execution_count": 58,
   "id": "bca20292",
   "metadata": {},
   "outputs": [],
   "source": [
    "metaDF = metaDF.drop(columns = 'details')"
   ]
  },
  {
   "cell_type": "markdown",
   "id": "870f344e",
   "metadata": {},
   "source": [
    "## Similar item"
   ]
  },
  {
   "cell_type": "code",
   "execution_count": 59,
   "id": "19da5633",
   "metadata": {},
   "outputs": [
    {
     "data": {
      "text/html": [
       "<div>\n",
       "<style scoped>\n",
       "    .dataframe tbody tr th:only-of-type {\n",
       "        vertical-align: middle;\n",
       "    }\n",
       "\n",
       "    .dataframe tbody tr th {\n",
       "        vertical-align: top;\n",
       "    }\n",
       "\n",
       "    .dataframe thead th {\n",
       "        text-align: right;\n",
       "    }\n",
       "</style>\n",
       "<table border=\"1\" class=\"dataframe\">\n",
       "  <thead>\n",
       "    <tr style=\"text-align: right;\">\n",
       "      <th></th>\n",
       "      <th>similar_item</th>\n",
       "    </tr>\n",
       "  </thead>\n",
       "  <tbody>\n",
       "    <tr>\n",
       "      <th></th>\n",
       "      <td>2320</td>\n",
       "    </tr>\n",
       "  </tbody>\n",
       "</table>\n",
       "</div>"
      ],
      "text/plain": [
       "  similar_item\n",
       "          2320"
      ]
     },
     "execution_count": 59,
     "metadata": {},
     "output_type": "execute_result"
    }
   ],
   "source": [
    "pd.DataFrame(metaDF.similar_item.value_counts())"
   ]
  },
  {
   "cell_type": "code",
   "execution_count": 60,
   "id": "06e185ff",
   "metadata": {},
   "outputs": [],
   "source": [
    "metaDF = metaDF.drop(columns = 'similar_item')"
   ]
  },
  {
   "cell_type": "markdown",
   "id": "15dad888",
   "metadata": {},
   "source": [
    "## Date"
   ]
  },
  {
   "cell_type": "code",
   "execution_count": 61,
   "id": "970aa657",
   "metadata": {},
   "outputs": [
    {
     "data": {
      "text/html": [
       "<div>\n",
       "<style scoped>\n",
       "    .dataframe tbody tr th:only-of-type {\n",
       "        vertical-align: middle;\n",
       "    }\n",
       "\n",
       "    .dataframe tbody tr th {\n",
       "        vertical-align: top;\n",
       "    }\n",
       "\n",
       "    .dataframe thead th {\n",
       "        text-align: right;\n",
       "    }\n",
       "</style>\n",
       "<table border=\"1\" class=\"dataframe\">\n",
       "  <thead>\n",
       "    <tr style=\"text-align: right;\">\n",
       "      <th></th>\n",
       "      <th>date</th>\n",
       "    </tr>\n",
       "  </thead>\n",
       "  <tbody>\n",
       "    <tr>\n",
       "      <th></th>\n",
       "      <td>2320</td>\n",
       "    </tr>\n",
       "  </tbody>\n",
       "</table>\n",
       "</div>"
      ],
      "text/plain": [
       "  date\n",
       "  2320"
      ]
     },
     "execution_count": 61,
     "metadata": {},
     "output_type": "execute_result"
    }
   ],
   "source": [
    "pd.DataFrame(metaDF.date.value_counts())"
   ]
  },
  {
   "cell_type": "code",
   "execution_count": 62,
   "id": "5051d44b",
   "metadata": {},
   "outputs": [],
   "source": [
    "metaDF = metaDF.drop(columns = 'date')"
   ]
  },
  {
   "cell_type": "markdown",
   "id": "a7f3bdb8",
   "metadata": {},
   "source": [
    "## Price"
   ]
  },
  {
   "cell_type": "code",
   "execution_count": 63,
   "id": "e1daba93",
   "metadata": {},
   "outputs": [
    {
     "data": {
      "text/html": [
       "<div>\n",
       "<style scoped>\n",
       "    .dataframe tbody tr th:only-of-type {\n",
       "        vertical-align: middle;\n",
       "    }\n",
       "\n",
       "    .dataframe tbody tr th {\n",
       "        vertical-align: top;\n",
       "    }\n",
       "\n",
       "    .dataframe thead th {\n",
       "        text-align: right;\n",
       "    }\n",
       "</style>\n",
       "<table border=\"1\" class=\"dataframe\">\n",
       "  <thead>\n",
       "    <tr style=\"text-align: right;\">\n",
       "      <th></th>\n",
       "      <th>price</th>\n",
       "    </tr>\n",
       "  </thead>\n",
       "  <tbody>\n",
       "    <tr>\n",
       "      <th></th>\n",
       "      <td>2304</td>\n",
       "    </tr>\n",
       "    <tr>\n",
       "      <th>.a-box-inner{background-color:#fff}#alohaBuyBoxWidget .selected{background-color:#fffbf3;border-color:#e77600;box-shadow:0 0 3px rgba(228,121,17,.5)}#alohaBuyBoxWidget .contract-not-available{color:gray}#aloha-cart-popover .aloha-cart{height:auto;overflow:hidden}#aloha-cart-popover #aloha-cartInfo{float:left}#aloha-cart-popover #aloha-cart-details{float:right;margin-top:1em}#aloha-cart-popover .deviceContainer{width:160px;float:left;padding-right:10px;border-right:1px solid #ddd}#aloha-cart-popover li:last-child{border-right:0}#aloha-cart-popover .aloha-device-title{height:3em;overflow:hidden}#aloha-cart-popover .aloha-thumbnail-container{height:100px;margin-bottom:1em;text-align:center}#aloha-cart-popover .aloha-price-container{text-align:center}#aloha-cart-popover .aloha-thumbnail-container img{height:inherit}#aloha-cart-popover .aloha-cart{border-top:1px solid #ddd;border-bottom:1px solid #ddd}#aloha-cart-popover #aloha-cart-info{margin-right:0}#alohaBuyBoxWidget .without-contract-subheading{margin-right:0}#aloha-bb-help-nodes .aloha-bb-contract-term-heading{color:gray;font-family:arial;margin-top:.5em;text-align:center;height:.7em;border-bottom:1px solid gray;margin-bottom:1.6em}#aloha-bb-help-nodes .aloha-bb-contract-term-heading span{background-color:#fff;padding:0 10px 0 10px}#alohaAvailabilityUS_feature_div .availability a{text-decoration:none}#alohaPricingWidget a{text-decoration:none}#alohaAvailabilityUS_feature_div .availability{margin-top:-4px;margin-bottom:0}#alohaBuyBoxWidget .select-transaction-alert .a-icon-alert{top:18px;left:3px}#alohaBuyBoxWidget .select-transaction-alert .a-alert-container{padding-left:39px;width:290px}#alohaBuyBoxUS_feature_div #alohaBuyBoxWidget .contract-container .contract-term-heading a{text-decoration:none}#alohaBuyBoxUS_feature_div #alohaBuyBoxWidget .annual-contract-box .a-icon-popover{display:none}#alohaBuyBoxUS_feature_div #alohaBuyBoxWidget .contract-container .annual-contract-box{cursor:pointer;cursor:hand}#alohaBuyBoxUS_feature_div #alohaBuyBoxWidget .aloha-buybox-price{font-size:15px}#alohaBuyBoxUS_feature_div #alohaBuyBoxWidget #linkOffSection a{text-decoration:none}#alohaBuyBoxUS_feature_div .lockedUsedBuyboxContainer{padding-left:3.5%}#alohaBuyBoxUS_feature_div .alohaBuyboxUtilsNoWrap{white-space:nowrap}.hidden{display:none}.simo-no-padding{padding:0}.carrier-reviews-cell{padding-left:10px}.carrier-reviews-bordered-cell{border:1px dotted #ccc}.carrier-reviews-selected-cell{background-color:#ffd}#aloha-carrier-compatibility-modal-table-description{margin-top:10px;margin-bottom:14px}.aloha-carrier-compatibility-sortable-header.carrier{min-width:97px}.aloha-carrier-compatibility-sortable-header.compatibility{min-width:156px}.aloha-carrier-compatibility-sortable-header div{float:left}.aloha-carrier-compatibility-sortable-header i.a-icon{margin-left:10px;margin-top:4px}#aloha-carrier-compatibility-overview-table.a-bordered.a-vertical-stripes td:nth-child(2n),#aloha-carrier-compatibility-overview-table.a-bordered.a-vertical-stripes th:nth-child(2n){background-color:initial}#aloha-carrier-compatibility-modal-table.a-bordered.a-vertical-stripes td:nth-child(2n),#aloha-carrier-compatibility-modal-table.a-bordered.a-vertical-stripes th:nth-child(2n){background-color:initial}#aloha-carrier-compatibility-table.a-bordered.a-vertical-stripes th:nth-child(2n),.aloha-carrier-compatibility-table.a-bordered.a-vertical-stripes td:nth-child(2n){background-color:transparent}.aloha-carrier-compatibility-column-gray{background-color:#f6f6f6}.aloha-carrier-compatibility-modal-table-row .aloha-carrier-compatibility-tech-text,.aloha-carrier-compatibility-modal-table-row .carrier-name,.aloha-carrier-compatibility-modal-table-row .carrier-rating-summary{min-height:27px;display:inline-block;cursor:default}.aloha-carrier-compatibility-modal-table-row .aloha-carrier-compatibility-tech-text:first-line,.aloha-carrier-compatibility-modal-table-row .carrier-name:first-line,.aloha-carrier-compatibility-modal-table-row .carrier-rating-summary:first-line{line-height:27px}.aloha-carrier-compatibility-modal-table-row .aloha-carrier-compatibility-icon{margin-top:6px}.aloha-carrier-compatibility-check-icon{width:30px;height:27px;background-position:-318px -35px;background-image:url(https://images-na.ssl-images-amazon.com/images/G/01/AUIClients/AmazonUIBaseCSS-sprite_2x-8e7ef370dc28a214b3f490c9620f4ac501d5a864._V2_.png);background-repeat:no-repeat;background-size:400px 650px;display:inline-block;vertical-align:top}.aloha-carrier-compatibility-hidden{display:none}.aloha-buybox-spaced-link{margin-top:12px;margin-bottom:7px;text-align:center}.popover-tab</th>\n",
       "      <td>15</td>\n",
       "    </tr>\n",
       "    <tr>\n",
       "      <th>\\n\\n\\n&lt;script</th>\n",
       "      <td>1</td>\n",
       "    </tr>\n",
       "  </tbody>\n",
       "</table>\n",
       "</div>"
      ],
      "text/plain": [
       "                                                    price\n",
       "                                                     2304\n",
       ".a-box-inner{background-color:#fff}#alohaBuyBox...     15\n",
       "\\n\\n\\n<script                                           1"
      ]
     },
     "execution_count": 63,
     "metadata": {},
     "output_type": "execute_result"
    }
   ],
   "source": [
    "pd.DataFrame(metaDF.price.value_counts())"
   ]
  },
  {
   "cell_type": "code",
   "execution_count": 64,
   "id": "a55ad211",
   "metadata": {},
   "outputs": [],
   "source": [
    "metaDF = metaDF.drop(columns = ['price', 'imageURL', 'imageURLHighRes'])"
   ]
  },
  {
   "cell_type": "markdown",
   "id": "133211a1",
   "metadata": {},
   "source": [
    "# Reviews data"
   ]
  },
  {
   "cell_type": "code",
   "execution_count": 65,
   "id": "836cc01f",
   "metadata": {},
   "outputs": [
    {
     "name": "stdout",
     "output_type": "stream",
     "text": [
      "<class 'pandas.core.frame.DataFrame'>\n",
      "Int64Index: 88496 entries, 0 to 89688\n",
      "Data columns (total 12 columns):\n",
      " #   Column          Non-Null Count  Dtype \n",
      "---  ------          --------------  ----- \n",
      " 0   overall         88496 non-null  object\n",
      " 1   vote            88496 non-null  object\n",
      " 2   verified        88496 non-null  object\n",
      " 3   reviewTime      88496 non-null  object\n",
      " 4   reviewerID      88496 non-null  object\n",
      " 5   asin            88496 non-null  object\n",
      " 6   reviewerName    88496 non-null  object\n",
      " 7   reviewText      88496 non-null  object\n",
      " 8   summary         88496 non-null  object\n",
      " 9   unixReviewTime  88496 non-null  object\n",
      " 10  style           88496 non-null  object\n",
      " 11  image           88496 non-null  object\n",
      "dtypes: object(12)\n",
      "memory usage: 8.8+ MB\n"
     ]
    }
   ],
   "source": [
    "reviewDF.info()"
   ]
  },
  {
   "cell_type": "code",
   "execution_count": 66,
   "id": "0ea3309f",
   "metadata": {},
   "outputs": [
    {
     "data": {
      "text/html": [
       "<div>\n",
       "<style scoped>\n",
       "    .dataframe tbody tr th:only-of-type {\n",
       "        vertical-align: middle;\n",
       "    }\n",
       "\n",
       "    .dataframe tbody tr th {\n",
       "        vertical-align: top;\n",
       "    }\n",
       "\n",
       "    .dataframe thead th {\n",
       "        text-align: right;\n",
       "    }\n",
       "</style>\n",
       "<table border=\"1\" class=\"dataframe\">\n",
       "  <thead>\n",
       "    <tr style=\"text-align: right;\">\n",
       "      <th></th>\n",
       "      <th>overall</th>\n",
       "      <th>reviewerID</th>\n",
       "      <th>asin</th>\n",
       "    </tr>\n",
       "  </thead>\n",
       "  <tbody>\n",
       "    <tr>\n",
       "      <th>0</th>\n",
       "      <td>5.0</td>\n",
       "      <td>AH2IFH762VY5U</td>\n",
       "      <td>B00005N7P0</td>\n",
       "    </tr>\n",
       "    <tr>\n",
       "      <th>1</th>\n",
       "      <td>5.0</td>\n",
       "      <td>AOSFI0JEYU4XM</td>\n",
       "      <td>B00005N7P0</td>\n",
       "    </tr>\n",
       "    <tr>\n",
       "      <th>2</th>\n",
       "      <td>3.0</td>\n",
       "      <td>A3JPFWKS83R49V</td>\n",
       "      <td>B00005N7OJ</td>\n",
       "    </tr>\n",
       "    <tr>\n",
       "      <th>3</th>\n",
       "      <td>5.0</td>\n",
       "      <td>A19FKU6JZQ2ECJ</td>\n",
       "      <td>B00005N7OJ</td>\n",
       "    </tr>\n",
       "    <tr>\n",
       "      <th>4</th>\n",
       "      <td>5.0</td>\n",
       "      <td>A25MDGOMZ2GALN</td>\n",
       "      <td>B00005N7P0</td>\n",
       "    </tr>\n",
       "    <tr>\n",
       "      <th>...</th>\n",
       "      <td>...</td>\n",
       "      <td>...</td>\n",
       "      <td>...</td>\n",
       "    </tr>\n",
       "    <tr>\n",
       "      <th>89684</th>\n",
       "      <td>5.0</td>\n",
       "      <td>AB5HCI50SF1TK</td>\n",
       "      <td>B01HI8V1C2</td>\n",
       "    </tr>\n",
       "    <tr>\n",
       "      <th>89685</th>\n",
       "      <td>1.0</td>\n",
       "      <td>A2X11NZMPI7M0T</td>\n",
       "      <td>B01HI8V1C2</td>\n",
       "    </tr>\n",
       "    <tr>\n",
       "      <th>89686</th>\n",
       "      <td>5.0</td>\n",
       "      <td>A3EGFFBRQVO7L7</td>\n",
       "      <td>B01HI8V1C2</td>\n",
       "    </tr>\n",
       "    <tr>\n",
       "      <th>89687</th>\n",
       "      <td>5.0</td>\n",
       "      <td>A3H23AVKFN62ZT</td>\n",
       "      <td>B01HIZSSQM</td>\n",
       "    </tr>\n",
       "    <tr>\n",
       "      <th>89688</th>\n",
       "      <td>5.0</td>\n",
       "      <td>A1N6M7HRWMDE3D</td>\n",
       "      <td>B01HIZSSQM</td>\n",
       "    </tr>\n",
       "  </tbody>\n",
       "</table>\n",
       "<p>88496 rows × 3 columns</p>\n",
       "</div>"
      ],
      "text/plain": [
       "      overall      reviewerID        asin\n",
       "0         5.0   AH2IFH762VY5U  B00005N7P0\n",
       "1         5.0   AOSFI0JEYU4XM  B00005N7P0\n",
       "2         3.0  A3JPFWKS83R49V  B00005N7OJ\n",
       "3         5.0  A19FKU6JZQ2ECJ  B00005N7OJ\n",
       "4         5.0  A25MDGOMZ2GALN  B00005N7P0\n",
       "...       ...             ...         ...\n",
       "89684     5.0   AB5HCI50SF1TK  B01HI8V1C2\n",
       "89685     1.0  A2X11NZMPI7M0T  B01HI8V1C2\n",
       "89686     5.0  A3EGFFBRQVO7L7  B01HI8V1C2\n",
       "89687     5.0  A3H23AVKFN62ZT  B01HIZSSQM\n",
       "89688     5.0  A1N6M7HRWMDE3D  B01HIZSSQM\n",
       "\n",
       "[88496 rows x 3 columns]"
      ]
     },
     "execution_count": 66,
     "metadata": {},
     "output_type": "execute_result"
    }
   ],
   "source": [
    "reviewDF = reviewDF[['overall', 'reviewerID', 'asin']]\n",
    "reviewDF"
   ]
  },
  {
   "cell_type": "code",
   "execution_count": 67,
   "id": "c594c996",
   "metadata": {},
   "outputs": [
    {
     "data": {
      "text/plain": [
       "2428"
      ]
     },
     "execution_count": 67,
     "metadata": {},
     "output_type": "execute_result"
    }
   ],
   "source": [
    "reviewDF.asin.nunique()"
   ]
  },
  {
   "cell_type": "markdown",
   "id": "edbe2dce",
   "metadata": {},
   "source": [
    "There are some reviewed products that are not in the products meta.  Let's remove these reviews."
   ]
  },
  {
   "cell_type": "code",
   "execution_count": 68,
   "id": "7c818c27",
   "metadata": {},
   "outputs": [],
   "source": [
    "reviewDF = reviewDF[reviewDF.asin.isin(metaDF.asin)]"
   ]
  },
  {
   "cell_type": "markdown",
   "id": "35f6914d",
   "metadata": {},
   "source": [
    "# Cleaned Datasets"
   ]
  },
  {
   "cell_type": "code",
   "execution_count": 69,
   "id": "58703939",
   "metadata": {},
   "outputs": [
    {
     "name": "stdout",
     "output_type": "stream",
     "text": [
      "<class 'pandas.core.frame.DataFrame'>\n",
      "Int64Index: 2320 entries, 0 to 3384\n",
      "Data columns (total 5 columns):\n",
      " #   Column       Non-Null Count  Dtype \n",
      "---  ------       --------------  ----- \n",
      " 0   category     2320 non-null   object\n",
      " 1   description  2320 non-null   object\n",
      " 2   title        2320 non-null   object\n",
      " 3   brand        2320 non-null   object\n",
      " 4   asin         2320 non-null   object\n",
      "dtypes: object(5)\n",
      "memory usage: 173.3+ KB\n"
     ]
    }
   ],
   "source": [
    "metaDF.info()"
   ]
  },
  {
   "cell_type": "code",
   "execution_count": 70,
   "id": "ec97af8f",
   "metadata": {},
   "outputs": [
    {
     "name": "stdout",
     "output_type": "stream",
     "text": [
      "<class 'pandas.core.frame.DataFrame'>\n",
      "Int64Index: 84167 entries, 0 to 89686\n",
      "Data columns (total 3 columns):\n",
      " #   Column      Non-Null Count  Dtype \n",
      "---  ------      --------------  ----- \n",
      " 0   overall     84167 non-null  object\n",
      " 1   reviewerID  84167 non-null  object\n",
      " 2   asin        84167 non-null  object\n",
      "dtypes: object(3)\n",
      "memory usage: 2.6+ MB\n"
     ]
    }
   ],
   "source": [
    "reviewDF.info()"
   ]
  },
  {
   "cell_type": "code",
   "execution_count": 71,
   "id": "b70479ef",
   "metadata": {},
   "outputs": [],
   "source": [
    "# Output cleaned dataframes\n",
    "metaDF.convert_dtypes().to_csv(r'Data/cleanedMeta.csv', index = True, header=True)\n",
    "reviewDF.convert_dtypes().to_csv(r'Data/cleanedReviews.csv', index = True, header=True)"
   ]
  }
 ],
 "metadata": {
  "kernelspec": {
   "display_name": "Python [conda env:root] *",
   "language": "python",
   "name": "conda-root-py"
  },
  "language_info": {
   "codemirror_mode": {
    "name": "ipython",
    "version": 3
   },
   "file_extension": ".py",
   "mimetype": "text/x-python",
   "name": "python",
   "nbconvert_exporter": "python",
   "pygments_lexer": "ipython3",
   "version": "3.8.10"
  }
 },
 "nbformat": 4,
 "nbformat_minor": 5
}
